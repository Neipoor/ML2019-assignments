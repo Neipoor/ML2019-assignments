{
  "nbformat": 4,
  "nbformat_minor": 0,
  "metadata": {
    "colab": {
      "name": "ML Assignment2.ipynb",
      "provenance": [],
      "collapsed_sections": [],
      "machine_shape": "hm",
      "include_colab_link": true
    },
    "kernelspec": {
      "name": "python3",
      "display_name": "Python 3"
    }
  },
  "cells": [
    {
      "cell_type": "markdown",
      "metadata": {
        "id": "view-in-github",
        "colab_type": "text"
      },
      "source": [
        "<a href=\"https://colab.research.google.com/github/Neipoor/ML2019-assignments/blob/master/ML_Assignment2.ipynb\" target=\"_parent\"><img src=\"https://colab.research.google.com/assets/colab-badge.svg\" alt=\"Open In Colab\"/></a>"
      ]
    },
    {
      "cell_type": "markdown",
      "metadata": {
        "id": "Uv9gZcc3KxZP",
        "colab_type": "text"
      },
      "source": [
        "# Machine Learning Exploration on Wine Data\n",
        "\n",
        "\n",
        "**32513 Machine Learning Spring 2019 Assignment 2**\n",
        "\n",
        "\n",
        "**Nianji Yang 13012531**\n"
      ]
    },
    {
      "cell_type": "markdown",
      "metadata": {
        "id": "UuCKEC7XLepi",
        "colab_type": "text"
      },
      "source": [
        "## 1. Introduction"
      ]
    },
    {
      "cell_type": "markdown",
      "metadata": {
        "id": "MH2RlgdYcKnv",
        "colab_type": "text"
      },
      "source": [
        "Wine has evolved as an important component of our diet, life and culture since the time-immemorial. It is an indispensable part for various occasions, from situations as mundane as an ordinary dinner to moments as meaningful as weddings. The wine market is huge, with 302.02 billion $USD in 2017 and expected to continue the growth at 5.8% per year [1]. An Australian over 15 years old will consume on average approximately 4 Litres of wine per year [2]. This figure is still far below the safe drinking threshold (circa. 51 Litres per year for female, 102 Litres per year for male) [3]. Globally, nearly half of the adult population are non-drinkers. Of those drinkers, more than three quarters do so only for no more than 2 days a week. For wine producers, this means that there is still a great potential of the wine market yet to be realised. \n",
        "\n",
        "One of the major reasons for low consumption of wine is a lack of ability to evaluate wine quality when making a purchase. Connoisseurs and experienced wine drinkers would be able to pick a preferred high-quality wine with ease. Casual or novice drinkers, on the contrary, are often puzzled by hundreds, or even thousands of wines to choose from. A great proportion of wine in liquor stores do not come with a rating (score) and the information on the packaging (e.g. region, varietal, etc) tells little about its quality to the inexperienced. Consequently, some consumers will be led by a discount catalogue or the extent of fanciness of the packaging and end up buying a wine with a poor quality. They may be disappointed by the flavours of their purchases, which will reduce the likelihood of them purchasing wine again.\n",
        "\n",
        "In sum, the lack of ability of the most casual drinkers to pick a good-quality wine eventually results in a loss of customers and hence reduced revenues for the wine market (i.e. producers). For consumers, this ‘ignorance’ also makes the purchasing and tasting experience unpleasant. Both sides can benefit from a solution which is aimed at predicting the quality of a wine based on characteristics known to the consumers. \n",
        "\n",
        "Research exists that aims to predict wine quality using physicochemical characteristics, such as pH, density, residual sugar [4]. The precision of such prediction is mediocre, averaging around 70% for both white and red wines. The model could be further optimised to achieve better accuracy but it is not a consumer-oriented approach as these physicochemical features cannot usually be accessed by consumers. Information that can be found on a bottle can be directly accessed by consumers. Consumers can get a first impression of wine by reading the review on its packaging. The review consists of a sensory analysis of the tasting experience of the wine and is related subtly to other characteristics of the wine, such as its varietal or region. Bernard Chen et al. wrote a very interesting paper looking into the possibility of predicting the quality of wine using the sensory analysis presented on the bottle [5]. Also, It would be rewarding if data mining of other information found on a wine bottle (e.g. region, vineyard, varietal) can be used to generate accurate prediction of wine quality (ratings). Such technique will benefit consumers by making their purchasing process easier and also the wine producers as more consumers will learn about their wines. This is also the aim for this report - to explore the possibility of developing an approach for predicting wine quality from the information that can be retrieved from wine packaging. \n"
      ]
    },
    {
      "cell_type": "markdown",
      "metadata": {
        "id": "knuT-XbrLrMj",
        "colab_type": "text"
      },
      "source": [
        "## 2. Exploration"
      ]
    },
    {
      "cell_type": "markdown",
      "metadata": {
        "id": "d_iExE_d6-cT",
        "colab_type": "text"
      },
      "source": [
        "### 2.1 Data Acquisition \n",
        "\n",
        "The dataset was downloaded from https://www.kaggle.com/zynicide/wine-reviews. The dataset is about wine reviews which includes details of different wine. The dataset is quite clean and interesting for NLP and classification, which were mentioned in our machine learning lectures. It is a quite awesome dataset for a beginner, like me, to practice. "
      ]
    },
    {
      "cell_type": "code",
      "metadata": {
        "id": "kSJOSq6pIGok",
        "colab_type": "code",
        "colab": {}
      },
      "source": [
        "import pandas as pd\n",
        "import pandas as pd\n",
        "import numpy as np"
      ],
      "execution_count": 0,
      "outputs": []
    },
    {
      "cell_type": "code",
      "metadata": {
        "id": "LbTmGPqVTheO",
        "colab_type": "code",
        "colab": {}
      },
      "source": [
        "# Load dataset from my personal Google Drice via PyDrive\n",
        "!pip install -U -q PyDrive\n",
        "from pydrive.auth import GoogleAuth\n",
        "from pydrive.drive import GoogleDrive\n",
        "from google.colab import auth\n",
        "from oauth2client.client import GoogleCredentials\n",
        "# Authenticate and create the PyDrive client\n",
        "auth.authenticate_user()\n",
        "gauth = GoogleAuth()\n",
        "gauth.credentials = GoogleCredentials.get_application_default()\n",
        "drive = GoogleDrive(gauth)"
      ],
      "execution_count": 0,
      "outputs": []
    },
    {
      "cell_type": "code",
      "metadata": {
        "id": "cihqBirZKbkg",
        "colab_type": "code",
        "colab": {}
      },
      "source": [
        "#The shared link for my wint-dataset from my Google Drive\n",
        "link = 'https://drive.google.com/open?id=1BXgoSJtlMSJei0Lo54lzHeT3QAfuCdP4'"
      ],
      "execution_count": 0,
      "outputs": []
    },
    {
      "cell_type": "code",
      "metadata": {
        "id": "_4cSO7BhKCL-",
        "colab_type": "code",
        "colab": {}
      },
      "source": [
        "fluff, id = link.split('=')\n",
        "downloaded = drive.CreateFile({'id':id}) \n",
        "downloaded.GetContentFile('winemag-data.csv')  \n",
        "df = pd.read_csv('winemag-data.csv')"
      ],
      "execution_count": 0,
      "outputs": []
    },
    {
      "cell_type": "markdown",
      "metadata": {
        "id": "9yiNtZpqA0fK",
        "colab_type": "text"
      },
      "source": [
        "### 2.2 Dataset Overview"
      ]
    },
    {
      "cell_type": "markdown",
      "metadata": {
        "id": "k-qV0mGYRD12",
        "colab_type": "text"
      },
      "source": [
        "The dataset includes 141617 rows and 15 columns when I downloaded it. "
      ]
    },
    {
      "cell_type": "code",
      "metadata": {
        "id": "d_C7Th8uAzdp",
        "colab_type": "code",
        "colab": {
          "base_uri": "https://localhost:8080/",
          "height": 306
        },
        "outputId": "8da416ae-b824-40de-b20e-d34afd198476"
      },
      "source": [
        "# Have a look at the content of wine dataset.\n",
        "df.head(5)"
      ],
      "execution_count": 5,
      "outputs": [
        {
          "output_type": "execute_result",
          "data": {
            "text/html": [
              "<div>\n",
              "<style scoped>\n",
              "    .dataframe tbody tr th:only-of-type {\n",
              "        vertical-align: middle;\n",
              "    }\n",
              "\n",
              "    .dataframe tbody tr th {\n",
              "        vertical-align: top;\n",
              "    }\n",
              "\n",
              "    .dataframe thead th {\n",
              "        text-align: right;\n",
              "    }\n",
              "</style>\n",
              "<table border=\"1\" class=\"dataframe\">\n",
              "  <thead>\n",
              "    <tr style=\"text-align: right;\">\n",
              "      <th></th>\n",
              "      <th>Unnamed: 0</th>\n",
              "      <th>country</th>\n",
              "      <th>description</th>\n",
              "      <th>designation</th>\n",
              "      <th>points</th>\n",
              "      <th>price</th>\n",
              "      <th>province</th>\n",
              "      <th>region_1</th>\n",
              "      <th>region_2</th>\n",
              "      <th>taster_name</th>\n",
              "      <th>taster_twitter_handle</th>\n",
              "      <th>title</th>\n",
              "      <th>variety</th>\n",
              "      <th>winery</th>\n",
              "      <th>vintage</th>\n",
              "    </tr>\n",
              "  </thead>\n",
              "  <tbody>\n",
              "    <tr>\n",
              "      <th>0</th>\n",
              "      <td>0</td>\n",
              "      <td>Italy</td>\n",
              "      <td>Aromas include tropical fruit, broom, brimston...</td>\n",
              "      <td>Vulkà Bianco</td>\n",
              "      <td>87</td>\n",
              "      <td>NaN</td>\n",
              "      <td>Sicily &amp; Sardinia</td>\n",
              "      <td>Etna</td>\n",
              "      <td>NaN</td>\n",
              "      <td>Kerin O’Keefe</td>\n",
              "      <td>@kerinokeefe</td>\n",
              "      <td>Nicosia 2013 Vulkà Bianco  (Etna)</td>\n",
              "      <td>White Blend</td>\n",
              "      <td>Nicosia</td>\n",
              "      <td>2013.0</td>\n",
              "    </tr>\n",
              "    <tr>\n",
              "      <th>1</th>\n",
              "      <td>1</td>\n",
              "      <td>Portugal</td>\n",
              "      <td>This is ripe and fruity, a wine that is smooth...</td>\n",
              "      <td>Avidagos</td>\n",
              "      <td>87</td>\n",
              "      <td>15.0</td>\n",
              "      <td>Douro</td>\n",
              "      <td>NaN</td>\n",
              "      <td>NaN</td>\n",
              "      <td>Roger Voss</td>\n",
              "      <td>@vossroger</td>\n",
              "      <td>Quinta dos Avidagos 2011 Avidagos Red (Douro)</td>\n",
              "      <td>Portuguese Red</td>\n",
              "      <td>Quinta dos Avidagos</td>\n",
              "      <td>2011.0</td>\n",
              "    </tr>\n",
              "    <tr>\n",
              "      <th>2</th>\n",
              "      <td>2</td>\n",
              "      <td>US</td>\n",
              "      <td>Tart and snappy, the flavors of lime flesh and...</td>\n",
              "      <td>NaN</td>\n",
              "      <td>87</td>\n",
              "      <td>14.0</td>\n",
              "      <td>Oregon</td>\n",
              "      <td>Willamette Valley</td>\n",
              "      <td>Willamette Valley</td>\n",
              "      <td>Paul Gregutt</td>\n",
              "      <td>@paulgwine</td>\n",
              "      <td>Rainstorm 2013 Pinot Gris (Willamette Valley)</td>\n",
              "      <td>Pinot Gris</td>\n",
              "      <td>Rainstorm</td>\n",
              "      <td>2013.0</td>\n",
              "    </tr>\n",
              "    <tr>\n",
              "      <th>3</th>\n",
              "      <td>3</td>\n",
              "      <td>US</td>\n",
              "      <td>Pineapple rind, lemon pith and orange blossom ...</td>\n",
              "      <td>Reserve Late Harvest</td>\n",
              "      <td>87</td>\n",
              "      <td>13.0</td>\n",
              "      <td>Michigan</td>\n",
              "      <td>Lake Michigan Shore</td>\n",
              "      <td>NaN</td>\n",
              "      <td>Alexander Peartree</td>\n",
              "      <td>NaN</td>\n",
              "      <td>St. Julian 2013 Reserve Late Harvest Riesling ...</td>\n",
              "      <td>Riesling</td>\n",
              "      <td>St. Julian</td>\n",
              "      <td>2013.0</td>\n",
              "    </tr>\n",
              "    <tr>\n",
              "      <th>4</th>\n",
              "      <td>4</td>\n",
              "      <td>US</td>\n",
              "      <td>Much like the regular bottling from 2012, this...</td>\n",
              "      <td>Vintner's Reserve Wild Child Block</td>\n",
              "      <td>87</td>\n",
              "      <td>65.0</td>\n",
              "      <td>Oregon</td>\n",
              "      <td>Willamette Valley</td>\n",
              "      <td>Willamette Valley</td>\n",
              "      <td>Paul Gregutt</td>\n",
              "      <td>@paulgwine</td>\n",
              "      <td>Sweet Cheeks 2012 Vintner's Reserve Wild Child...</td>\n",
              "      <td>Pinot Noir</td>\n",
              "      <td>Sweet Cheeks</td>\n",
              "      <td>2012.0</td>\n",
              "    </tr>\n",
              "  </tbody>\n",
              "</table>\n",
              "</div>"
            ],
            "text/plain": [
              "   Unnamed: 0   country  ...               winery vintage\n",
              "0           0     Italy  ...              Nicosia  2013.0\n",
              "1           1  Portugal  ...  Quinta dos Avidagos  2011.0\n",
              "2           2        US  ...            Rainstorm  2013.0\n",
              "3           3        US  ...           St. Julian  2013.0\n",
              "4           4        US  ...         Sweet Cheeks  2012.0\n",
              "\n",
              "[5 rows x 15 columns]"
            ]
          },
          "metadata": {
            "tags": []
          },
          "execution_count": 5
        }
      ]
    },
    {
      "cell_type": "code",
      "metadata": {
        "id": "s52g-Q8NCqTX",
        "colab_type": "code",
        "colab": {
          "base_uri": "https://localhost:8080/",
          "height": 34
        },
        "outputId": "df77a878-3f27-42b3-8d5e-ebd340bea63c"
      },
      "source": [
        "# Show the total number of rows and columns from wine dataset.\n",
        "df.shape"
      ],
      "execution_count": 6,
      "outputs": [
        {
          "output_type": "execute_result",
          "data": {
            "text/plain": [
              "(141617, 15)"
            ]
          },
          "metadata": {
            "tags": []
          },
          "execution_count": 6
        }
      ]
    },
    {
      "cell_type": "code",
      "metadata": {
        "id": "4_O0tsBlLyrI",
        "colab_type": "code",
        "colab": {}
      },
      "source": [
        "# The first column \"Unnamed: 0\" is useless, so I decided to delete it.\n",
        "df = df.drop(['Unnamed: 0'], axis = 1)"
      ],
      "execution_count": 0,
      "outputs": []
    },
    {
      "cell_type": "markdown",
      "metadata": {
        "id": "HEwjFHspNe_8",
        "colab_type": "text"
      },
      "source": [
        "### 2.3 Missing Value Treatment and Data Cleaning"
      ]
    },
    {
      "cell_type": "markdown",
      "metadata": {
        "id": "oOAmnD39SDVl",
        "colab_type": "text"
      },
      "source": [
        "First, we run the code to have a look at the missing values in each feature. "
      ]
    },
    {
      "cell_type": "code",
      "metadata": {
        "id": "92EaDCpsC0uJ",
        "colab_type": "code",
        "colab": {
          "base_uri": "https://localhost:8080/",
          "height": 204
        },
        "outputId": "93762f96-fd6c-463a-d4e1-0c89789aedb4"
      },
      "source": [
        "# Check the missing values\n",
        "def MissingValues(df):\n",
        "    total = df.isnull().sum().sort_values(ascending = False) \n",
        "    percent = (df.isnull().sum() / df.isnull().count() * 100 ).sort_values(ascending = False) \n",
        "    df = pd.concat([total, percent], axis=1, keys=['Total', 'Percent']) \n",
        "    print(df[~(df['Total'] == 0)])\n",
        "    return\n",
        "  \n",
        "MissingValues(df)"
      ],
      "execution_count": 8,
      "outputs": [
        {
          "output_type": "stream",
          "text": [
            "                       Total    Percent\n",
            "region_2               86832  61.314673\n",
            "designation            40182  28.373712\n",
            "taster_twitter_handle  30649  21.642176\n",
            "taster_name            24917  17.594639\n",
            "region_1               22886  16.160489\n",
            "price                   9658   6.819803\n",
            "vintage                 5234   3.695884\n",
            "province                  61   0.043074\n",
            "country                   61   0.043074\n",
            "variety                    1   0.000706\n"
          ],
          "name": "stdout"
        }
      ]
    },
    {
      "cell_type": "markdown",
      "metadata": {
        "id": "cOL7p32kCA2e",
        "colab_type": "text"
      },
      "source": [
        "Considering the feature \"region_2\" has lots of missing values and it is not a key feature in my analysis, I decided to delete this column. Also, since the feature \"taster_name\" and \"taster_twitter_handle\" will not be helpful in the further analysis and modelling, I decided to delete this column as well. Additionally, we can easily find that \"title\" is a mixed column which includes designation, region_1 and wine brand as well as vintage.Therefore, I decided to split it to delete this repetitive feature."
      ]
    },
    {
      "cell_type": "code",
      "metadata": {
        "id": "PpfkUQ1qA7I-",
        "colab_type": "code",
        "colab": {}
      },
      "source": [
        "df = df.drop(['region_2', 'taster_name', 'taster_twitter_handle', 'title'], axis = 1)"
      ],
      "execution_count": 0,
      "outputs": []
    },
    {
      "cell_type": "markdown",
      "metadata": {
        "id": "xHfWg0cIFjey",
        "colab_type": "text"
      },
      "source": [
        "Since the features \"country\" and \"price\" might be useful for further prediction and classification, I decided to drop rows with null value in these columns.The rows with null calues in \"variety\" and \"vintage\" were dropped as well. "
      ]
    },
    {
      "cell_type": "code",
      "metadata": {
        "id": "MAmdz-awGemp",
        "colab_type": "code",
        "colab": {
          "base_uri": "https://localhost:8080/",
          "height": 272
        },
        "outputId": "cb78c63c-680d-4939-925e-74157cfcecd2"
      },
      "source": [
        "df = df.dropna(subset=['country'])\n",
        "df = df.dropna(subset=['variety'])\n",
        "df = df.dropna(subset=['price'])\n",
        "df = df.dropna(subset=['vintage'])\n",
        "df.info()"
      ],
      "execution_count": 10,
      "outputs": [
        {
          "output_type": "stream",
          "text": [
            "<class 'pandas.core.frame.DataFrame'>\n",
            "Int64Index: 127144 entries, 1 to 141616\n",
            "Data columns (total 10 columns):\n",
            "country        127144 non-null object\n",
            "description    127144 non-null object\n",
            "designation    90146 non-null object\n",
            "points         127144 non-null int64\n",
            "price          127144 non-null float64\n",
            "province       127144 non-null object\n",
            "region_1       106594 non-null object\n",
            "variety        127144 non-null object\n",
            "winery         127144 non-null object\n",
            "vintage        127144 non-null float64\n",
            "dtypes: float64(2), int64(1), object(7)\n",
            "memory usage: 10.7+ MB\n"
          ],
          "name": "stdout"
        }
      ]
    },
    {
      "cell_type": "markdown",
      "metadata": {
        "id": "2sBugyMXUYJc",
        "colab_type": "text"
      },
      "source": [
        "Since the column \"description\" is assigned for each individual wine, so it should be unique.Therefore, the duplicates in feature \"description\" were removed."
      ]
    },
    {
      "cell_type": "code",
      "metadata": {
        "id": "BjlOcXmIlQkp",
        "colab_type": "code",
        "colab": {
          "base_uri": "https://localhost:8080/",
          "height": 272
        },
        "outputId": "466c5cf6-ebbe-4736-dd93-128815be0573"
      },
      "source": [
        "df = df.drop_duplicates('description')\n",
        "df.info()"
      ],
      "execution_count": 11,
      "outputs": [
        {
          "output_type": "stream",
          "text": [
            "<class 'pandas.core.frame.DataFrame'>\n",
            "Int64Index: 127115 entries, 1 to 141616\n",
            "Data columns (total 10 columns):\n",
            "country        127115 non-null object\n",
            "description    127115 non-null object\n",
            "designation    90127 non-null object\n",
            "points         127115 non-null int64\n",
            "price          127115 non-null float64\n",
            "province       127115 non-null object\n",
            "region_1       106568 non-null object\n",
            "variety        127115 non-null object\n",
            "winery         127115 non-null object\n",
            "vintage        127115 non-null float64\n",
            "dtypes: float64(2), int64(1), object(7)\n",
            "memory usage: 10.7+ MB\n"
          ],
          "name": "stdout"
        }
      ]
    },
    {
      "cell_type": "markdown",
      "metadata": {
        "id": "ihGuyx6ueMCx",
        "colab_type": "text"
      },
      "source": [
        "After these brief dataset cleaning, we take a look at the dataset.We can easily find that US produces most of wines, the most expensive wine is 5k, the most popular variety is Pinot Noir and the most frequent winery is Wines & Winemakers. The more detailed exploration will be shown in next section. "
      ]
    },
    {
      "cell_type": "code",
      "metadata": {
        "id": "QZIaf5DP2vMu",
        "colab_type": "code",
        "colab": {
          "base_uri": "https://localhost:8080/",
          "height": 390
        },
        "outputId": "572cbf89-aece-42f2-88b9-59c731b1fe7f"
      },
      "source": [
        "df.describe(include='all')"
      ],
      "execution_count": 12,
      "outputs": [
        {
          "output_type": "execute_result",
          "data": {
            "text/html": [
              "<div>\n",
              "<style scoped>\n",
              "    .dataframe tbody tr th:only-of-type {\n",
              "        vertical-align: middle;\n",
              "    }\n",
              "\n",
              "    .dataframe tbody tr th {\n",
              "        vertical-align: top;\n",
              "    }\n",
              "\n",
              "    .dataframe thead th {\n",
              "        text-align: right;\n",
              "    }\n",
              "</style>\n",
              "<table border=\"1\" class=\"dataframe\">\n",
              "  <thead>\n",
              "    <tr style=\"text-align: right;\">\n",
              "      <th></th>\n",
              "      <th>country</th>\n",
              "      <th>description</th>\n",
              "      <th>designation</th>\n",
              "      <th>points</th>\n",
              "      <th>price</th>\n",
              "      <th>province</th>\n",
              "      <th>region_1</th>\n",
              "      <th>variety</th>\n",
              "      <th>winery</th>\n",
              "      <th>vintage</th>\n",
              "    </tr>\n",
              "  </thead>\n",
              "  <tbody>\n",
              "    <tr>\n",
              "      <th>count</th>\n",
              "      <td>127115</td>\n",
              "      <td>127115</td>\n",
              "      <td>90127</td>\n",
              "      <td>127115.000000</td>\n",
              "      <td>127115.000000</td>\n",
              "      <td>127115</td>\n",
              "      <td>106568</td>\n",
              "      <td>127115</td>\n",
              "      <td>127115</td>\n",
              "      <td>127115.000000</td>\n",
              "    </tr>\n",
              "    <tr>\n",
              "      <th>unique</th>\n",
              "      <td>43</td>\n",
              "      <td>127115</td>\n",
              "      <td>38865</td>\n",
              "      <td>NaN</td>\n",
              "      <td>NaN</td>\n",
              "      <td>442</td>\n",
              "      <td>1260</td>\n",
              "      <td>732</td>\n",
              "      <td>16976</td>\n",
              "      <td>NaN</td>\n",
              "    </tr>\n",
              "    <tr>\n",
              "      <th>top</th>\n",
              "      <td>US</td>\n",
              "      <td>Black cherry, plum and currant aromas are youn...</td>\n",
              "      <td>Reserve</td>\n",
              "      <td>NaN</td>\n",
              "      <td>NaN</td>\n",
              "      <td>California</td>\n",
              "      <td>Napa Valley</td>\n",
              "      <td>Pinot Noir</td>\n",
              "      <td>Wines &amp; Winemakers</td>\n",
              "      <td>NaN</td>\n",
              "    </tr>\n",
              "    <tr>\n",
              "      <th>freq</th>\n",
              "      <td>57448</td>\n",
              "      <td>1</td>\n",
              "      <td>2057</td>\n",
              "      <td>NaN</td>\n",
              "      <td>NaN</td>\n",
              "      <td>38195</td>\n",
              "      <td>4559</td>\n",
              "      <td>14054</td>\n",
              "      <td>233</td>\n",
              "      <td>NaN</td>\n",
              "    </tr>\n",
              "    <tr>\n",
              "      <th>mean</th>\n",
              "      <td>NaN</td>\n",
              "      <td>NaN</td>\n",
              "      <td>NaN</td>\n",
              "      <td>88.563568</td>\n",
              "      <td>36.310483</td>\n",
              "      <td>NaN</td>\n",
              "      <td>NaN</td>\n",
              "      <td>NaN</td>\n",
              "      <td>NaN</td>\n",
              "      <td>2011.312410</td>\n",
              "    </tr>\n",
              "    <tr>\n",
              "      <th>std</th>\n",
              "      <td>NaN</td>\n",
              "      <td>NaN</td>\n",
              "      <td>NaN</td>\n",
              "      <td>3.075771</td>\n",
              "      <td>44.729574</td>\n",
              "      <td>NaN</td>\n",
              "      <td>NaN</td>\n",
              "      <td>NaN</td>\n",
              "      <td>NaN</td>\n",
              "      <td>3.952761</td>\n",
              "    </tr>\n",
              "    <tr>\n",
              "      <th>min</th>\n",
              "      <td>NaN</td>\n",
              "      <td>NaN</td>\n",
              "      <td>NaN</td>\n",
              "      <td>80.000000</td>\n",
              "      <td>4.000000</td>\n",
              "      <td>NaN</td>\n",
              "      <td>NaN</td>\n",
              "      <td>NaN</td>\n",
              "      <td>NaN</td>\n",
              "      <td>1904.000000</td>\n",
              "    </tr>\n",
              "    <tr>\n",
              "      <th>25%</th>\n",
              "      <td>NaN</td>\n",
              "      <td>NaN</td>\n",
              "      <td>NaN</td>\n",
              "      <td>86.000000</td>\n",
              "      <td>17.000000</td>\n",
              "      <td>NaN</td>\n",
              "      <td>NaN</td>\n",
              "      <td>NaN</td>\n",
              "      <td>NaN</td>\n",
              "      <td>2009.000000</td>\n",
              "    </tr>\n",
              "    <tr>\n",
              "      <th>50%</th>\n",
              "      <td>NaN</td>\n",
              "      <td>NaN</td>\n",
              "      <td>NaN</td>\n",
              "      <td>88.000000</td>\n",
              "      <td>26.000000</td>\n",
              "      <td>NaN</td>\n",
              "      <td>NaN</td>\n",
              "      <td>NaN</td>\n",
              "      <td>NaN</td>\n",
              "      <td>2012.000000</td>\n",
              "    </tr>\n",
              "    <tr>\n",
              "      <th>75%</th>\n",
              "      <td>NaN</td>\n",
              "      <td>NaN</td>\n",
              "      <td>NaN</td>\n",
              "      <td>91.000000</td>\n",
              "      <td>44.000000</td>\n",
              "      <td>NaN</td>\n",
              "      <td>NaN</td>\n",
              "      <td>NaN</td>\n",
              "      <td>NaN</td>\n",
              "      <td>2014.000000</td>\n",
              "    </tr>\n",
              "    <tr>\n",
              "      <th>max</th>\n",
              "      <td>NaN</td>\n",
              "      <td>NaN</td>\n",
              "      <td>NaN</td>\n",
              "      <td>100.000000</td>\n",
              "      <td>5000.000000</td>\n",
              "      <td>NaN</td>\n",
              "      <td>NaN</td>\n",
              "      <td>NaN</td>\n",
              "      <td>NaN</td>\n",
              "      <td>2018.000000</td>\n",
              "    </tr>\n",
              "  </tbody>\n",
              "</table>\n",
              "</div>"
            ],
            "text/plain": [
              "       country  ...        vintage\n",
              "count   127115  ...  127115.000000\n",
              "unique      43  ...            NaN\n",
              "top         US  ...            NaN\n",
              "freq     57448  ...            NaN\n",
              "mean       NaN  ...    2011.312410\n",
              "std        NaN  ...       3.952761\n",
              "min        NaN  ...    1904.000000\n",
              "25%        NaN  ...    2009.000000\n",
              "50%        NaN  ...    2012.000000\n",
              "75%        NaN  ...    2014.000000\n",
              "max        NaN  ...    2018.000000\n",
              "\n",
              "[11 rows x 10 columns]"
            ]
          },
          "metadata": {
            "tags": []
          },
          "execution_count": 12
        }
      ]
    },
    {
      "cell_type": "markdown",
      "metadata": {
        "id": "ZalAbC6T6q8u",
        "colab_type": "text"
      },
      "source": [
        "### 2.4 Feature Selection and Data Structure"
      ]
    },
    {
      "cell_type": "markdown",
      "metadata": {
        "id": "F4Ions2QVGvY",
        "colab_type": "text"
      },
      "source": [
        "One of main goal of this project is to predict the wine quality based on different features listed in dataset. And the quality prediction is based on the points which were generated by professional sommeliers (I assumen). However, as we can see here, the range of points is from 80 to 100 and most wines have the points from 86 to 91 (25% to 75%). As a prediction, the output is kinda of messy if we directly use the points system from original dataset. Therefore, in order to simplify our data and model, I personally prefer to transfer the points into different classifications. I found the rating system from original website, https://www.winemag.com/2010/04/09/you-asked-how-is-a-wines-score-determined/, shown below.\n",
        "\n",
        "\n",
        "Classic 98-100: The pinnacle of quality.\n",
        "\n",
        "Superb 94-97: A great achievement.\n",
        "\n",
        "Excellent 90-93: Highly recommended.\n",
        "\n",
        "Very Good 87-89: Often good value; well recommended.\n",
        "\n",
        "Good 83-86: Suitable for everyday consumption; often good value.\n",
        "\n",
        "Acceptable 80-82: Can be employed in casual, less-critical circumstances.\n",
        "\n",
        "\n",
        "Therefore, the points below 82 will be \"Acceptable\", 83 to 86 be \"Good\", 87 to 89 be \"Very Good\", 90 to 93 be \"Excellent\", 94 to 97 be \"Superb\" and above 97 be \"Classic\". I used numbers 1 to 6 to label them respectively. Now our target label is classified as 6 levels instead of previous 80-100 range. "
      ]
    },
    {
      "cell_type": "code",
      "metadata": {
        "id": "WdaKR0OX915Q",
        "colab_type": "code",
        "colab": {}
      },
      "source": [
        "import matplotlib.pyplot as plt\n",
        "import seaborn as sns"
      ],
      "execution_count": 0,
      "outputs": []
    },
    {
      "cell_type": "code",
      "metadata": {
        "id": "6CfEy_i0GuR4",
        "colab_type": "code",
        "colab": {
          "base_uri": "https://localhost:8080/",
          "height": 533
        },
        "outputId": "ae7e25dd-be2e-4c8b-e0e9-b045b9724a5a"
      },
      "source": [
        "def transform_points_rank(points):\n",
        "    if points <= 82:\n",
        "        return \"1\"\n",
        "    elif points >= 83 and points <= 86:\n",
        "        return \"2\" \n",
        "    elif points >= 87 and points <= 89:\n",
        "        return \"3\" \n",
        "    elif points >= 90 and points <= 93:\n",
        "        return \"4\" \n",
        "    elif points >= 94 and points <= 97:\n",
        "        return \"5\"  \n",
        "    else:\n",
        "        return \"6\"\n",
        "      \n",
        "df = df.assign(rank = df['points'].apply(transform_points_rank))\n",
        "plt.figure(figsize=(10,6))\n",
        "plt.subplot() \n",
        "f2 = sns.countplot(x='rank', data=df) \n",
        "f2.set_title(\"Rank distribuition\", fontsize=20) \n",
        "f2.set_xlabel(\"Rank\", fontsize=15)\n",
        "f2.set_ylabel(\"Count\", fontsize=15)\n",
        "plt.show() \n",
        "df['rank'].value_counts(normalize=True)"
      ],
      "execution_count": 14,
      "outputs": [
        {
          "output_type": "display_data",
          "data": {
            "image/png": "[encoded data removed]",
            "text/plain": [
              "<Figure size 720x432 with 1 Axes>"
            ]
          },
          "metadata": {
            "tags": []
          }
        },
        {
          "output_type": "execute_result",
          "data": {
            "text/plain": [
              "3    0.350431\n",
              "4    0.340117\n",
              "2    0.233977\n",
              "5    0.052205\n",
              "1    0.022051\n",
              "6    0.001219\n",
              "Name: rank, dtype: float64"
            ]
          },
          "metadata": {
            "tags": []
          },
          "execution_count": 14
        }
      ]
    },
    {
      "cell_type": "markdown",
      "metadata": {
        "id": "TU_AnfCHdS7P",
        "colab_type": "text"
      },
      "source": [
        "**2.4.1 Correlation Analysis**"
      ]
    },
    {
      "cell_type": "markdown",
      "metadata": {
        "id": "4KCkoZt0Uyyw",
        "colab_type": "text"
      },
      "source": [
        "Next step, we need to have a further look at the potential correalations between each input feature and target label \"rank\". First, we look at two numerical features from dataset, which are \"price\" and \"vintage\". As we can see in correlation table shown below, the \"points\" is highly correlated with \"rank\" since rank is generated from points. The feature \"price\" is somehow correlated with \"rank\" (~0.4), so I decided to select this feature in prediction model. However, the feature \"vintage\" shows a low correlation with target feature. Therefore, I decided not to apply this feature in future modelling. The same exploration was also shown in Heatmap."
      ]
    },
    {
      "cell_type": "code",
      "metadata": {
        "id": "LvYBq8q8m_1d",
        "colab_type": "code",
        "colab": {
          "base_uri": "https://localhost:8080/",
          "height": 173
        },
        "outputId": "5fee9169-b315-42b5-c6a9-28b994f5f5fe"
      },
      "source": [
        "df['rank'] = df['rank'].astype(float)\n",
        "df.corr()"
      ],
      "execution_count": 15,
      "outputs": [
        {
          "output_type": "execute_result",
          "data": {
            "text/html": [
              "<div>\n",
              "<style scoped>\n",
              "    .dataframe tbody tr th:only-of-type {\n",
              "        vertical-align: middle;\n",
              "    }\n",
              "\n",
              "    .dataframe tbody tr th {\n",
              "        vertical-align: top;\n",
              "    }\n",
              "\n",
              "    .dataframe thead th {\n",
              "        text-align: right;\n",
              "    }\n",
              "</style>\n",
              "<table border=\"1\" class=\"dataframe\">\n",
              "  <thead>\n",
              "    <tr style=\"text-align: right;\">\n",
              "      <th></th>\n",
              "      <th>points</th>\n",
              "      <th>price</th>\n",
              "      <th>vintage</th>\n",
              "      <th>rank</th>\n",
              "    </tr>\n",
              "  </thead>\n",
              "  <tbody>\n",
              "    <tr>\n",
              "      <th>points</th>\n",
              "      <td>1.000000</td>\n",
              "      <td>0.396787</td>\n",
              "      <td>0.072894</td>\n",
              "      <td>0.950811</td>\n",
              "    </tr>\n",
              "    <tr>\n",
              "      <th>price</th>\n",
              "      <td>0.396787</td>\n",
              "      <td>1.000000</td>\n",
              "      <td>-0.086359</td>\n",
              "      <td>0.367497</td>\n",
              "    </tr>\n",
              "    <tr>\n",
              "      <th>vintage</th>\n",
              "      <td>0.072894</td>\n",
              "      <td>-0.086359</td>\n",
              "      <td>1.000000</td>\n",
              "      <td>0.068888</td>\n",
              "    </tr>\n",
              "    <tr>\n",
              "      <th>rank</th>\n",
              "      <td>0.950811</td>\n",
              "      <td>0.367497</td>\n",
              "      <td>0.068888</td>\n",
              "      <td>1.000000</td>\n",
              "    </tr>\n",
              "  </tbody>\n",
              "</table>\n",
              "</div>"
            ],
            "text/plain": [
              "           points     price   vintage      rank\n",
              "points   1.000000  0.396787  0.072894  0.950811\n",
              "price    0.396787  1.000000 -0.086359  0.367497\n",
              "vintage  0.072894 -0.086359  1.000000  0.068888\n",
              "rank     0.950811  0.367497  0.068888  1.000000"
            ]
          },
          "metadata": {
            "tags": []
          },
          "execution_count": 15
        }
      ]
    },
    {
      "cell_type": "code",
      "metadata": {
        "id": "iHOaDRLYkito",
        "colab_type": "code",
        "colab": {
          "base_uri": "https://localhost:8080/",
          "height": 341
        },
        "outputId": "cf15e3e3-e7fa-4e40-a833-2f5b2e928be3"
      },
      "source": [
        "#Correlation of the features shown with Heatmap\n",
        "fig, ax = plt.subplots(figsize=(5,5))\n",
        "sns.heatmap(df.corr(), ax=ax, annot=True)"
      ],
      "execution_count": 16,
      "outputs": [
        {
          "output_type": "execute_result",
          "data": {
            "text/plain": [
              "<matplotlib.axes._subplots.AxesSubplot at 0x7fb9acf15dd8>"
            ]
          },
          "metadata": {
            "tags": []
          },
          "execution_count": 16
        },
        {
          "output_type": "display_data",
          "data": {
            "image/png": "[encoded data removed]",
            "text/plain": [
              "<Figure size 360x360 with 2 Axes>"
            ]
          },
          "metadata": {
            "tags": []
          }
        }
      ]
    },
    {
      "cell_type": "code",
      "metadata": {
        "id": "YmQZxM26Azc1",
        "colab_type": "code",
        "colab": {}
      },
      "source": [
        "df = df.drop(['vintage'], axis = 1)"
      ],
      "execution_count": 0,
      "outputs": []
    },
    {
      "cell_type": "markdown",
      "metadata": {
        "id": "j2gttDFTdtdC",
        "colab_type": "text"
      },
      "source": [
        "**2.4.2 Price & Rank**"
      ]
    },
    {
      "cell_type": "markdown",
      "metadata": {
        "id": "JrEor03zCW6D",
        "colab_type": "text"
      },
      "source": [
        "Now, we take a further look at feature price. As the descriptive table shown above, the most expensive wine is 5k. However, the average price is as low as 36 and the std is quite high. Therefore, we can narrow down our dataset by excluding outliers. The outliers can be clearly seen in following boxplot figure.   "
      ]
    },
    {
      "cell_type": "code",
      "metadata": {
        "id": "In7l1JYOdyvB",
        "colab_type": "code",
        "colab": {
          "base_uri": "https://localhost:8080/",
          "height": 283
        },
        "outputId": "cf231751-df59-4703-f5bd-5815b82f2343"
      },
      "source": [
        "#price & rank\n",
        "ax = sns.boxplot(x=\"rank\", y=\"price\", data=df)\n",
        "plt.show()\n"
      ],
      "execution_count": 18,
      "outputs": [
        {
          "output_type": "display_data",
          "data": {
            "image/png": "[encoded data removed]",
            "text/plain": [
              "<Figure size 432x288 with 1 Axes>"
            ]
          },
          "metadata": {
            "tags": []
          }
        }
      ]
    },
    {
      "cell_type": "code",
      "metadata": {
        "id": "9K9rwY2uebrs",
        "colab_type": "code",
        "colab": {
          "base_uri": "https://localhost:8080/",
          "height": 51
        },
        "outputId": "873a7b70-c438-42d4-a8a7-f982964687cb"
      },
      "source": [
        "#Have a look at outliers in feature price.\n",
        "data_mean, data_std = np.mean(df['price']), np.std(df['price'])\n",
        "outliers = [x for x in df['price'] if x < (data_mean - data_std * 3) or x > (data_mean + data_std * 3)]\n",
        "outliers_removed = [x for x in df['price'] if x > (data_mean - data_std * 3) and x < (data_mean + data_std * 3)]\n",
        "lowprice = data_mean - data_std * 3\n",
        "highprice = data_mean + data_std * 3\n",
        "print(\"Total percentage of Outliers in feature Price: \", round((len(outliers) / len(outliers_removed) )*100, 4)) \n",
        "print (\"The price range after removing outliers: \", lowprice, \"to \", highprice)    "
      ],
      "execution_count": 19,
      "outputs": [
        {
          "output_type": "stream",
          "text": [
            "Total percentage of Outliers in feature Price:  0.9322\n",
            "The price range after removing outliers:  -97.87771076478981 to  170.49867603246082\n"
          ],
          "name": "stdout"
        }
      ]
    },
    {
      "cell_type": "markdown",
      "metadata": {
        "id": "cLuZZrDlgZn9",
        "colab_type": "text"
      },
      "source": [
        "Since the outliers in feature \"price\" are less than one percent as shwon above and the price without outliers is from 0 to 170 dollars. I decided to narrow down the price to within 200 dollars for further analysis and modelling. "
      ]
    },
    {
      "cell_type": "code",
      "metadata": {
        "id": "7OrXBCW_g6j2",
        "colab_type": "code",
        "colab": {
          "base_uri": "https://localhost:8080/",
          "height": 530
        },
        "outputId": "4f75860b-860f-4243-a435-62a60610c91e"
      },
      "source": [
        "#Show the distribution of feature price after narrowing down to 200 dollars. \n",
        "df = df[df['price'] <= 200] \n",
        "f, ax = plt.subplots(1,2,figsize=(16,8))\n",
        "ax1,ax2 = ax.flatten()\n",
        "#plt.figure(figsize=(16,6))\n",
        "sns.distplot(df['price'], ax=ax1)\n",
        "ax1.set_title(\"Price Distribuition within 200\")\n",
        "ax1.set_xlabel(\"Price\")\n",
        "ax1.set_ylabel(\"Percentage\")\n",
        "sns.boxplot(x=\"rank\", y=\"price\", data=df, ax=ax2)"
      ],
      "execution_count": 20,
      "outputs": [
        {
          "output_type": "execute_result",
          "data": {
            "text/plain": [
              "<matplotlib.axes._subplots.AxesSubplot at 0x7fb9a91ccc50>"
            ]
          },
          "metadata": {
            "tags": []
          },
          "execution_count": 20
        },
        {
          "output_type": "display_data",
          "data": {
            "image/png": "[encoded data removed]",
            "text/plain": [
              "<Figure size 1152x576 with 2 Axes>"
            ]
          },
          "metadata": {
            "tags": []
          }
        }
      ]
    },
    {
      "cell_type": "markdown",
      "metadata": {
        "id": "dqyMhIYblSeR",
        "colab_type": "text"
      },
      "source": [
        "**2.4.3 Country & Rank**"
      ]
    },
    {
      "cell_type": "markdown",
      "metadata": {
        "id": "hCEg3sVS0FDZ",
        "colab_type": "text"
      },
      "source": [
        "There are 19 countries with more than 100 observations, and they account for the most percentage of dataset. The rest coutries might not be appropriate for modelling considering the size of observations. Therefore, I decided to drop countries with less than 100 observations. An average rank for individual country was shown in the table below. It suggests that country might be a crucial indictor for rank classification. "
      ]
    },
    {
      "cell_type": "code",
      "metadata": {
        "id": "EuBJy51y1dYY",
        "colab_type": "code",
        "colab": {
          "base_uri": "https://localhost:8080/",
          "height": 374
        },
        "outputId": "1298697b-35d2-47f3-f9a6-ef2235869c7d"
      },
      "source": [
        "df.country.value_counts()[:20]\n"
      ],
      "execution_count": 21,
      "outputs": [
        {
          "output_type": "execute_result",
          "data": {
            "text/plain": [
              "US              57296\n",
              "France          18532\n",
              "Italy           17405\n",
              "Spain            6494\n",
              "Portugal         5096\n",
              "Chile            4574\n",
              "Argentina        3876\n",
              "Austria          2983\n",
              "Australia        2433\n",
              "Germany          2338\n",
              "New Zealand      1492\n",
              "South Africa     1311\n",
              "Israel            559\n",
              "Greece            438\n",
              "Canada            259\n",
              "Bulgaria          156\n",
              "Hungary           141\n",
              "Uruguay           111\n",
              "Romania           104\n",
              "Turkey             90\n",
              "Name: country, dtype: int64"
            ]
          },
          "metadata": {
            "tags": []
          },
          "execution_count": 21
        }
      ]
    },
    {
      "cell_type": "code",
      "metadata": {
        "id": "niiC4UIeia62",
        "colab_type": "code",
        "colab": {
          "base_uri": "https://localhost:8080/",
          "height": 439
        },
        "outputId": "2aedd198-5f82-44cb-d02a-1a702d18810e"
      },
      "source": [
        "df = df.groupby(\"country\").filter(lambda x: len(x) >= 100)\n",
        "cr1 = df.groupby(['country'])['rank'].agg(['count','min','max','mean']).sort_values(by='mean',ascending= False)[:20]\n",
        "cr1.reset_index(inplace=True)\n",
        "cr1.style.background_gradient(cmap='Greens',high=0.5)\n"
      ],
      "execution_count": 22,
      "outputs": [
        {
          "output_type": "execute_result",
          "data": {
            "text/html": [
              "<style  type=\"text/css\" >\n",
              "    #T_f61b4276_df97_11e9_b10b_0242ac1c0002row0_col1 {\n",
              "            background-color:  #f2faf0;\n",
              "            color:  #000000;\n",
              "        }    #T_f61b4276_df97_11e9_b10b_0242ac1c0002row0_col2 {\n",
              "            background-color:  #f7fcf5;\n",
              "            color:  #000000;\n",
              "        }    #T_f61b4276_df97_11e9_b10b_0242ac1c0002row0_col3 {\n",
              "            background-color:  #37a055;\n",
              "            color:  #000000;\n",
              "        }    #T_f61b4276_df97_11e9_b10b_0242ac1c0002row0_col4 {\n",
              "            background-color:  #37a055;\n",
              "            color:  #000000;\n",
              "        }    #T_f61b4276_df97_11e9_b10b_0242ac1c0002row1_col1 {\n",
              "            background-color:  #f4fbf1;\n",
              "            color:  #000000;\n",
              "        }    #T_f61b4276_df97_11e9_b10b_0242ac1c0002row1_col2 {\n",
              "            background-color:  #f7fcf5;\n",
              "            color:  #000000;\n",
              "        }    #T_f61b4276_df97_11e9_b10b_0242ac1c0002row1_col3 {\n",
              "            background-color:  #aedea7;\n",
              "            color:  #000000;\n",
              "        }    #T_f61b4276_df97_11e9_b10b_0242ac1c0002row1_col4 {\n",
              "            background-color:  #4bb062;\n",
              "            color:  #000000;\n",
              "        }    #T_f61b4276_df97_11e9_b10b_0242ac1c0002row2_col1 {\n",
              "            background-color:  #f7fcf5;\n",
              "            color:  #000000;\n",
              "        }    #T_f61b4276_df97_11e9_b10b_0242ac1c0002row2_col2 {\n",
              "            background-color:  #f7fcf5;\n",
              "            color:  #000000;\n",
              "        }    #T_f61b4276_df97_11e9_b10b_0242ac1c0002row2_col3 {\n",
              "            background-color:  #aedea7;\n",
              "            color:  #000000;\n",
              "        }    #T_f61b4276_df97_11e9_b10b_0242ac1c0002row2_col4 {\n",
              "            background-color:  #68be70;\n",
              "            color:  #000000;\n",
              "        }    #T_f61b4276_df97_11e9_b10b_0242ac1c0002row3_col1 {\n",
              "            background-color:  #f7fcf5;\n",
              "            color:  #000000;\n",
              "        }    #T_f61b4276_df97_11e9_b10b_0242ac1c0002row3_col2 {\n",
              "            background-color:  #f7fcf5;\n",
              "            color:  #000000;\n",
              "        }    #T_f61b4276_df97_11e9_b10b_0242ac1c0002row3_col3 {\n",
              "            background-color:  #aedea7;\n",
              "            color:  #000000;\n",
              "        }    #T_f61b4276_df97_11e9_b10b_0242ac1c0002row3_col4 {\n",
              "            background-color:  #72c375;\n",
              "            color:  #000000;\n",
              "        }    #T_f61b4276_df97_11e9_b10b_0242ac1c0002row4_col1 {\n",
              "            background-color:  #d0edca;\n",
              "            color:  #000000;\n",
              "        }    #T_f61b4276_df97_11e9_b10b_0242ac1c0002row4_col2 {\n",
              "            background-color:  #f7fcf5;\n",
              "            color:  #000000;\n",
              "        }    #T_f61b4276_df97_11e9_b10b_0242ac1c0002row4_col3 {\n",
              "            background-color:  #37a055;\n",
              "            color:  #000000;\n",
              "        }    #T_f61b4276_df97_11e9_b10b_0242ac1c0002row4_col4 {\n",
              "            background-color:  #90d18d;\n",
              "            color:  #000000;\n",
              "        }    #T_f61b4276_df97_11e9_b10b_0242ac1c0002row5_col1 {\n",
              "            background-color:  #d3eecd;\n",
              "            color:  #000000;\n",
              "        }    #T_f61b4276_df97_11e9_b10b_0242ac1c0002row5_col2 {\n",
              "            background-color:  #f7fcf5;\n",
              "            color:  #000000;\n",
              "        }    #T_f61b4276_df97_11e9_b10b_0242ac1c0002row5_col3 {\n",
              "            background-color:  #37a055;\n",
              "            color:  #000000;\n",
              "        }    #T_f61b4276_df97_11e9_b10b_0242ac1c0002row5_col4 {\n",
              "            background-color:  #90d18d;\n",
              "            color:  #000000;\n",
              "        }    #T_f61b4276_df97_11e9_b10b_0242ac1c0002row6_col1 {\n",
              "            background-color:  #37a055;\n",
              "            color:  #000000;\n",
              "        }    #T_f61b4276_df97_11e9_b10b_0242ac1c0002row6_col2 {\n",
              "            background-color:  #f7fcf5;\n",
              "            color:  #000000;\n",
              "        }    #T_f61b4276_df97_11e9_b10b_0242ac1c0002row6_col3 {\n",
              "            background-color:  #37a055;\n",
              "            color:  #000000;\n",
              "        }    #T_f61b4276_df97_11e9_b10b_0242ac1c0002row6_col4 {\n",
              "            background-color:  #94d390;\n",
              "            color:  #000000;\n",
              "        }    #T_f61b4276_df97_11e9_b10b_0242ac1c0002row7_col1 {\n",
              "            background-color:  #f4fbf1;\n",
              "            color:  #000000;\n",
              "        }    #T_f61b4276_df97_11e9_b10b_0242ac1c0002row7_col2 {\n",
              "            background-color:  #f7fcf5;\n",
              "            color:  #000000;\n",
              "        }    #T_f61b4276_df97_11e9_b10b_0242ac1c0002row7_col3 {\n",
              "            background-color:  #37a055;\n",
              "            color:  #000000;\n",
              "        }    #T_f61b4276_df97_11e9_b10b_0242ac1c0002row7_col4 {\n",
              "            background-color:  #95d391;\n",
              "            color:  #000000;\n",
              "        }    #T_f61b4276_df97_11e9_b10b_0242ac1c0002row8_col1 {\n",
              "            background-color:  #f6fcf4;\n",
              "            color:  #000000;\n",
              "        }    #T_f61b4276_df97_11e9_b10b_0242ac1c0002row8_col2 {\n",
              "            background-color:  #f7fcf5;\n",
              "            color:  #000000;\n",
              "        }    #T_f61b4276_df97_11e9_b10b_0242ac1c0002row8_col3 {\n",
              "            background-color:  #aedea7;\n",
              "            color:  #000000;\n",
              "        }    #T_f61b4276_df97_11e9_b10b_0242ac1c0002row8_col4 {\n",
              "            background-color:  #99d595;\n",
              "            color:  #000000;\n",
              "        }    #T_f61b4276_df97_11e9_b10b_0242ac1c0002row9_col1 {\n",
              "            background-color:  #eff9ec;\n",
              "            color:  #000000;\n",
              "        }    #T_f61b4276_df97_11e9_b10b_0242ac1c0002row9_col2 {\n",
              "            background-color:  #f7fcf5;\n",
              "            color:  #000000;\n",
              "        }    #T_f61b4276_df97_11e9_b10b_0242ac1c0002row9_col3 {\n",
              "            background-color:  #37a055;\n",
              "            color:  #000000;\n",
              "        }    #T_f61b4276_df97_11e9_b10b_0242ac1c0002row9_col4 {\n",
              "            background-color:  #a8dca2;\n",
              "            color:  #000000;\n",
              "        }    #T_f61b4276_df97_11e9_b10b_0242ac1c0002row10_col1 {\n",
              "            background-color:  #f5fbf2;\n",
              "            color:  #000000;\n",
              "        }    #T_f61b4276_df97_11e9_b10b_0242ac1c0002row10_col2 {\n",
              "            background-color:  #f7fcf5;\n",
              "            color:  #000000;\n",
              "        }    #T_f61b4276_df97_11e9_b10b_0242ac1c0002row10_col3 {\n",
              "            background-color:  #aedea7;\n",
              "            color:  #000000;\n",
              "        }    #T_f61b4276_df97_11e9_b10b_0242ac1c0002row10_col4 {\n",
              "            background-color:  #aadda4;\n",
              "            color:  #000000;\n",
              "        }    #T_f61b4276_df97_11e9_b10b_0242ac1c0002row11_col1 {\n",
              "            background-color:  #f5fbf3;\n",
              "            color:  #000000;\n",
              "        }    #T_f61b4276_df97_11e9_b10b_0242ac1c0002row11_col2 {\n",
              "            background-color:  #f7fcf5;\n",
              "            color:  #000000;\n",
              "        }    #T_f61b4276_df97_11e9_b10b_0242ac1c0002row11_col3 {\n",
              "            background-color:  #aedea7;\n",
              "            color:  #000000;\n",
              "        }    #T_f61b4276_df97_11e9_b10b_0242ac1c0002row11_col4 {\n",
              "            background-color:  #b6e2af;\n",
              "            color:  #000000;\n",
              "        }    #T_f61b4276_df97_11e9_b10b_0242ac1c0002row12_col1 {\n",
              "            background-color:  #f7fcf5;\n",
              "            color:  #000000;\n",
              "        }    #T_f61b4276_df97_11e9_b10b_0242ac1c0002row12_col2 {\n",
              "            background-color:  #f7fcf5;\n",
              "            color:  #000000;\n",
              "        }    #T_f61b4276_df97_11e9_b10b_0242ac1c0002row12_col3 {\n",
              "            background-color:  #f7fcf5;\n",
              "            color:  #000000;\n",
              "        }    #T_f61b4276_df97_11e9_b10b_0242ac1c0002row12_col4 {\n",
              "            background-color:  #c1e6ba;\n",
              "            color:  #000000;\n",
              "        }    #T_f61b4276_df97_11e9_b10b_0242ac1c0002row13_col1 {\n",
              "            background-color:  #f7fcf5;\n",
              "            color:  #000000;\n",
              "        }    #T_f61b4276_df97_11e9_b10b_0242ac1c0002row13_col2 {\n",
              "            background-color:  #f7fcf5;\n",
              "            color:  #000000;\n",
              "        }    #T_f61b4276_df97_11e9_b10b_0242ac1c0002row13_col3 {\n",
              "            background-color:  #f7fcf5;\n",
              "            color:  #000000;\n",
              "        }    #T_f61b4276_df97_11e9_b10b_0242ac1c0002row13_col4 {\n",
              "            background-color:  #cfecc9;\n",
              "            color:  #000000;\n",
              "        }    #T_f61b4276_df97_11e9_b10b_0242ac1c0002row14_col1 {\n",
              "            background-color:  #ecf8e8;\n",
              "            color:  #000000;\n",
              "        }    #T_f61b4276_df97_11e9_b10b_0242ac1c0002row14_col2 {\n",
              "            background-color:  #f7fcf5;\n",
              "            color:  #000000;\n",
              "        }    #T_f61b4276_df97_11e9_b10b_0242ac1c0002row14_col3 {\n",
              "            background-color:  #aedea7;\n",
              "            color:  #000000;\n",
              "        }    #T_f61b4276_df97_11e9_b10b_0242ac1c0002row14_col4 {\n",
              "            background-color:  #d6efd0;\n",
              "            color:  #000000;\n",
              "        }    #T_f61b4276_df97_11e9_b10b_0242ac1c0002row15_col1 {\n",
              "            background-color:  #f7fcf5;\n",
              "            color:  #000000;\n",
              "        }    #T_f61b4276_df97_11e9_b10b_0242ac1c0002row15_col2 {\n",
              "            background-color:  #f7fcf5;\n",
              "            color:  #000000;\n",
              "        }    #T_f61b4276_df97_11e9_b10b_0242ac1c0002row15_col3 {\n",
              "            background-color:  #f7fcf5;\n",
              "            color:  #000000;\n",
              "        }    #T_f61b4276_df97_11e9_b10b_0242ac1c0002row15_col4 {\n",
              "            background-color:  #e2f4dd;\n",
              "            color:  #000000;\n",
              "        }    #T_f61b4276_df97_11e9_b10b_0242ac1c0002row16_col1 {\n",
              "            background-color:  #f1faee;\n",
              "            color:  #000000;\n",
              "        }    #T_f61b4276_df97_11e9_b10b_0242ac1c0002row16_col2 {\n",
              "            background-color:  #f7fcf5;\n",
              "            color:  #000000;\n",
              "        }    #T_f61b4276_df97_11e9_b10b_0242ac1c0002row16_col3 {\n",
              "            background-color:  #aedea7;\n",
              "            color:  #000000;\n",
              "        }    #T_f61b4276_df97_11e9_b10b_0242ac1c0002row16_col4 {\n",
              "            background-color:  #e7f6e2;\n",
              "            color:  #000000;\n",
              "        }    #T_f61b4276_df97_11e9_b10b_0242ac1c0002row17_col1 {\n",
              "            background-color:  #f0f9ec;\n",
              "            color:  #000000;\n",
              "        }    #T_f61b4276_df97_11e9_b10b_0242ac1c0002row17_col2 {\n",
              "            background-color:  #f7fcf5;\n",
              "            color:  #000000;\n",
              "        }    #T_f61b4276_df97_11e9_b10b_0242ac1c0002row17_col3 {\n",
              "            background-color:  #aedea7;\n",
              "            color:  #000000;\n",
              "        }    #T_f61b4276_df97_11e9_b10b_0242ac1c0002row17_col4 {\n",
              "            background-color:  #ecf8e8;\n",
              "            color:  #000000;\n",
              "        }    #T_f61b4276_df97_11e9_b10b_0242ac1c0002row18_col1 {\n",
              "            background-color:  #f7fcf5;\n",
              "            color:  #000000;\n",
              "        }    #T_f61b4276_df97_11e9_b10b_0242ac1c0002row18_col2 {\n",
              "            background-color:  #f7fcf5;\n",
              "            color:  #000000;\n",
              "        }    #T_f61b4276_df97_11e9_b10b_0242ac1c0002row18_col3 {\n",
              "            background-color:  #f7fcf5;\n",
              "            color:  #000000;\n",
              "        }    #T_f61b4276_df97_11e9_b10b_0242ac1c0002row18_col4 {\n",
              "            background-color:  #f7fcf5;\n",
              "            color:  #000000;\n",
              "        }</style><table id=\"T_f61b4276_df97_11e9_b10b_0242ac1c0002\" ><thead>    <tr>        <th class=\"blank level0\" ></th>        <th class=\"col_heading level0 col0\" >country</th>        <th class=\"col_heading level0 col1\" >count</th>        <th class=\"col_heading level0 col2\" >min</th>        <th class=\"col_heading level0 col3\" >max</th>        <th class=\"col_heading level0 col4\" >mean</th>    </tr></thead><tbody>\n",
              "                <tr>\n",
              "                        <th id=\"T_f61b4276_df97_11e9_b10b_0242ac1c0002level0_row0\" class=\"row_heading level0 row0\" >0</th>\n",
              "                        <td id=\"T_f61b4276_df97_11e9_b10b_0242ac1c0002row0_col0\" class=\"data row0 col0\" >Austria</td>\n",
              "                        <td id=\"T_f61b4276_df97_11e9_b10b_0242ac1c0002row0_col1\" class=\"data row0 col1\" >2983</td>\n",
              "                        <td id=\"T_f61b4276_df97_11e9_b10b_0242ac1c0002row0_col2\" class=\"data row0 col2\" >1</td>\n",
              "                        <td id=\"T_f61b4276_df97_11e9_b10b_0242ac1c0002row0_col3\" class=\"data row0 col3\" >6</td>\n",
              "                        <td id=\"T_f61b4276_df97_11e9_b10b_0242ac1c0002row0_col4\" class=\"data row0 col4\" >3.69628</td>\n",
              "            </tr>\n",
              "            <tr>\n",
              "                        <th id=\"T_f61b4276_df97_11e9_b10b_0242ac1c0002level0_row1\" class=\"row_heading level0 row1\" >1</th>\n",
              "                        <td id=\"T_f61b4276_df97_11e9_b10b_0242ac1c0002row1_col0\" class=\"data row1 col0\" >Germany</td>\n",
              "                        <td id=\"T_f61b4276_df97_11e9_b10b_0242ac1c0002row1_col1\" class=\"data row1 col1\" >2338</td>\n",
              "                        <td id=\"T_f61b4276_df97_11e9_b10b_0242ac1c0002row1_col2\" class=\"data row1 col2\" >1</td>\n",
              "                        <td id=\"T_f61b4276_df97_11e9_b10b_0242ac1c0002row1_col3\" class=\"data row1 col3\" >5</td>\n",
              "                        <td id=\"T_f61b4276_df97_11e9_b10b_0242ac1c0002row1_col4\" class=\"data row1 col4\" >3.57015</td>\n",
              "            </tr>\n",
              "            <tr>\n",
              "                        <th id=\"T_f61b4276_df97_11e9_b10b_0242ac1c0002level0_row2\" class=\"row_heading level0 row2\" >2</th>\n",
              "                        <td id=\"T_f61b4276_df97_11e9_b10b_0242ac1c0002row2_col0\" class=\"data row2 col0\" >Canada</td>\n",
              "                        <td id=\"T_f61b4276_df97_11e9_b10b_0242ac1c0002row2_col1\" class=\"data row2 col1\" >259</td>\n",
              "                        <td id=\"T_f61b4276_df97_11e9_b10b_0242ac1c0002row2_col2\" class=\"data row2 col2\" >1</td>\n",
              "                        <td id=\"T_f61b4276_df97_11e9_b10b_0242ac1c0002row2_col3\" class=\"data row2 col3\" >5</td>\n",
              "                        <td id=\"T_f61b4276_df97_11e9_b10b_0242ac1c0002row2_col4\" class=\"data row2 col4\" >3.43629</td>\n",
              "            </tr>\n",
              "            <tr>\n",
              "                        <th id=\"T_f61b4276_df97_11e9_b10b_0242ac1c0002level0_row3\" class=\"row_heading level0 row3\" >3</th>\n",
              "                        <td id=\"T_f61b4276_df97_11e9_b10b_0242ac1c0002row3_col0\" class=\"data row3 col0\" >Hungary</td>\n",
              "                        <td id=\"T_f61b4276_df97_11e9_b10b_0242ac1c0002row3_col1\" class=\"data row3 col1\" >141</td>\n",
              "                        <td id=\"T_f61b4276_df97_11e9_b10b_0242ac1c0002row3_col2\" class=\"data row3 col2\" >1</td>\n",
              "                        <td id=\"T_f61b4276_df97_11e9_b10b_0242ac1c0002row3_col3\" class=\"data row3 col3\" >5</td>\n",
              "                        <td id=\"T_f61b4276_df97_11e9_b10b_0242ac1c0002row3_col4\" class=\"data row3 col4\" >3.39007</td>\n",
              "            </tr>\n",
              "            <tr>\n",
              "                        <th id=\"T_f61b4276_df97_11e9_b10b_0242ac1c0002level0_row4\" class=\"row_heading level0 row4\" >4</th>\n",
              "                        <td id=\"T_f61b4276_df97_11e9_b10b_0242ac1c0002row4_col0\" class=\"data row4 col0\" >France</td>\n",
              "                        <td id=\"T_f61b4276_df97_11e9_b10b_0242ac1c0002row4_col1\" class=\"data row4 col1\" >18532</td>\n",
              "                        <td id=\"T_f61b4276_df97_11e9_b10b_0242ac1c0002row4_col2\" class=\"data row4 col2\" >1</td>\n",
              "                        <td id=\"T_f61b4276_df97_11e9_b10b_0242ac1c0002row4_col3\" class=\"data row4 col3\" >6</td>\n",
              "                        <td id=\"T_f61b4276_df97_11e9_b10b_0242ac1c0002row4_col4\" class=\"data row4 col4\" >3.23408</td>\n",
              "            </tr>\n",
              "            <tr>\n",
              "                        <th id=\"T_f61b4276_df97_11e9_b10b_0242ac1c0002level0_row5\" class=\"row_heading level0 row5\" >5</th>\n",
              "                        <td id=\"T_f61b4276_df97_11e9_b10b_0242ac1c0002row5_col0\" class=\"data row5 col0\" >Italy</td>\n",
              "                        <td id=\"T_f61b4276_df97_11e9_b10b_0242ac1c0002row5_col1\" class=\"data row5 col1\" >17405</td>\n",
              "                        <td id=\"T_f61b4276_df97_11e9_b10b_0242ac1c0002row5_col2\" class=\"data row5 col2\" >1</td>\n",
              "                        <td id=\"T_f61b4276_df97_11e9_b10b_0242ac1c0002row5_col3\" class=\"data row5 col3\" >6</td>\n",
              "                        <td id=\"T_f61b4276_df97_11e9_b10b_0242ac1c0002row5_col4\" class=\"data row5 col4\" >3.23235</td>\n",
              "            </tr>\n",
              "            <tr>\n",
              "                        <th id=\"T_f61b4276_df97_11e9_b10b_0242ac1c0002level0_row6\" class=\"row_heading level0 row6\" >6</th>\n",
              "                        <td id=\"T_f61b4276_df97_11e9_b10b_0242ac1c0002row6_col0\" class=\"data row6 col0\" >US</td>\n",
              "                        <td id=\"T_f61b4276_df97_11e9_b10b_0242ac1c0002row6_col1\" class=\"data row6 col1\" >57296</td>\n",
              "                        <td id=\"T_f61b4276_df97_11e9_b10b_0242ac1c0002row6_col2\" class=\"data row6 col2\" >1</td>\n",
              "                        <td id=\"T_f61b4276_df97_11e9_b10b_0242ac1c0002row6_col3\" class=\"data row6 col3\" >6</td>\n",
              "                        <td id=\"T_f61b4276_df97_11e9_b10b_0242ac1c0002row6_col4\" class=\"data row6 col4\" >3.20953</td>\n",
              "            </tr>\n",
              "            <tr>\n",
              "                        <th id=\"T_f61b4276_df97_11e9_b10b_0242ac1c0002level0_row7\" class=\"row_heading level0 row7\" >7</th>\n",
              "                        <td id=\"T_f61b4276_df97_11e9_b10b_0242ac1c0002row7_col0\" class=\"data row7 col0\" >Australia</td>\n",
              "                        <td id=\"T_f61b4276_df97_11e9_b10b_0242ac1c0002row7_col1\" class=\"data row7 col1\" >2433</td>\n",
              "                        <td id=\"T_f61b4276_df97_11e9_b10b_0242ac1c0002row7_col2\" class=\"data row7 col2\" >1</td>\n",
              "                        <td id=\"T_f61b4276_df97_11e9_b10b_0242ac1c0002row7_col3\" class=\"data row7 col3\" >6</td>\n",
              "                        <td id=\"T_f61b4276_df97_11e9_b10b_0242ac1c0002row7_col4\" class=\"data row7 col4\" >3.19975</td>\n",
              "            </tr>\n",
              "            <tr>\n",
              "                        <th id=\"T_f61b4276_df97_11e9_b10b_0242ac1c0002level0_row8\" class=\"row_heading level0 row8\" >8</th>\n",
              "                        <td id=\"T_f61b4276_df97_11e9_b10b_0242ac1c0002row8_col0\" class=\"data row8 col0\" >Israel</td>\n",
              "                        <td id=\"T_f61b4276_df97_11e9_b10b_0242ac1c0002row8_col1\" class=\"data row8 col1\" >559</td>\n",
              "                        <td id=\"T_f61b4276_df97_11e9_b10b_0242ac1c0002row8_col2\" class=\"data row8 col2\" >1</td>\n",
              "                        <td id=\"T_f61b4276_df97_11e9_b10b_0242ac1c0002row8_col3\" class=\"data row8 col3\" >5</td>\n",
              "                        <td id=\"T_f61b4276_df97_11e9_b10b_0242ac1c0002row8_col4\" class=\"data row8 col4\" >3.18068</td>\n",
              "            </tr>\n",
              "            <tr>\n",
              "                        <th id=\"T_f61b4276_df97_11e9_b10b_0242ac1c0002level0_row9\" class=\"row_heading level0 row9\" >9</th>\n",
              "                        <td id=\"T_f61b4276_df97_11e9_b10b_0242ac1c0002row9_col0\" class=\"data row9 col0\" >Portugal</td>\n",
              "                        <td id=\"T_f61b4276_df97_11e9_b10b_0242ac1c0002row9_col1\" class=\"data row9 col1\" >5096</td>\n",
              "                        <td id=\"T_f61b4276_df97_11e9_b10b_0242ac1c0002row9_col2\" class=\"data row9 col2\" >1</td>\n",
              "                        <td id=\"T_f61b4276_df97_11e9_b10b_0242ac1c0002row9_col3\" class=\"data row9 col3\" >6</td>\n",
              "                        <td id=\"T_f61b4276_df97_11e9_b10b_0242ac1c0002row9_col4\" class=\"data row9 col4\" >3.10145</td>\n",
              "            </tr>\n",
              "            <tr>\n",
              "                        <th id=\"T_f61b4276_df97_11e9_b10b_0242ac1c0002level0_row10\" class=\"row_heading level0 row10\" >10</th>\n",
              "                        <td id=\"T_f61b4276_df97_11e9_b10b_0242ac1c0002row10_col0\" class=\"data row10 col0\" >New Zealand</td>\n",
              "                        <td id=\"T_f61b4276_df97_11e9_b10b_0242ac1c0002row10_col1\" class=\"data row10 col1\" >1492</td>\n",
              "                        <td id=\"T_f61b4276_df97_11e9_b10b_0242ac1c0002row10_col2\" class=\"data row10 col2\" >1</td>\n",
              "                        <td id=\"T_f61b4276_df97_11e9_b10b_0242ac1c0002row10_col3\" class=\"data row10 col3\" >5</td>\n",
              "                        <td id=\"T_f61b4276_df97_11e9_b10b_0242ac1c0002row10_col4\" class=\"data row10 col4\" >3.08244</td>\n",
              "            </tr>\n",
              "            <tr>\n",
              "                        <th id=\"T_f61b4276_df97_11e9_b10b_0242ac1c0002level0_row11\" class=\"row_heading level0 row11\" >11</th>\n",
              "                        <td id=\"T_f61b4276_df97_11e9_b10b_0242ac1c0002row11_col0\" class=\"data row11 col0\" >South Africa</td>\n",
              "                        <td id=\"T_f61b4276_df97_11e9_b10b_0242ac1c0002row11_col1\" class=\"data row11 col1\" >1311</td>\n",
              "                        <td id=\"T_f61b4276_df97_11e9_b10b_0242ac1c0002row11_col2\" class=\"data row11 col2\" >1</td>\n",
              "                        <td id=\"T_f61b4276_df97_11e9_b10b_0242ac1c0002row11_col3\" class=\"data row11 col3\" >5</td>\n",
              "                        <td id=\"T_f61b4276_df97_11e9_b10b_0242ac1c0002row11_col4\" class=\"data row11 col4\" >3.00992</td>\n",
              "            </tr>\n",
              "            <tr>\n",
              "                        <th id=\"T_f61b4276_df97_11e9_b10b_0242ac1c0002level0_row12\" class=\"row_heading level0 row12\" >12</th>\n",
              "                        <td id=\"T_f61b4276_df97_11e9_b10b_0242ac1c0002row12_col0\" class=\"data row12 col0\" >Bulgaria</td>\n",
              "                        <td id=\"T_f61b4276_df97_11e9_b10b_0242ac1c0002row12_col1\" class=\"data row12 col1\" >156</td>\n",
              "                        <td id=\"T_f61b4276_df97_11e9_b10b_0242ac1c0002row12_col2\" class=\"data row12 col2\" >1</td>\n",
              "                        <td id=\"T_f61b4276_df97_11e9_b10b_0242ac1c0002row12_col3\" class=\"data row12 col3\" >4</td>\n",
              "                        <td id=\"T_f61b4276_df97_11e9_b10b_0242ac1c0002row12_col4\" class=\"data row12 col4\" >2.94231</td>\n",
              "            </tr>\n",
              "            <tr>\n",
              "                        <th id=\"T_f61b4276_df97_11e9_b10b_0242ac1c0002level0_row13\" class=\"row_heading level0 row13\" >13</th>\n",
              "                        <td id=\"T_f61b4276_df97_11e9_b10b_0242ac1c0002row13_col0\" class=\"data row13 col0\" >Greece</td>\n",
              "                        <td id=\"T_f61b4276_df97_11e9_b10b_0242ac1c0002row13_col1\" class=\"data row13 col1\" >438</td>\n",
              "                        <td id=\"T_f61b4276_df97_11e9_b10b_0242ac1c0002row13_col2\" class=\"data row13 col2\" >1</td>\n",
              "                        <td id=\"T_f61b4276_df97_11e9_b10b_0242ac1c0002row13_col3\" class=\"data row13 col3\" >4</td>\n",
              "                        <td id=\"T_f61b4276_df97_11e9_b10b_0242ac1c0002row13_col4\" class=\"data row13 col4\" >2.83562</td>\n",
              "            </tr>\n",
              "            <tr>\n",
              "                        <th id=\"T_f61b4276_df97_11e9_b10b_0242ac1c0002level0_row14\" class=\"row_heading level0 row14\" >14</th>\n",
              "                        <td id=\"T_f61b4276_df97_11e9_b10b_0242ac1c0002row14_col0\" class=\"data row14 col0\" >Spain</td>\n",
              "                        <td id=\"T_f61b4276_df97_11e9_b10b_0242ac1c0002row14_col1\" class=\"data row14 col1\" >6494</td>\n",
              "                        <td id=\"T_f61b4276_df97_11e9_b10b_0242ac1c0002row14_col2\" class=\"data row14 col2\" >1</td>\n",
              "                        <td id=\"T_f61b4276_df97_11e9_b10b_0242ac1c0002row14_col3\" class=\"data row14 col3\" >5</td>\n",
              "                        <td id=\"T_f61b4276_df97_11e9_b10b_0242ac1c0002row14_col4\" class=\"data row14 col4\" >2.78642</td>\n",
              "            </tr>\n",
              "            <tr>\n",
              "                        <th id=\"T_f61b4276_df97_11e9_b10b_0242ac1c0002level0_row15\" class=\"row_heading level0 row15\" >15</th>\n",
              "                        <td id=\"T_f61b4276_df97_11e9_b10b_0242ac1c0002row15_col0\" class=\"data row15 col0\" >Uruguay</td>\n",
              "                        <td id=\"T_f61b4276_df97_11e9_b10b_0242ac1c0002row15_col1\" class=\"data row15 col1\" >111</td>\n",
              "                        <td id=\"T_f61b4276_df97_11e9_b10b_0242ac1c0002row15_col2\" class=\"data row15 col2\" >1</td>\n",
              "                        <td id=\"T_f61b4276_df97_11e9_b10b_0242ac1c0002row15_col3\" class=\"data row15 col3\" >4</td>\n",
              "                        <td id=\"T_f61b4276_df97_11e9_b10b_0242ac1c0002row15_col4\" class=\"data row15 col4\" >2.68468</td>\n",
              "            </tr>\n",
              "            <tr>\n",
              "                        <th id=\"T_f61b4276_df97_11e9_b10b_0242ac1c0002level0_row16\" class=\"row_heading level0 row16\" >16</th>\n",
              "                        <td id=\"T_f61b4276_df97_11e9_b10b_0242ac1c0002row16_col0\" class=\"data row16 col0\" >Argentina</td>\n",
              "                        <td id=\"T_f61b4276_df97_11e9_b10b_0242ac1c0002row16_col1\" class=\"data row16 col1\" >3876</td>\n",
              "                        <td id=\"T_f61b4276_df97_11e9_b10b_0242ac1c0002row16_col2\" class=\"data row16 col2\" >1</td>\n",
              "                        <td id=\"T_f61b4276_df97_11e9_b10b_0242ac1c0002row16_col3\" class=\"data row16 col3\" >5</td>\n",
              "                        <td id=\"T_f61b4276_df97_11e9_b10b_0242ac1c0002row16_col4\" class=\"data row16 col4\" >2.6468</td>\n",
              "            </tr>\n",
              "            <tr>\n",
              "                        <th id=\"T_f61b4276_df97_11e9_b10b_0242ac1c0002level0_row17\" class=\"row_heading level0 row17\" >17</th>\n",
              "                        <td id=\"T_f61b4276_df97_11e9_b10b_0242ac1c0002row17_col0\" class=\"data row17 col0\" >Chile</td>\n",
              "                        <td id=\"T_f61b4276_df97_11e9_b10b_0242ac1c0002row17_col1\" class=\"data row17 col1\" >4574</td>\n",
              "                        <td id=\"T_f61b4276_df97_11e9_b10b_0242ac1c0002row17_col2\" class=\"data row17 col2\" >1</td>\n",
              "                        <td id=\"T_f61b4276_df97_11e9_b10b_0242ac1c0002row17_col3\" class=\"data row17 col3\" >5</td>\n",
              "                        <td id=\"T_f61b4276_df97_11e9_b10b_0242ac1c0002row17_col4\" class=\"data row17 col4\" >2.56734</td>\n",
              "            </tr>\n",
              "            <tr>\n",
              "                        <th id=\"T_f61b4276_df97_11e9_b10b_0242ac1c0002level0_row18\" class=\"row_heading level0 row18\" >18</th>\n",
              "                        <td id=\"T_f61b4276_df97_11e9_b10b_0242ac1c0002row18_col0\" class=\"data row18 col0\" >Romania</td>\n",
              "                        <td id=\"T_f61b4276_df97_11e9_b10b_0242ac1c0002row18_col1\" class=\"data row18 col1\" >104</td>\n",
              "                        <td id=\"T_f61b4276_df97_11e9_b10b_0242ac1c0002row18_col2\" class=\"data row18 col2\" >1</td>\n",
              "                        <td id=\"T_f61b4276_df97_11e9_b10b_0242ac1c0002row18_col3\" class=\"data row18 col3\" >4</td>\n",
              "                        <td id=\"T_f61b4276_df97_11e9_b10b_0242ac1c0002row18_col4\" class=\"data row18 col4\" >2.42308</td>\n",
              "            </tr>\n",
              "    </tbody></table>"
            ],
            "text/plain": [
              "<pandas.io.formats.style.Styler at 0x7fb9a94a8a20>"
            ]
          },
          "metadata": {
            "tags": []
          },
          "execution_count": 22
        }
      ]
    },
    {
      "cell_type": "markdown",
      "metadata": {
        "id": "D-FUDwoQ0-TM",
        "colab_type": "text"
      },
      "source": [
        "**2.4.4 Designation & Rank**"
      ]
    },
    {
      "cell_type": "markdown",
      "metadata": {
        "id": "Fo7IE5lh3X0a",
        "colab_type": "text"
      },
      "source": [
        "The unique values in feature \"designation\" are around 40k, which is a lot. In addition, there are a lot of designation values with only one observation, which is not usable for training predictive model. Therefore, it can not be processed like feature \"country\". It will cause too many dimensions in prediction model. Therefore, I decided to abandon this column. "
      ]
    },
    {
      "cell_type": "code",
      "metadata": {
        "id": "ZSfcPPUQ4pZE",
        "colab_type": "code",
        "colab": {
          "base_uri": "https://localhost:8080/",
          "height": 1000
        },
        "outputId": "d8b229c5-a325-45bf-dded-15fa5fa7d39b"
      },
      "source": [
        "df.designation.value_counts()"
      ],
      "execution_count": 23,
      "outputs": [
        {
          "output_type": "execute_result",
          "data": {
            "text/plain": [
              "Reserve                                       2041\n",
              "Estate                                        1408\n",
              "Reserva                                       1278\n",
              "Riserva                                        716\n",
              "Estate Grown                                   660\n",
              "Dry                                            407\n",
              "Crianza                                        369\n",
              "Estate Bottled                                 348\n",
              "Vieilles Vignes                                322\n",
              "Gran Reserva                                   269\n",
              "Old Vine                                       245\n",
              "Tradition                                      245\n",
              "Rosé of                                        229\n",
              "Réserve                                        160\n",
              "Single Vineyard                                151\n",
              "Estate Reserve                                 142\n",
              "Bien Nacido Vineyard                           130\n",
              "Vintage                                        126\n",
              "Late Harvest                                   114\n",
              "Classic                                        114\n",
              "Unoaked                                        112\n",
              "Barrel Select                                  112\n",
              "Old Vines                                      105\n",
              "Brut                                           105\n",
              "Estate Vineyard                                 99\n",
              "Rosé                                            93\n",
              "Stillwater Creek Vineyard                       91\n",
              "Grand Reserve                                   89\n",
              "Barrel Fermented                                87\n",
              "Signature                                       84\n",
              "                                              ... \n",
              "Frauenrigl                                       1\n",
              "Premier Millésime                                1\n",
              "BG 2 The French Revolution Lot 7                 1\n",
              "Plakoura Vineyard Oak Aged                       1\n",
              "Apoll                                            1\n",
              "Vina Hispana Roble                               1\n",
              "Ballade                                          1\n",
              "First and Mercer                                 1\n",
              "Vinyes Velles Nobles Garnatxa-Carinyena          1\n",
              "Brut Metodo Classico Riserva                     1\n",
              "Vertice Grand Reserva Tinto                      1\n",
              "Jubilee                                          1\n",
              "Fratta                                           1\n",
              "Alba de Sierra                                   1\n",
              "Vivacious Reserve Viognier-Roussane              1\n",
              "Kaleidoscope                                     1\n",
              "'61 Nature                                       1\n",
              "Wine for Pizza                                   1\n",
              "Late Harvest Riesling                            1\n",
              "Semèle Passito                                   1\n",
              "Chianti                                          1\n",
              "Conceito Vintage                                 1\n",
              "Cuvee Katelyn                                    1\n",
              "Don Raffaele Selection                           1\n",
              "D'oro Stagecoach Vineyard Red Dessert Wine       1\n",
              "Les Vignes de Berge / Les Loges                  1\n",
              "Colli del Mancuso Riserva Superiore              1\n",
              "Baden-Baden Dry                                  1\n",
              "Rivertondo Tenuta Valleselle                     1\n",
              "Sancerre le Rochoy                               1\n",
              "Name: designation, Length: 38342, dtype: int64"
            ]
          },
          "metadata": {
            "tags": []
          },
          "execution_count": 23
        }
      ]
    },
    {
      "cell_type": "code",
      "metadata": {
        "id": "Pbo6Gn-i2-bi",
        "colab_type": "code",
        "colab": {}
      },
      "source": [
        "df = df.drop(['designation'], axis = 1)\n"
      ],
      "execution_count": 0,
      "outputs": []
    },
    {
      "cell_type": "markdown",
      "metadata": {
        "id": "OVxKNRU756Jf",
        "colab_type": "text"
      },
      "source": [
        "**2.4.5 Province & Rank**"
      ]
    },
    {
      "cell_type": "markdown",
      "metadata": {
        "id": "6gUrArB86R4L",
        "colab_type": "text"
      },
      "source": [
        "There are 442 unique values in feature \"province\", but many are with only one observations. Therefore, I decided to process this feature like what I did to feature \"country\", dropping the provinces with less than 100 observations. There are 125598 rows left.  \n"
      ]
    },
    {
      "cell_type": "code",
      "metadata": {
        "id": "wgUTilLK6CCC",
        "colab_type": "code",
        "colab": {
          "base_uri": "https://localhost:8080/",
          "height": 1000
        },
        "outputId": "349a8c0d-85b3-4052-d34f-6a4b1913e0ea"
      },
      "source": [
        "df.province.value_counts()"
      ],
      "execution_count": 25,
      "outputs": [
        {
          "output_type": "execute_result",
          "data": {
            "text/plain": [
              "California                   38048\n",
              "Washington                    8881\n",
              "Oregon                        6138\n",
              "Tuscany                       5454\n",
              "Bordeaux                      4486\n",
              "Northern Spain                4100\n",
              "Piedmont                      3445\n",
              "Mendoza Province              3342\n",
              "Burgundy                      3245\n",
              "New York                      2608\n",
              "Alsace                        2242\n",
              "Northeastern Italy            1996\n",
              "Veneto                        1742\n",
              "Loire Valley                  1716\n",
              "Sicily & Sardinia             1707\n",
              "Southwest France              1484\n",
              "Rhône Valley                  1463\n",
              "South Australia               1447\n",
              "Southern Italy                1333\n",
              "Douro                         1246\n",
              "Provence                      1235\n",
              "Central Italy                 1159\n",
              "Mosel                         1112\n",
              "Beaujolais                    1027\n",
              "Colchagua Valley               872\n",
              "Catalonia                      870\n",
              "Marlborough                    857\n",
              "Alentejano                     854\n",
              "Virginia                       809\n",
              "Maipo Valley                   663\n",
              "                             ...  \n",
              "Vlootenburg                      1\n",
              "Maryland                         1\n",
              "Northern Cape                    1\n",
              "San Antonio-Maipo Valley         1\n",
              "Vinho da Mesa                    1\n",
              "Muscat of Kefallonian            1\n",
              "Paardeberg                       1\n",
              "Imathia                          1\n",
              "Kentucky                         1\n",
              "Retsina                          1\n",
              "Alenteo                          1\n",
              "Thraki                           1\n",
              "Colares                          1\n",
              "Greyton                          1\n",
              "Douro Superior                   1\n",
              "Vânju Mare                       1\n",
              "Portugal                         1\n",
              "Waitaki Valley                   1\n",
              "Coelemu                          1\n",
              "Viile Timis                      1\n",
              "Mavrodaphne de Cephalonie        1\n",
              "North Canterbury                 1\n",
              "Cape Agulhas                     1\n",
              "Colonia                          1\n",
              "Sterea Ellada                    1\n",
              "Gladstone                        1\n",
              "Curicó and Maipo Valleys         1\n",
              "Piekenierskloof                  1\n",
              "Atacama Valley                   1\n",
              "Krania Olympus                   1\n",
              "Name: province, Length: 361, dtype: int64"
            ]
          },
          "metadata": {
            "tags": []
          },
          "execution_count": 25
        }
      ]
    },
    {
      "cell_type": "code",
      "metadata": {
        "id": "DCuDyGok9Pip",
        "colab_type": "code",
        "colab": {
          "base_uri": "https://localhost:8080/",
          "height": 255
        },
        "outputId": "ac04403e-9043-486f-ee80-b4011b4f3d2c"
      },
      "source": [
        "df.info()"
      ],
      "execution_count": 26,
      "outputs": [
        {
          "output_type": "stream",
          "text": [
            "<class 'pandas.core.frame.DataFrame'>\n",
            "Int64Index: 125598 entries, 1 to 141616\n",
            "Data columns (total 9 columns):\n",
            "country        125598 non-null object\n",
            "description    125598 non-null object\n",
            "points         125598 non-null int64\n",
            "price          125598 non-null float64\n",
            "province       125598 non-null object\n",
            "region_1       105879 non-null object\n",
            "variety        125598 non-null object\n",
            "winery         125598 non-null object\n",
            "rank           125598 non-null float64\n",
            "dtypes: float64(2), int64(1), object(6)\n",
            "memory usage: 14.6+ MB\n"
          ],
          "name": "stdout"
        }
      ]
    },
    {
      "cell_type": "code",
      "metadata": {
        "id": "84qu9SGV9OQY",
        "colab_type": "code",
        "colab": {
          "base_uri": "https://localhost:8080/",
          "height": 460
        },
        "outputId": "ccf4c4b4-75be-4427-b89a-a866bcab84f2"
      },
      "source": [
        "df = df.groupby(\"province\").filter(lambda x: len(x) >= 100)\n",
        "pr = df.groupby(['province'])['rank'].agg(['count','min','max','mean']).sort_values(by='mean',ascending= False)[:20]\n",
        "pr.reset_index(inplace=True)\n",
        "pr.style.background_gradient(cmap='Greens',high=0.5)"
      ],
      "execution_count": 27,
      "outputs": [
        {
          "output_type": "execute_result",
          "data": {
            "text/html": [
              "<style  type=\"text/css\" >\n",
              "    #T_f658eac2_df97_11e9_b10b_0242ac1c0002row0_col1 {\n",
              "            background-color:  #edf8e9;\n",
              "            color:  #000000;\n",
              "        }    #T_f658eac2_df97_11e9_b10b_0242ac1c0002row0_col2 {\n",
              "            background-color:  #37a055;\n",
              "            color:  #000000;\n",
              "        }    #T_f658eac2_df97_11e9_b10b_0242ac1c0002row0_col3 {\n",
              "            background-color:  #f7fcf5;\n",
              "            color:  #000000;\n",
              "        }    #T_f658eac2_df97_11e9_b10b_0242ac1c0002row0_col4 {\n",
              "            background-color:  #37a055;\n",
              "            color:  #000000;\n",
              "        }    #T_f658eac2_df97_11e9_b10b_0242ac1c0002row1_col1 {\n",
              "            background-color:  #f0f9ed;\n",
              "            color:  #000000;\n",
              "        }    #T_f658eac2_df97_11e9_b10b_0242ac1c0002row1_col2 {\n",
              "            background-color:  #37a055;\n",
              "            color:  #000000;\n",
              "        }    #T_f658eac2_df97_11e9_b10b_0242ac1c0002row1_col3 {\n",
              "            background-color:  #f7fcf5;\n",
              "            color:  #000000;\n",
              "        }    #T_f658eac2_df97_11e9_b10b_0242ac1c0002row1_col4 {\n",
              "            background-color:  #3da65a;\n",
              "            color:  #000000;\n",
              "        }    #T_f658eac2_df97_11e9_b10b_0242ac1c0002row2_col1 {\n",
              "            background-color:  #f2faef;\n",
              "            color:  #000000;\n",
              "        }    #T_f658eac2_df97_11e9_b10b_0242ac1c0002row2_col2 {\n",
              "            background-color:  #37a055;\n",
              "            color:  #000000;\n",
              "        }    #T_f658eac2_df97_11e9_b10b_0242ac1c0002row2_col3 {\n",
              "            background-color:  #37a055;\n",
              "            color:  #000000;\n",
              "        }    #T_f658eac2_df97_11e9_b10b_0242ac1c0002row2_col4 {\n",
              "            background-color:  #5eb96b;\n",
              "            color:  #000000;\n",
              "        }    #T_f658eac2_df97_11e9_b10b_0242ac1c0002row3_col1 {\n",
              "            background-color:  #f0f9ec;\n",
              "            color:  #000000;\n",
              "        }    #T_f658eac2_df97_11e9_b10b_0242ac1c0002row3_col2 {\n",
              "            background-color:  #37a055;\n",
              "            color:  #000000;\n",
              "        }    #T_f658eac2_df97_11e9_b10b_0242ac1c0002row3_col3 {\n",
              "            background-color:  #f7fcf5;\n",
              "            color:  #000000;\n",
              "        }    #T_f658eac2_df97_11e9_b10b_0242ac1c0002row3_col4 {\n",
              "            background-color:  #63bc6e;\n",
              "            color:  #000000;\n",
              "        }    #T_f658eac2_df97_11e9_b10b_0242ac1c0002row4_col1 {\n",
              "            background-color:  #f1faee;\n",
              "            color:  #000000;\n",
              "        }    #T_f658eac2_df97_11e9_b10b_0242ac1c0002row4_col2 {\n",
              "            background-color:  #37a055;\n",
              "            color:  #000000;\n",
              "        }    #T_f658eac2_df97_11e9_b10b_0242ac1c0002row4_col3 {\n",
              "            background-color:  #f7fcf5;\n",
              "            color:  #000000;\n",
              "        }    #T_f658eac2_df97_11e9_b10b_0242ac1c0002row4_col4 {\n",
              "            background-color:  #86cc85;\n",
              "            color:  #000000;\n",
              "        }    #T_f658eac2_df97_11e9_b10b_0242ac1c0002row5_col1 {\n",
              "            background-color:  #f2faef;\n",
              "            color:  #000000;\n",
              "        }    #T_f658eac2_df97_11e9_b10b_0242ac1c0002row5_col2 {\n",
              "            background-color:  #37a055;\n",
              "            color:  #000000;\n",
              "        }    #T_f658eac2_df97_11e9_b10b_0242ac1c0002row5_col3 {\n",
              "            background-color:  #f7fcf5;\n",
              "            color:  #000000;\n",
              "        }    #T_f658eac2_df97_11e9_b10b_0242ac1c0002row5_col4 {\n",
              "            background-color:  #9fd899;\n",
              "            color:  #000000;\n",
              "        }    #T_f658eac2_df97_11e9_b10b_0242ac1c0002row6_col1 {\n",
              "            background-color:  #f7fcf5;\n",
              "            color:  #000000;\n",
              "        }    #T_f658eac2_df97_11e9_b10b_0242ac1c0002row6_col2 {\n",
              "            background-color:  #37a055;\n",
              "            color:  #000000;\n",
              "        }    #T_f658eac2_df97_11e9_b10b_0242ac1c0002row6_col3 {\n",
              "            background-color:  #f7fcf5;\n",
              "            color:  #000000;\n",
              "        }    #T_f658eac2_df97_11e9_b10b_0242ac1c0002row6_col4 {\n",
              "            background-color:  #aedea7;\n",
              "            color:  #000000;\n",
              "        }    #T_f658eac2_df97_11e9_b10b_0242ac1c0002row7_col1 {\n",
              "            background-color:  #f7fcf5;\n",
              "            color:  #000000;\n",
              "        }    #T_f658eac2_df97_11e9_b10b_0242ac1c0002row7_col2 {\n",
              "            background-color:  #37a055;\n",
              "            color:  #000000;\n",
              "        }    #T_f658eac2_df97_11e9_b10b_0242ac1c0002row7_col3 {\n",
              "            background-color:  #f7fcf5;\n",
              "            color:  #000000;\n",
              "        }    #T_f658eac2_df97_11e9_b10b_0242ac1c0002row7_col4 {\n",
              "            background-color:  #b6e2af;\n",
              "            color:  #000000;\n",
              "        }    #T_f658eac2_df97_11e9_b10b_0242ac1c0002row8_col1 {\n",
              "            background-color:  #d3eecd;\n",
              "            color:  #000000;\n",
              "        }    #T_f658eac2_df97_11e9_b10b_0242ac1c0002row8_col2 {\n",
              "            background-color:  #37a055;\n",
              "            color:  #000000;\n",
              "        }    #T_f658eac2_df97_11e9_b10b_0242ac1c0002row8_col3 {\n",
              "            background-color:  #f7fcf5;\n",
              "            color:  #000000;\n",
              "        }    #T_f658eac2_df97_11e9_b10b_0242ac1c0002row8_col4 {\n",
              "            background-color:  #cdecc7;\n",
              "            color:  #000000;\n",
              "        }    #T_f658eac2_df97_11e9_b10b_0242ac1c0002row9_col1 {\n",
              "            background-color:  #8ed08b;\n",
              "            color:  #000000;\n",
              "        }    #T_f658eac2_df97_11e9_b10b_0242ac1c0002row9_col2 {\n",
              "            background-color:  #f7fcf5;\n",
              "            color:  #000000;\n",
              "        }    #T_f658eac2_df97_11e9_b10b_0242ac1c0002row9_col3 {\n",
              "            background-color:  #f7fcf5;\n",
              "            color:  #000000;\n",
              "        }    #T_f658eac2_df97_11e9_b10b_0242ac1c0002row9_col4 {\n",
              "            background-color:  #d7efd1;\n",
              "            color:  #000000;\n",
              "        }    #T_f658eac2_df97_11e9_b10b_0242ac1c0002row10_col1 {\n",
              "            background-color:  #f6fcf4;\n",
              "            color:  #000000;\n",
              "        }    #T_f658eac2_df97_11e9_b10b_0242ac1c0002row10_col2 {\n",
              "            background-color:  #f7fcf5;\n",
              "            color:  #000000;\n",
              "        }    #T_f658eac2_df97_11e9_b10b_0242ac1c0002row10_col3 {\n",
              "            background-color:  #f7fcf5;\n",
              "            color:  #000000;\n",
              "        }    #T_f658eac2_df97_11e9_b10b_0242ac1c0002row10_col4 {\n",
              "            background-color:  #dbf1d5;\n",
              "            color:  #000000;\n",
              "        }    #T_f658eac2_df97_11e9_b10b_0242ac1c0002row11_col1 {\n",
              "            background-color:  #e9f7e5;\n",
              "            color:  #000000;\n",
              "        }    #T_f658eac2_df97_11e9_b10b_0242ac1c0002row11_col2 {\n",
              "            background-color:  #f7fcf5;\n",
              "            color:  #000000;\n",
              "        }    #T_f658eac2_df97_11e9_b10b_0242ac1c0002row11_col3 {\n",
              "            background-color:  #37a055;\n",
              "            color:  #000000;\n",
              "        }    #T_f658eac2_df97_11e9_b10b_0242ac1c0002row11_col4 {\n",
              "            background-color:  #def2d9;\n",
              "            color:  #000000;\n",
              "        }    #T_f658eac2_df97_11e9_b10b_0242ac1c0002row12_col1 {\n",
              "            background-color:  #37a055;\n",
              "            color:  #000000;\n",
              "        }    #T_f658eac2_df97_11e9_b10b_0242ac1c0002row12_col2 {\n",
              "            background-color:  #f7fcf5;\n",
              "            color:  #000000;\n",
              "        }    #T_f658eac2_df97_11e9_b10b_0242ac1c0002row12_col3 {\n",
              "            background-color:  #37a055;\n",
              "            color:  #000000;\n",
              "        }    #T_f658eac2_df97_11e9_b10b_0242ac1c0002row12_col4 {\n",
              "            background-color:  #eaf7e6;\n",
              "            color:  #000000;\n",
              "        }    #T_f658eac2_df97_11e9_b10b_0242ac1c0002row13_col1 {\n",
              "            background-color:  #f1faee;\n",
              "            color:  #000000;\n",
              "        }    #T_f658eac2_df97_11e9_b10b_0242ac1c0002row13_col2 {\n",
              "            background-color:  #f7fcf5;\n",
              "            color:  #000000;\n",
              "        }    #T_f658eac2_df97_11e9_b10b_0242ac1c0002row13_col3 {\n",
              "            background-color:  #f7fcf5;\n",
              "            color:  #000000;\n",
              "        }    #T_f658eac2_df97_11e9_b10b_0242ac1c0002row13_col4 {\n",
              "            background-color:  #f0f9ec;\n",
              "            color:  #000000;\n",
              "        }    #T_f658eac2_df97_11e9_b10b_0242ac1c0002row14_col1 {\n",
              "            background-color:  #f4fbf2;\n",
              "            color:  #000000;\n",
              "        }    #T_f658eac2_df97_11e9_b10b_0242ac1c0002row14_col2 {\n",
              "            background-color:  #37a055;\n",
              "            color:  #000000;\n",
              "        }    #T_f658eac2_df97_11e9_b10b_0242ac1c0002row14_col3 {\n",
              "            background-color:  #f7fcf5;\n",
              "            color:  #000000;\n",
              "        }    #T_f658eac2_df97_11e9_b10b_0242ac1c0002row14_col4 {\n",
              "            background-color:  #f1faee;\n",
              "            color:  #000000;\n",
              "        }    #T_f658eac2_df97_11e9_b10b_0242ac1c0002row15_col1 {\n",
              "            background-color:  #40aa5d;\n",
              "            color:  #000000;\n",
              "        }    #T_f658eac2_df97_11e9_b10b_0242ac1c0002row15_col2 {\n",
              "            background-color:  #f7fcf5;\n",
              "            color:  #000000;\n",
              "        }    #T_f658eac2_df97_11e9_b10b_0242ac1c0002row15_col3 {\n",
              "            background-color:  #37a055;\n",
              "            color:  #000000;\n",
              "        }    #T_f658eac2_df97_11e9_b10b_0242ac1c0002row15_col4 {\n",
              "            background-color:  #f3faf0;\n",
              "            color:  #000000;\n",
              "        }    #T_f658eac2_df97_11e9_b10b_0242ac1c0002row16_col1 {\n",
              "            background-color:  #c1e6ba;\n",
              "            color:  #000000;\n",
              "        }    #T_f658eac2_df97_11e9_b10b_0242ac1c0002row16_col2 {\n",
              "            background-color:  #f7fcf5;\n",
              "            color:  #000000;\n",
              "        }    #T_f658eac2_df97_11e9_b10b_0242ac1c0002row16_col3 {\n",
              "            background-color:  #37a055;\n",
              "            color:  #000000;\n",
              "        }    #T_f658eac2_df97_11e9_b10b_0242ac1c0002row16_col4 {\n",
              "            background-color:  #f3faf0;\n",
              "            color:  #000000;\n",
              "        }    #T_f658eac2_df97_11e9_b10b_0242ac1c0002row17_col1 {\n",
              "            background-color:  #f5fbf3;\n",
              "            color:  #000000;\n",
              "        }    #T_f658eac2_df97_11e9_b10b_0242ac1c0002row17_col2 {\n",
              "            background-color:  #37a055;\n",
              "            color:  #000000;\n",
              "        }    #T_f658eac2_df97_11e9_b10b_0242ac1c0002row17_col3 {\n",
              "            background-color:  #f7fcf5;\n",
              "            color:  #000000;\n",
              "        }    #T_f658eac2_df97_11e9_b10b_0242ac1c0002row17_col4 {\n",
              "            background-color:  #f4fbf2;\n",
              "            color:  #000000;\n",
              "        }    #T_f658eac2_df97_11e9_b10b_0242ac1c0002row18_col1 {\n",
              "            background-color:  #edf8e9;\n",
              "            color:  #000000;\n",
              "        }    #T_f658eac2_df97_11e9_b10b_0242ac1c0002row18_col2 {\n",
              "            background-color:  #f7fcf5;\n",
              "            color:  #000000;\n",
              "        }    #T_f658eac2_df97_11e9_b10b_0242ac1c0002row18_col3 {\n",
              "            background-color:  #f7fcf5;\n",
              "            color:  #000000;\n",
              "        }    #T_f658eac2_df97_11e9_b10b_0242ac1c0002row18_col4 {\n",
              "            background-color:  #f5fbf3;\n",
              "            color:  #000000;\n",
              "        }    #T_f658eac2_df97_11e9_b10b_0242ac1c0002row19_col1 {\n",
              "            background-color:  #f1faee;\n",
              "            color:  #000000;\n",
              "        }    #T_f658eac2_df97_11e9_b10b_0242ac1c0002row19_col2 {\n",
              "            background-color:  #f7fcf5;\n",
              "            color:  #000000;\n",
              "        }    #T_f658eac2_df97_11e9_b10b_0242ac1c0002row19_col3 {\n",
              "            background-color:  #f7fcf5;\n",
              "            color:  #000000;\n",
              "        }    #T_f658eac2_df97_11e9_b10b_0242ac1c0002row19_col4 {\n",
              "            background-color:  #f7fcf5;\n",
              "            color:  #000000;\n",
              "        }</style><table id=\"T_f658eac2_df97_11e9_b10b_0242ac1c0002\" ><thead>    <tr>        <th class=\"blank level0\" ></th>        <th class=\"col_heading level0 col0\" >province</th>        <th class=\"col_heading level0 col1\" >count</th>        <th class=\"col_heading level0 col2\" >min</th>        <th class=\"col_heading level0 col3\" >max</th>        <th class=\"col_heading level0 col4\" >mean</th>    </tr></thead><tbody>\n",
              "                <tr>\n",
              "                        <th id=\"T_f658eac2_df97_11e9_b10b_0242ac1c0002level0_row0\" class=\"row_heading level0 row0\" >0</th>\n",
              "                        <td id=\"T_f658eac2_df97_11e9_b10b_0242ac1c0002row0_col0\" class=\"data row0 col0\" >Champagne</td>\n",
              "                        <td id=\"T_f658eac2_df97_11e9_b10b_0242ac1c0002row0_col1\" class=\"data row0 col1\" >474</td>\n",
              "                        <td id=\"T_f658eac2_df97_11e9_b10b_0242ac1c0002row0_col2\" class=\"data row0 col2\" >2</td>\n",
              "                        <td id=\"T_f658eac2_df97_11e9_b10b_0242ac1c0002row0_col3\" class=\"data row0 col3\" >5</td>\n",
              "                        <td id=\"T_f658eac2_df97_11e9_b10b_0242ac1c0002row0_col4\" class=\"data row0 col4\" >4.15612</td>\n",
              "            </tr>\n",
              "            <tr>\n",
              "                        <th id=\"T_f658eac2_df97_11e9_b10b_0242ac1c0002level0_row1\" class=\"row_heading level0 row1\" >1</th>\n",
              "                        <td id=\"T_f658eac2_df97_11e9_b10b_0242ac1c0002row1_col0\" class=\"data row1 col0\" >Wachau</td>\n",
              "                        <td id=\"T_f658eac2_df97_11e9_b10b_0242ac1c0002row1_col1\" class=\"data row1 col1\" >358</td>\n",
              "                        <td id=\"T_f658eac2_df97_11e9_b10b_0242ac1c0002row1_col2\" class=\"data row1 col2\" >2</td>\n",
              "                        <td id=\"T_f658eac2_df97_11e9_b10b_0242ac1c0002row1_col3\" class=\"data row1 col3\" >5</td>\n",
              "                        <td id=\"T_f658eac2_df97_11e9_b10b_0242ac1c0002row1_col4\" class=\"data row1 col4\" >4.12849</td>\n",
              "            </tr>\n",
              "            <tr>\n",
              "                        <th id=\"T_f658eac2_df97_11e9_b10b_0242ac1c0002level0_row2\" class=\"row_heading level0 row2\" >2</th>\n",
              "                        <td id=\"T_f658eac2_df97_11e9_b10b_0242ac1c0002row2_col0\" class=\"data row2 col0\" >Port</td>\n",
              "                        <td id=\"T_f658eac2_df97_11e9_b10b_0242ac1c0002row2_col1\" class=\"data row2 col1\" >296</td>\n",
              "                        <td id=\"T_f658eac2_df97_11e9_b10b_0242ac1c0002row2_col2\" class=\"data row2 col2\" >2</td>\n",
              "                        <td id=\"T_f658eac2_df97_11e9_b10b_0242ac1c0002row2_col3\" class=\"data row2 col3\" >6</td>\n",
              "                        <td id=\"T_f658eac2_df97_11e9_b10b_0242ac1c0002row2_col4\" class=\"data row2 col4\" >4.02365</td>\n",
              "            </tr>\n",
              "            <tr>\n",
              "                        <th id=\"T_f658eac2_df97_11e9_b10b_0242ac1c0002level0_row3\" class=\"row_heading level0 row3\" >3</th>\n",
              "                        <td id=\"T_f658eac2_df97_11e9_b10b_0242ac1c0002row3_col0\" class=\"data row3 col0\" >Kamptal</td>\n",
              "                        <td id=\"T_f658eac2_df97_11e9_b10b_0242ac1c0002row3_col1\" class=\"data row3 col1\" >366</td>\n",
              "                        <td id=\"T_f658eac2_df97_11e9_b10b_0242ac1c0002row3_col2\" class=\"data row3 col2\" >2</td>\n",
              "                        <td id=\"T_f658eac2_df97_11e9_b10b_0242ac1c0002row3_col3\" class=\"data row3 col3\" >5</td>\n",
              "                        <td id=\"T_f658eac2_df97_11e9_b10b_0242ac1c0002row3_col4\" class=\"data row3 col4\" >4.0082</td>\n",
              "            </tr>\n",
              "            <tr>\n",
              "                        <th id=\"T_f658eac2_df97_11e9_b10b_0242ac1c0002level0_row4\" class=\"row_heading level0 row4\" >4</th>\n",
              "                        <td id=\"T_f658eac2_df97_11e9_b10b_0242ac1c0002row4_col0\" class=\"data row4 col0\" >Kremstal</td>\n",
              "                        <td id=\"T_f658eac2_df97_11e9_b10b_0242ac1c0002row4_col1\" class=\"data row4 col1\" >319</td>\n",
              "                        <td id=\"T_f658eac2_df97_11e9_b10b_0242ac1c0002row4_col2\" class=\"data row4 col2\" >2</td>\n",
              "                        <td id=\"T_f658eac2_df97_11e9_b10b_0242ac1c0002row4_col3\" class=\"data row4 col3\" >5</td>\n",
              "                        <td id=\"T_f658eac2_df97_11e9_b10b_0242ac1c0002row4_col4\" class=\"data row4 col4\" >3.89969</td>\n",
              "            </tr>\n",
              "            <tr>\n",
              "                        <th id=\"T_f658eac2_df97_11e9_b10b_0242ac1c0002level0_row5\" class=\"row_heading level0 row5\" >5</th>\n",
              "                        <td id=\"T_f658eac2_df97_11e9_b10b_0242ac1c0002row5_col0\" class=\"data row5 col0\" >Rheingau</td>\n",
              "                        <td id=\"T_f658eac2_df97_11e9_b10b_0242ac1c0002row5_col1\" class=\"data row5 col1\" >300</td>\n",
              "                        <td id=\"T_f658eac2_df97_11e9_b10b_0242ac1c0002row5_col2\" class=\"data row5 col2\" >2</td>\n",
              "                        <td id=\"T_f658eac2_df97_11e9_b10b_0242ac1c0002row5_col3\" class=\"data row5 col3\" >5</td>\n",
              "                        <td id=\"T_f658eac2_df97_11e9_b10b_0242ac1c0002row5_col4\" class=\"data row5 col4\" >3.82</td>\n",
              "            </tr>\n",
              "            <tr>\n",
              "                        <th id=\"T_f658eac2_df97_11e9_b10b_0242ac1c0002level0_row6\" class=\"row_heading level0 row6\" >6</th>\n",
              "                        <td id=\"T_f658eac2_df97_11e9_b10b_0242ac1c0002row6_col0\" class=\"data row6 col0\" >Carnuntum</td>\n",
              "                        <td id=\"T_f658eac2_df97_11e9_b10b_0242ac1c0002row6_col1\" class=\"data row6 col1\" >106</td>\n",
              "                        <td id=\"T_f658eac2_df97_11e9_b10b_0242ac1c0002row6_col2\" class=\"data row6 col2\" >2</td>\n",
              "                        <td id=\"T_f658eac2_df97_11e9_b10b_0242ac1c0002row6_col3\" class=\"data row6 col3\" >5</td>\n",
              "                        <td id=\"T_f658eac2_df97_11e9_b10b_0242ac1c0002row6_col4\" class=\"data row6 col4\" >3.76415</td>\n",
              "            </tr>\n",
              "            <tr>\n",
              "                        <th id=\"T_f658eac2_df97_11e9_b10b_0242ac1c0002level0_row7\" class=\"row_heading level0 row7\" >7</th>\n",
              "                        <td id=\"T_f658eac2_df97_11e9_b10b_0242ac1c0002row7_col0\" class=\"data row7 col0\" >Thermenregion</td>\n",
              "                        <td id=\"T_f658eac2_df97_11e9_b10b_0242ac1c0002row7_col1\" class=\"data row7 col1\" >108</td>\n",
              "                        <td id=\"T_f658eac2_df97_11e9_b10b_0242ac1c0002row7_col2\" class=\"data row7 col2\" >2</td>\n",
              "                        <td id=\"T_f658eac2_df97_11e9_b10b_0242ac1c0002row7_col3\" class=\"data row7 col3\" >5</td>\n",
              "                        <td id=\"T_f658eac2_df97_11e9_b10b_0242ac1c0002row7_col4\" class=\"data row7 col4\" >3.73148</td>\n",
              "            </tr>\n",
              "            <tr>\n",
              "                        <th id=\"T_f658eac2_df97_11e9_b10b_0242ac1c0002level0_row8\" class=\"row_heading level0 row8\" >8</th>\n",
              "                        <td id=\"T_f658eac2_df97_11e9_b10b_0242ac1c0002row8_col0\" class=\"data row8 col0\" >Mosel</td>\n",
              "                        <td id=\"T_f658eac2_df97_11e9_b10b_0242ac1c0002row8_col1\" class=\"data row8 col1\" >1112</td>\n",
              "                        <td id=\"T_f658eac2_df97_11e9_b10b_0242ac1c0002row8_col2\" class=\"data row8 col2\" >2</td>\n",
              "                        <td id=\"T_f658eac2_df97_11e9_b10b_0242ac1c0002row8_col3\" class=\"data row8 col3\" >5</td>\n",
              "                        <td id=\"T_f658eac2_df97_11e9_b10b_0242ac1c0002row8_col4\" class=\"data row8 col4\" >3.63219</td>\n",
              "            </tr>\n",
              "            <tr>\n",
              "                        <th id=\"T_f658eac2_df97_11e9_b10b_0242ac1c0002level0_row9\" class=\"row_heading level0 row9\" >9</th>\n",
              "                        <td id=\"T_f658eac2_df97_11e9_b10b_0242ac1c0002row9_col0\" class=\"data row9 col0\" >Alsace</td>\n",
              "                        <td id=\"T_f658eac2_df97_11e9_b10b_0242ac1c0002row9_col1\" class=\"data row9 col1\" >2242</td>\n",
              "                        <td id=\"T_f658eac2_df97_11e9_b10b_0242ac1c0002row9_col2\" class=\"data row9 col2\" >1</td>\n",
              "                        <td id=\"T_f658eac2_df97_11e9_b10b_0242ac1c0002row9_col3\" class=\"data row9 col3\" >5</td>\n",
              "                        <td id=\"T_f658eac2_df97_11e9_b10b_0242ac1c0002row9_col4\" class=\"data row9 col4\" >3.58608</td>\n",
              "            </tr>\n",
              "            <tr>\n",
              "                        <th id=\"T_f658eac2_df97_11e9_b10b_0242ac1c0002level0_row10\" class=\"row_heading level0 row10\" >10</th>\n",
              "                        <td id=\"T_f658eac2_df97_11e9_b10b_0242ac1c0002row10_col0\" class=\"data row10 col0\" >British Columbia</td>\n",
              "                        <td id=\"T_f658eac2_df97_11e9_b10b_0242ac1c0002row10_col1\" class=\"data row10 col1\" >151</td>\n",
              "                        <td id=\"T_f658eac2_df97_11e9_b10b_0242ac1c0002row10_col2\" class=\"data row10 col2\" >1</td>\n",
              "                        <td id=\"T_f658eac2_df97_11e9_b10b_0242ac1c0002row10_col3\" class=\"data row10 col3\" >5</td>\n",
              "                        <td id=\"T_f658eac2_df97_11e9_b10b_0242ac1c0002row10_col4\" class=\"data row10 col4\" >3.56954</td>\n",
              "            </tr>\n",
              "            <tr>\n",
              "                        <th id=\"T_f658eac2_df97_11e9_b10b_0242ac1c0002level0_row11\" class=\"row_heading level0 row11\" >11</th>\n",
              "                        <td id=\"T_f658eac2_df97_11e9_b10b_0242ac1c0002row11_col0\" class=\"data row11 col0\" >Burgenland</td>\n",
              "                        <td id=\"T_f658eac2_df97_11e9_b10b_0242ac1c0002row11_col1\" class=\"data row11 col1\" >579</td>\n",
              "                        <td id=\"T_f658eac2_df97_11e9_b10b_0242ac1c0002row11_col2\" class=\"data row11 col2\" >1</td>\n",
              "                        <td id=\"T_f658eac2_df97_11e9_b10b_0242ac1c0002row11_col3\" class=\"data row11 col3\" >6</td>\n",
              "                        <td id=\"T_f658eac2_df97_11e9_b10b_0242ac1c0002row11_col4\" class=\"data row11 col4\" >3.55268</td>\n",
              "            </tr>\n",
              "            <tr>\n",
              "                        <th id=\"T_f658eac2_df97_11e9_b10b_0242ac1c0002level0_row12\" class=\"row_heading level0 row12\" >12</th>\n",
              "                        <td id=\"T_f658eac2_df97_11e9_b10b_0242ac1c0002row12_col0\" class=\"data row12 col0\" >Piedmont</td>\n",
              "                        <td id=\"T_f658eac2_df97_11e9_b10b_0242ac1c0002row12_col1\" class=\"data row12 col1\" >3445</td>\n",
              "                        <td id=\"T_f658eac2_df97_11e9_b10b_0242ac1c0002row12_col2\" class=\"data row12 col2\" >1</td>\n",
              "                        <td id=\"T_f658eac2_df97_11e9_b10b_0242ac1c0002row12_col3\" class=\"data row12 col3\" >6</td>\n",
              "                        <td id=\"T_f658eac2_df97_11e9_b10b_0242ac1c0002row12_col4\" class=\"data row12 col4\" >3.47692</td>\n",
              "            </tr>\n",
              "            <tr>\n",
              "                        <th id=\"T_f658eac2_df97_11e9_b10b_0242ac1c0002level0_row13\" class=\"row_heading level0 row13\" >13</th>\n",
              "                        <td id=\"T_f658eac2_df97_11e9_b10b_0242ac1c0002row13_col0\" class=\"data row13 col0\" >Dão</td>\n",
              "                        <td id=\"T_f658eac2_df97_11e9_b10b_0242ac1c0002row13_col1\" class=\"data row13 col1\" >334</td>\n",
              "                        <td id=\"T_f658eac2_df97_11e9_b10b_0242ac1c0002row13_col2\" class=\"data row13 col2\" >1</td>\n",
              "                        <td id=\"T_f658eac2_df97_11e9_b10b_0242ac1c0002row13_col3\" class=\"data row13 col3\" >5</td>\n",
              "                        <td id=\"T_f658eac2_df97_11e9_b10b_0242ac1c0002row13_col4\" class=\"data row13 col4\" >3.43114</td>\n",
              "            </tr>\n",
              "            <tr>\n",
              "                        <th id=\"T_f658eac2_df97_11e9_b10b_0242ac1c0002level0_row14\" class=\"row_heading level0 row14\" >14</th>\n",
              "                        <td id=\"T_f658eac2_df97_11e9_b10b_0242ac1c0002row14_col0\" class=\"data row14 col0\" >Pfalz</td>\n",
              "                        <td id=\"T_f658eac2_df97_11e9_b10b_0242ac1c0002row14_col1\" class=\"data row14 col1\" >212</td>\n",
              "                        <td id=\"T_f658eac2_df97_11e9_b10b_0242ac1c0002row14_col2\" class=\"data row14 col2\" >2</td>\n",
              "                        <td id=\"T_f658eac2_df97_11e9_b10b_0242ac1c0002row14_col3\" class=\"data row14 col3\" >5</td>\n",
              "                        <td id=\"T_f658eac2_df97_11e9_b10b_0242ac1c0002row14_col4\" class=\"data row14 col4\" >3.41509</td>\n",
              "            </tr>\n",
              "            <tr>\n",
              "                        <th id=\"T_f658eac2_df97_11e9_b10b_0242ac1c0002level0_row15\" class=\"row_heading level0 row15\" >15</th>\n",
              "                        <td id=\"T_f658eac2_df97_11e9_b10b_0242ac1c0002row15_col0\" class=\"data row15 col0\" >Burgundy</td>\n",
              "                        <td id=\"T_f658eac2_df97_11e9_b10b_0242ac1c0002row15_col1\" class=\"data row15 col1\" >3245</td>\n",
              "                        <td id=\"T_f658eac2_df97_11e9_b10b_0242ac1c0002row15_col2\" class=\"data row15 col2\" >1</td>\n",
              "                        <td id=\"T_f658eac2_df97_11e9_b10b_0242ac1c0002row15_col3\" class=\"data row15 col3\" >6</td>\n",
              "                        <td id=\"T_f658eac2_df97_11e9_b10b_0242ac1c0002row15_col4\" class=\"data row15 col4\" >3.40401</td>\n",
              "            </tr>\n",
              "            <tr>\n",
              "                        <th id=\"T_f658eac2_df97_11e9_b10b_0242ac1c0002level0_row16\" class=\"row_heading level0 row16\" >16</th>\n",
              "                        <td id=\"T_f658eac2_df97_11e9_b10b_0242ac1c0002row16_col0\" class=\"data row16 col0\" >Rhône Valley</td>\n",
              "                        <td id=\"T_f658eac2_df97_11e9_b10b_0242ac1c0002row16_col1\" class=\"data row16 col1\" >1463</td>\n",
              "                        <td id=\"T_f658eac2_df97_11e9_b10b_0242ac1c0002row16_col2\" class=\"data row16 col2\" >1</td>\n",
              "                        <td id=\"T_f658eac2_df97_11e9_b10b_0242ac1c0002row16_col3\" class=\"data row16 col3\" >6</td>\n",
              "                        <td id=\"T_f658eac2_df97_11e9_b10b_0242ac1c0002row16_col4\" class=\"data row16 col4\" >3.40328</td>\n",
              "            </tr>\n",
              "            <tr>\n",
              "                        <th id=\"T_f658eac2_df97_11e9_b10b_0242ac1c0002level0_row17\" class=\"row_heading level0 row17\" >17</th>\n",
              "                        <td id=\"T_f658eac2_df97_11e9_b10b_0242ac1c0002row17_col0\" class=\"data row17 col0\" >Central Otago</td>\n",
              "                        <td id=\"T_f658eac2_df97_11e9_b10b_0242ac1c0002row17_col1\" class=\"data row17 col1\" >171</td>\n",
              "                        <td id=\"T_f658eac2_df97_11e9_b10b_0242ac1c0002row17_col2\" class=\"data row17 col2\" >2</td>\n",
              "                        <td id=\"T_f658eac2_df97_11e9_b10b_0242ac1c0002row17_col3\" class=\"data row17 col3\" >5</td>\n",
              "                        <td id=\"T_f658eac2_df97_11e9_b10b_0242ac1c0002row17_col4\" class=\"data row17 col4\" >3.39181</td>\n",
              "            </tr>\n",
              "            <tr>\n",
              "                        <th id=\"T_f658eac2_df97_11e9_b10b_0242ac1c0002level0_row18\" class=\"row_heading level0 row18\" >18</th>\n",
              "                        <td id=\"T_f658eac2_df97_11e9_b10b_0242ac1c0002row18_col0\" class=\"data row18 col0\" >Lombardy</td>\n",
              "                        <td id=\"T_f658eac2_df97_11e9_b10b_0242ac1c0002row18_col1\" class=\"data row18 col1\" >463</td>\n",
              "                        <td id=\"T_f658eac2_df97_11e9_b10b_0242ac1c0002row18_col2\" class=\"data row18 col2\" >1</td>\n",
              "                        <td id=\"T_f658eac2_df97_11e9_b10b_0242ac1c0002row18_col3\" class=\"data row18 col3\" >5</td>\n",
              "                        <td id=\"T_f658eac2_df97_11e9_b10b_0242ac1c0002row18_col4\" class=\"data row18 col4\" >3.38661</td>\n",
              "            </tr>\n",
              "            <tr>\n",
              "                        <th id=\"T_f658eac2_df97_11e9_b10b_0242ac1c0002level0_row19\" class=\"row_heading level0 row19\" >19</th>\n",
              "                        <td id=\"T_f658eac2_df97_11e9_b10b_0242ac1c0002row19_col0\" class=\"data row19 col0\" >Western Australia</td>\n",
              "                        <td id=\"T_f658eac2_df97_11e9_b10b_0242ac1c0002row19_col1\" class=\"data row19 col1\" >334</td>\n",
              "                        <td id=\"T_f658eac2_df97_11e9_b10b_0242ac1c0002row19_col2\" class=\"data row19 col2\" >1</td>\n",
              "                        <td id=\"T_f658eac2_df97_11e9_b10b_0242ac1c0002row19_col3\" class=\"data row19 col3\" >5</td>\n",
              "                        <td id=\"T_f658eac2_df97_11e9_b10b_0242ac1c0002row19_col4\" class=\"data row19 col4\" >3.36826</td>\n",
              "            </tr>\n",
              "    </tbody></table>"
            ],
            "text/plain": [
              "<pandas.io.formats.style.Styler at 0x7fb9acf15588>"
            ]
          },
          "metadata": {
            "tags": []
          },
          "execution_count": 27
        }
      ]
    },
    {
      "cell_type": "markdown",
      "metadata": {
        "id": "F3kJc4Gi-dXn",
        "colab_type": "text"
      },
      "source": [
        "**2.4.6 Region_1 & Rank**"
      ]
    },
    {
      "cell_type": "markdown",
      "metadata": {
        "id": "nxUTI-ZN_J1e",
        "colab_type": "text"
      },
      "source": [
        "The feature \"region_1\" has the similar situation like feature \"province\". Therefore, I dropped the region_1 with less than 100 observations. There are 87806 rows left. "
      ]
    },
    {
      "cell_type": "code",
      "metadata": {
        "id": "QuM-hFc6-h7G",
        "colab_type": "code",
        "colab": {
          "base_uri": "https://localhost:8080/",
          "height": 1000
        },
        "outputId": "2cf3b7b1-6fcb-49cf-eb2f-409f53699dec"
      },
      "source": [
        "df.region_1.value_counts()"
      ],
      "execution_count": 28,
      "outputs": [
        {
          "output_type": "execute_result",
          "data": {
            "text/plain": [
              "Napa Valley                       4490\n",
              "Columbia Valley (WA)              4200\n",
              "Russian River Valley              3243\n",
              "Willamette Valley                 2545\n",
              "California                        2531\n",
              "Paso Robles                       2457\n",
              "Mendoza                           2306\n",
              "Alsace                            2187\n",
              "Barolo                            1698\n",
              "Sonoma Coast                      1637\n",
              "Rioja                             1591\n",
              "Finger Lakes                      1572\n",
              "Brunello di Montalcino            1320\n",
              "Sonoma County                     1250\n",
              "Walla Walla Valley (WA)           1131\n",
              "Sta. Rita Hills                   1112\n",
              "Chianti Classico                  1099\n",
              "Yakima Valley                     1056\n",
              "Carneros                          1054\n",
              "Santa Barbara County              1050\n",
              "Toscana                           1007\n",
              "Dry Creek Valley                   982\n",
              "Lodi                               895\n",
              "Sicilia                            845\n",
              "Santa Ynez Valley                  838\n",
              "Santa Lucia Highlands              821\n",
              "Côtes de Provence                  795\n",
              "Central Coast                      795\n",
              "Alexander Valley                   790\n",
              "Ribera del Duero                   758\n",
              "                                  ... \n",
              "Grave del Friuli                     1\n",
              "Borden Ranch                         1\n",
              "Côtes de Montravel                   1\n",
              "Sonoma-Napa-Lake                     1\n",
              "Clairette de Die                     1\n",
              "Grands-Echezeaux                     1\n",
              "Madera County                        1\n",
              "Grignan-les-Adhémar                  1\n",
              "Vin de Pays de France                1\n",
              "Asprinio di Aversa                   1\n",
              "Côtes de Saint-Mont                  1\n",
              "Squinzano                            1\n",
              "Côtes du Rhône Brézème               1\n",
              "Vin de Pays de Montferrand           1\n",
              "Pays de Loire                        1\n",
              "Coda di Volpe d'Irpinia              1\n",
              "Dolcetto d'Asti                      1\n",
              "Côtes du Roussillon Les Aspres       1\n",
              "Vallée du Paradis                    1\n",
              "Nizza                                1\n",
              "Tuscany                              1\n",
              "Alpilles                             1\n",
              "Barossa-Langhorne Creek              1\n",
              "Finca Élez                           1\n",
              "Benaco Bresciano                     1\n",
              "Valle del Tirso                      1\n",
              "Chianti Colli Pisani                 1\n",
              "Currency Creek-McLaren Vale          1\n",
              "Napa Valley-Paso Robles              1\n",
              "Aglianico d'Irpinia                  1\n",
              "Name: region_1, Length: 1187, dtype: int64"
            ]
          },
          "metadata": {
            "tags": []
          },
          "execution_count": 28
        }
      ]
    },
    {
      "cell_type": "code",
      "metadata": {
        "id": "qrz7KvA3_SmB",
        "colab_type": "code",
        "colab": {
          "base_uri": "https://localhost:8080/",
          "height": 460
        },
        "outputId": "400ecef1-5393-4269-9628-9788c409f25b"
      },
      "source": [
        "df = df.groupby(\"region_1\").filter(lambda x: len(x) >= 100)\n",
        "rr = df.groupby(['region_1'])['rank'].agg(['count','min','max','mean']).sort_values(by='mean',ascending= False)[:20]\n",
        "rr.reset_index(inplace=True)\n",
        "rr.style.background_gradient(cmap='Greens',high=0.5)"
      ],
      "execution_count": 29,
      "outputs": [
        {
          "output_type": "execute_result",
          "data": {
            "text/html": [
              "<style  type=\"text/css\" >\n",
              "    #T_f6a2dccc_df97_11e9_b10b_0242ac1c0002row0_col1 {\n",
              "            background-color:  #c9eac2;\n",
              "            color:  #000000;\n",
              "        }    #T_f6a2dccc_df97_11e9_b10b_0242ac1c0002row0_col2 {\n",
              "            background-color:  #aedea7;\n",
              "            color:  #000000;\n",
              "        }    #T_f6a2dccc_df97_11e9_b10b_0242ac1c0002row0_col3 {\n",
              "            background-color:  #f7fcf5;\n",
              "            color:  #000000;\n",
              "        }    #T_f6a2dccc_df97_11e9_b10b_0242ac1c0002row0_col4 {\n",
              "            background-color:  #37a055;\n",
              "            color:  #000000;\n",
              "        }    #T_f6a2dccc_df97_11e9_b10b_0242ac1c0002row1_col1 {\n",
              "            background-color:  #f6fcf4;\n",
              "            color:  #000000;\n",
              "        }    #T_f6a2dccc_df97_11e9_b10b_0242ac1c0002row1_col2 {\n",
              "            background-color:  #37a055;\n",
              "            color:  #000000;\n",
              "        }    #T_f6a2dccc_df97_11e9_b10b_0242ac1c0002row1_col3 {\n",
              "            background-color:  #f7fcf5;\n",
              "            color:  #000000;\n",
              "        }    #T_f6a2dccc_df97_11e9_b10b_0242ac1c0002row1_col4 {\n",
              "            background-color:  #7ac77b;\n",
              "            color:  #000000;\n",
              "        }    #T_f6a2dccc_df97_11e9_b10b_0242ac1c0002row2_col1 {\n",
              "            background-color:  #f1faee;\n",
              "            color:  #000000;\n",
              "        }    #T_f6a2dccc_df97_11e9_b10b_0242ac1c0002row2_col2 {\n",
              "            background-color:  #f7fcf5;\n",
              "            color:  #000000;\n",
              "        }    #T_f6a2dccc_df97_11e9_b10b_0242ac1c0002row2_col3 {\n",
              "            background-color:  #37a055;\n",
              "            color:  #000000;\n",
              "        }    #T_f6a2dccc_df97_11e9_b10b_0242ac1c0002row2_col4 {\n",
              "            background-color:  #81ca81;\n",
              "            color:  #000000;\n",
              "        }    #T_f6a2dccc_df97_11e9_b10b_0242ac1c0002row3_col1 {\n",
              "            background-color:  #f2faf0;\n",
              "            color:  #000000;\n",
              "        }    #T_f6a2dccc_df97_11e9_b10b_0242ac1c0002row3_col2 {\n",
              "            background-color:  #aedea7;\n",
              "            color:  #000000;\n",
              "        }    #T_f6a2dccc_df97_11e9_b10b_0242ac1c0002row3_col3 {\n",
              "            background-color:  #f7fcf5;\n",
              "            color:  #000000;\n",
              "        }    #T_f6a2dccc_df97_11e9_b10b_0242ac1c0002row3_col4 {\n",
              "            background-color:  #88ce87;\n",
              "            color:  #000000;\n",
              "        }    #T_f6a2dccc_df97_11e9_b10b_0242ac1c0002row4_col1 {\n",
              "            background-color:  #f6fcf4;\n",
              "            color:  #000000;\n",
              "        }    #T_f6a2dccc_df97_11e9_b10b_0242ac1c0002row4_col2 {\n",
              "            background-color:  #f7fcf5;\n",
              "            color:  #000000;\n",
              "        }    #T_f6a2dccc_df97_11e9_b10b_0242ac1c0002row4_col3 {\n",
              "            background-color:  #f7fcf5;\n",
              "            color:  #000000;\n",
              "        }    #T_f6a2dccc_df97_11e9_b10b_0242ac1c0002row4_col4 {\n",
              "            background-color:  #b6e2af;\n",
              "            color:  #000000;\n",
              "        }    #T_f6a2dccc_df97_11e9_b10b_0242ac1c0002row5_col1 {\n",
              "            background-color:  #f6fcf4;\n",
              "            color:  #000000;\n",
              "        }    #T_f6a2dccc_df97_11e9_b10b_0242ac1c0002row5_col2 {\n",
              "            background-color:  #aedea7;\n",
              "            color:  #000000;\n",
              "        }    #T_f6a2dccc_df97_11e9_b10b_0242ac1c0002row5_col3 {\n",
              "            background-color:  #f7fcf5;\n",
              "            color:  #000000;\n",
              "        }    #T_f6a2dccc_df97_11e9_b10b_0242ac1c0002row5_col4 {\n",
              "            background-color:  #b8e3b2;\n",
              "            color:  #000000;\n",
              "        }    #T_f6a2dccc_df97_11e9_b10b_0242ac1c0002row6_col1 {\n",
              "            background-color:  #f2faf0;\n",
              "            color:  #000000;\n",
              "        }    #T_f6a2dccc_df97_11e9_b10b_0242ac1c0002row6_col2 {\n",
              "            background-color:  #f7fcf5;\n",
              "            color:  #000000;\n",
              "        }    #T_f6a2dccc_df97_11e9_b10b_0242ac1c0002row6_col3 {\n",
              "            background-color:  #f7fcf5;\n",
              "            color:  #000000;\n",
              "        }    #T_f6a2dccc_df97_11e9_b10b_0242ac1c0002row6_col4 {\n",
              "            background-color:  #bce4b5;\n",
              "            color:  #000000;\n",
              "        }    #T_f6a2dccc_df97_11e9_b10b_0242ac1c0002row7_col1 {\n",
              "            background-color:  #f2faef;\n",
              "            color:  #000000;\n",
              "        }    #T_f6a2dccc_df97_11e9_b10b_0242ac1c0002row7_col2 {\n",
              "            background-color:  #aedea7;\n",
              "            color:  #000000;\n",
              "        }    #T_f6a2dccc_df97_11e9_b10b_0242ac1c0002row7_col3 {\n",
              "            background-color:  #f7fcf5;\n",
              "            color:  #000000;\n",
              "        }    #T_f6a2dccc_df97_11e9_b10b_0242ac1c0002row7_col4 {\n",
              "            background-color:  #cbeac4;\n",
              "            color:  #000000;\n",
              "        }    #T_f6a2dccc_df97_11e9_b10b_0242ac1c0002row8_col1 {\n",
              "            background-color:  #f3faf0;\n",
              "            color:  #000000;\n",
              "        }    #T_f6a2dccc_df97_11e9_b10b_0242ac1c0002row8_col2 {\n",
              "            background-color:  #aedea7;\n",
              "            color:  #000000;\n",
              "        }    #T_f6a2dccc_df97_11e9_b10b_0242ac1c0002row8_col3 {\n",
              "            background-color:  #37a055;\n",
              "            color:  #000000;\n",
              "        }    #T_f6a2dccc_df97_11e9_b10b_0242ac1c0002row8_col4 {\n",
              "            background-color:  #cdecc7;\n",
              "            color:  #000000;\n",
              "        }    #T_f6a2dccc_df97_11e9_b10b_0242ac1c0002row9_col1 {\n",
              "            background-color:  #f4fbf1;\n",
              "            color:  #000000;\n",
              "        }    #T_f6a2dccc_df97_11e9_b10b_0242ac1c0002row9_col2 {\n",
              "            background-color:  #aedea7;\n",
              "            color:  #000000;\n",
              "        }    #T_f6a2dccc_df97_11e9_b10b_0242ac1c0002row9_col3 {\n",
              "            background-color:  #37a055;\n",
              "            color:  #000000;\n",
              "        }    #T_f6a2dccc_df97_11e9_b10b_0242ac1c0002row9_col4 {\n",
              "            background-color:  #d0edca;\n",
              "            color:  #000000;\n",
              "        }    #T_f6a2dccc_df97_11e9_b10b_0242ac1c0002row10_col1 {\n",
              "            background-color:  #ecf8e8;\n",
              "            color:  #000000;\n",
              "        }    #T_f6a2dccc_df97_11e9_b10b_0242ac1c0002row10_col2 {\n",
              "            background-color:  #f7fcf5;\n",
              "            color:  #000000;\n",
              "        }    #T_f6a2dccc_df97_11e9_b10b_0242ac1c0002row10_col3 {\n",
              "            background-color:  #f7fcf5;\n",
              "            color:  #000000;\n",
              "        }    #T_f6a2dccc_df97_11e9_b10b_0242ac1c0002row10_col4 {\n",
              "            background-color:  #daf0d4;\n",
              "            color:  #000000;\n",
              "        }    #T_f6a2dccc_df97_11e9_b10b_0242ac1c0002row11_col1 {\n",
              "            background-color:  #f5fbf2;\n",
              "            color:  #000000;\n",
              "        }    #T_f6a2dccc_df97_11e9_b10b_0242ac1c0002row11_col2 {\n",
              "            background-color:  #aedea7;\n",
              "            color:  #000000;\n",
              "        }    #T_f6a2dccc_df97_11e9_b10b_0242ac1c0002row11_col3 {\n",
              "            background-color:  #f7fcf5;\n",
              "            color:  #000000;\n",
              "        }    #T_f6a2dccc_df97_11e9_b10b_0242ac1c0002row11_col4 {\n",
              "            background-color:  #e2f4dd;\n",
              "            color:  #000000;\n",
              "        }    #T_f6a2dccc_df97_11e9_b10b_0242ac1c0002row12_col1 {\n",
              "            background-color:  #f1faee;\n",
              "            color:  #000000;\n",
              "        }    #T_f6a2dccc_df97_11e9_b10b_0242ac1c0002row12_col2 {\n",
              "            background-color:  #aedea7;\n",
              "            color:  #000000;\n",
              "        }    #T_f6a2dccc_df97_11e9_b10b_0242ac1c0002row12_col3 {\n",
              "            background-color:  #f7fcf5;\n",
              "            color:  #000000;\n",
              "        }    #T_f6a2dccc_df97_11e9_b10b_0242ac1c0002row12_col4 {\n",
              "            background-color:  #e5f5e1;\n",
              "            color:  #000000;\n",
              "        }    #T_f6a2dccc_df97_11e9_b10b_0242ac1c0002row13_col1 {\n",
              "            background-color:  #f7fcf5;\n",
              "            color:  #000000;\n",
              "        }    #T_f6a2dccc_df97_11e9_b10b_0242ac1c0002row13_col2 {\n",
              "            background-color:  #aedea7;\n",
              "            color:  #000000;\n",
              "        }    #T_f6a2dccc_df97_11e9_b10b_0242ac1c0002row13_col3 {\n",
              "            background-color:  #f7fcf5;\n",
              "            color:  #000000;\n",
              "        }    #T_f6a2dccc_df97_11e9_b10b_0242ac1c0002row13_col4 {\n",
              "            background-color:  #e6f5e1;\n",
              "            color:  #000000;\n",
              "        }    #T_f6a2dccc_df97_11e9_b10b_0242ac1c0002row14_col1 {\n",
              "            background-color:  #f7fcf5;\n",
              "            color:  #000000;\n",
              "        }    #T_f6a2dccc_df97_11e9_b10b_0242ac1c0002row14_col2 {\n",
              "            background-color:  #aedea7;\n",
              "            color:  #000000;\n",
              "        }    #T_f6a2dccc_df97_11e9_b10b_0242ac1c0002row14_col3 {\n",
              "            background-color:  #f7fcf5;\n",
              "            color:  #000000;\n",
              "        }    #T_f6a2dccc_df97_11e9_b10b_0242ac1c0002row14_col4 {\n",
              "            background-color:  #e8f6e3;\n",
              "            color:  #000000;\n",
              "        }    #T_f6a2dccc_df97_11e9_b10b_0242ac1c0002row15_col1 {\n",
              "            background-color:  #f6fcf4;\n",
              "            color:  #000000;\n",
              "        }    #T_f6a2dccc_df97_11e9_b10b_0242ac1c0002row15_col2 {\n",
              "            background-color:  #aedea7;\n",
              "            color:  #000000;\n",
              "        }    #T_f6a2dccc_df97_11e9_b10b_0242ac1c0002row15_col3 {\n",
              "            background-color:  #f7fcf5;\n",
              "            color:  #000000;\n",
              "        }    #T_f6a2dccc_df97_11e9_b10b_0242ac1c0002row15_col4 {\n",
              "            background-color:  #ebf7e7;\n",
              "            color:  #000000;\n",
              "        }    #T_f6a2dccc_df97_11e9_b10b_0242ac1c0002row16_col1 {\n",
              "            background-color:  #37a055;\n",
              "            color:  #000000;\n",
              "        }    #T_f6a2dccc_df97_11e9_b10b_0242ac1c0002row16_col2 {\n",
              "            background-color:  #f7fcf5;\n",
              "            color:  #000000;\n",
              "        }    #T_f6a2dccc_df97_11e9_b10b_0242ac1c0002row16_col3 {\n",
              "            background-color:  #f7fcf5;\n",
              "            color:  #000000;\n",
              "        }    #T_f6a2dccc_df97_11e9_b10b_0242ac1c0002row16_col4 {\n",
              "            background-color:  #f0f9ec;\n",
              "            color:  #000000;\n",
              "        }    #T_f6a2dccc_df97_11e9_b10b_0242ac1c0002row17_col1 {\n",
              "            background-color:  #e5f5e0;\n",
              "            color:  #000000;\n",
              "        }    #T_f6a2dccc_df97_11e9_b10b_0242ac1c0002row17_col2 {\n",
              "            background-color:  #f7fcf5;\n",
              "            color:  #000000;\n",
              "        }    #T_f6a2dccc_df97_11e9_b10b_0242ac1c0002row17_col3 {\n",
              "            background-color:  #37a055;\n",
              "            color:  #000000;\n",
              "        }    #T_f6a2dccc_df97_11e9_b10b_0242ac1c0002row17_col4 {\n",
              "            background-color:  #f4fbf2;\n",
              "            color:  #000000;\n",
              "        }    #T_f6a2dccc_df97_11e9_b10b_0242ac1c0002row18_col1 {\n",
              "            background-color:  #f5fbf2;\n",
              "            color:  #000000;\n",
              "        }    #T_f6a2dccc_df97_11e9_b10b_0242ac1c0002row18_col2 {\n",
              "            background-color:  #aedea7;\n",
              "            color:  #000000;\n",
              "        }    #T_f6a2dccc_df97_11e9_b10b_0242ac1c0002row18_col3 {\n",
              "            background-color:  #f7fcf5;\n",
              "            color:  #000000;\n",
              "        }    #T_f6a2dccc_df97_11e9_b10b_0242ac1c0002row18_col4 {\n",
              "            background-color:  #f5fbf2;\n",
              "            color:  #000000;\n",
              "        }    #T_f6a2dccc_df97_11e9_b10b_0242ac1c0002row19_col1 {\n",
              "            background-color:  #eaf7e6;\n",
              "            color:  #000000;\n",
              "        }    #T_f6a2dccc_df97_11e9_b10b_0242ac1c0002row19_col2 {\n",
              "            background-color:  #f7fcf5;\n",
              "            color:  #000000;\n",
              "        }    #T_f6a2dccc_df97_11e9_b10b_0242ac1c0002row19_col3 {\n",
              "            background-color:  #f7fcf5;\n",
              "            color:  #000000;\n",
              "        }    #T_f6a2dccc_df97_11e9_b10b_0242ac1c0002row19_col4 {\n",
              "            background-color:  #f7fcf5;\n",
              "            color:  #000000;\n",
              "        }</style><table id=\"T_f6a2dccc_df97_11e9_b10b_0242ac1c0002\" ><thead>    <tr>        <th class=\"blank level0\" ></th>        <th class=\"col_heading level0 col0\" >region_1</th>        <th class=\"col_heading level0 col1\" >count</th>        <th class=\"col_heading level0 col2\" >min</th>        <th class=\"col_heading level0 col3\" >max</th>        <th class=\"col_heading level0 col4\" >mean</th>    </tr></thead><tbody>\n",
              "                <tr>\n",
              "                        <th id=\"T_f6a2dccc_df97_11e9_b10b_0242ac1c0002level0_row0\" class=\"row_heading level0 row0\" >0</th>\n",
              "                        <td id=\"T_f6a2dccc_df97_11e9_b10b_0242ac1c0002row0_col0\" class=\"data row0 col0\" >Champagne</td>\n",
              "                        <td id=\"T_f6a2dccc_df97_11e9_b10b_0242ac1c0002row0_col1\" class=\"data row0 col1\" >474</td>\n",
              "                        <td id=\"T_f6a2dccc_df97_11e9_b10b_0242ac1c0002row0_col2\" class=\"data row0 col2\" >2</td>\n",
              "                        <td id=\"T_f6a2dccc_df97_11e9_b10b_0242ac1c0002row0_col3\" class=\"data row0 col3\" >5</td>\n",
              "                        <td id=\"T_f6a2dccc_df97_11e9_b10b_0242ac1c0002row0_col4\" class=\"data row0 col4\" >4.15612</td>\n",
              "            </tr>\n",
              "            <tr>\n",
              "                        <th id=\"T_f6a2dccc_df97_11e9_b10b_0242ac1c0002level0_row1\" class=\"row_heading level0 row1\" >1</th>\n",
              "                        <td id=\"T_f6a2dccc_df97_11e9_b10b_0242ac1c0002row1_col0\" class=\"data row1 col0\" >Ballard Canyon</td>\n",
              "                        <td id=\"T_f6a2dccc_df97_11e9_b10b_0242ac1c0002row1_col1\" class=\"data row1 col1\" >109</td>\n",
              "                        <td id=\"T_f6a2dccc_df97_11e9_b10b_0242ac1c0002row1_col2\" class=\"data row1 col2\" >3</td>\n",
              "                        <td id=\"T_f6a2dccc_df97_11e9_b10b_0242ac1c0002row1_col3\" class=\"data row1 col3\" >5</td>\n",
              "                        <td id=\"T_f6a2dccc_df97_11e9_b10b_0242ac1c0002row1_col4\" class=\"data row1 col4\" >4.05505</td>\n",
              "            </tr>\n",
              "            <tr>\n",
              "                        <th id=\"T_f6a2dccc_df97_11e9_b10b_0242ac1c0002level0_row2\" class=\"row_heading level0 row2\" >2</th>\n",
              "                        <td id=\"T_f6a2dccc_df97_11e9_b10b_0242ac1c0002row2_col0\" class=\"data row2 col0\" >Diamond Mountain District</td>\n",
              "                        <td id=\"T_f6a2dccc_df97_11e9_b10b_0242ac1c0002row2_col1\" class=\"data row2 col1\" >163</td>\n",
              "                        <td id=\"T_f6a2dccc_df97_11e9_b10b_0242ac1c0002row2_col2\" class=\"data row2 col2\" >1</td>\n",
              "                        <td id=\"T_f6a2dccc_df97_11e9_b10b_0242ac1c0002row2_col3\" class=\"data row2 col3\" >6</td>\n",
              "                        <td id=\"T_f6a2dccc_df97_11e9_b10b_0242ac1c0002row2_col4\" class=\"data row2 col4\" >4.04294</td>\n",
              "            </tr>\n",
              "            <tr>\n",
              "                        <th id=\"T_f6a2dccc_df97_11e9_b10b_0242ac1c0002level0_row3\" class=\"row_heading level0 row3\" >3</th>\n",
              "                        <td id=\"T_f6a2dccc_df97_11e9_b10b_0242ac1c0002row3_col0\" class=\"data row3 col0\" >Beaune</td>\n",
              "                        <td id=\"T_f6a2dccc_df97_11e9_b10b_0242ac1c0002row3_col1\" class=\"data row3 col1\" >153</td>\n",
              "                        <td id=\"T_f6a2dccc_df97_11e9_b10b_0242ac1c0002row3_col2\" class=\"data row3 col2\" >2</td>\n",
              "                        <td id=\"T_f6a2dccc_df97_11e9_b10b_0242ac1c0002row3_col3\" class=\"data row3 col3\" >5</td>\n",
              "                        <td id=\"T_f6a2dccc_df97_11e9_b10b_0242ac1c0002row3_col4\" class=\"data row3 col4\" >4.03268</td>\n",
              "            </tr>\n",
              "            <tr>\n",
              "                        <th id=\"T_f6a2dccc_df97_11e9_b10b_0242ac1c0002level0_row4\" class=\"row_heading level0 row4\" >4</th>\n",
              "                        <td id=\"T_f6a2dccc_df97_11e9_b10b_0242ac1c0002row4_col0\" class=\"data row4 col0\" >Gigondas</td>\n",
              "                        <td id=\"T_f6a2dccc_df97_11e9_b10b_0242ac1c0002row4_col1\" class=\"data row4 col1\" >115</td>\n",
              "                        <td id=\"T_f6a2dccc_df97_11e9_b10b_0242ac1c0002row4_col2\" class=\"data row4 col2\" >1</td>\n",
              "                        <td id=\"T_f6a2dccc_df97_11e9_b10b_0242ac1c0002row4_col3\" class=\"data row4 col3\" >5</td>\n",
              "                        <td id=\"T_f6a2dccc_df97_11e9_b10b_0242ac1c0002row4_col4\" class=\"data row4 col4\" >3.95652</td>\n",
              "            </tr>\n",
              "            <tr>\n",
              "                        <th id=\"T_f6a2dccc_df97_11e9_b10b_0242ac1c0002level0_row5\" class=\"row_heading level0 row5\" >5</th>\n",
              "                        <td id=\"T_f6a2dccc_df97_11e9_b10b_0242ac1c0002row5_col0\" class=\"data row5 col0\" >Madiran</td>\n",
              "                        <td id=\"T_f6a2dccc_df97_11e9_b10b_0242ac1c0002row5_col1\" class=\"data row5 col1\" >108</td>\n",
              "                        <td id=\"T_f6a2dccc_df97_11e9_b10b_0242ac1c0002row5_col2\" class=\"data row5 col2\" >2</td>\n",
              "                        <td id=\"T_f6a2dccc_df97_11e9_b10b_0242ac1c0002row5_col3\" class=\"data row5 col3\" >5</td>\n",
              "                        <td id=\"T_f6a2dccc_df97_11e9_b10b_0242ac1c0002row5_col4\" class=\"data row5 col4\" >3.9537</td>\n",
              "            </tr>\n",
              "            <tr>\n",
              "                        <th id=\"T_f6a2dccc_df97_11e9_b10b_0242ac1c0002level0_row6\" class=\"row_heading level0 row6\" >6</th>\n",
              "                        <td id=\"T_f6a2dccc_df97_11e9_b10b_0242ac1c0002row6_col0\" class=\"data row6 col0\" >Stags Leap District</td>\n",
              "                        <td id=\"T_f6a2dccc_df97_11e9_b10b_0242ac1c0002row6_col1\" class=\"data row6 col1\" >151</td>\n",
              "                        <td id=\"T_f6a2dccc_df97_11e9_b10b_0242ac1c0002row6_col2\" class=\"data row6 col2\" >1</td>\n",
              "                        <td id=\"T_f6a2dccc_df97_11e9_b10b_0242ac1c0002row6_col3\" class=\"data row6 col3\" >5</td>\n",
              "                        <td id=\"T_f6a2dccc_df97_11e9_b10b_0242ac1c0002row6_col4\" class=\"data row6 col4\" >3.94702</td>\n",
              "            </tr>\n",
              "            <tr>\n",
              "                        <th id=\"T_f6a2dccc_df97_11e9_b10b_0242ac1c0002level0_row7\" class=\"row_heading level0 row7\" >7</th>\n",
              "                        <td id=\"T_f6a2dccc_df97_11e9_b10b_0242ac1c0002row7_col0\" class=\"data row7 col0\" >Adelaida District</td>\n",
              "                        <td id=\"T_f6a2dccc_df97_11e9_b10b_0242ac1c0002row7_col1\" class=\"data row7 col1\" >157</td>\n",
              "                        <td id=\"T_f6a2dccc_df97_11e9_b10b_0242ac1c0002row7_col2\" class=\"data row7 col2\" >2</td>\n",
              "                        <td id=\"T_f6a2dccc_df97_11e9_b10b_0242ac1c0002row7_col3\" class=\"data row7 col3\" >5</td>\n",
              "                        <td id=\"T_f6a2dccc_df97_11e9_b10b_0242ac1c0002row7_col4\" class=\"data row7 col4\" >3.9172</td>\n",
              "            </tr>\n",
              "            <tr>\n",
              "                        <th id=\"T_f6a2dccc_df97_11e9_b10b_0242ac1c0002level0_row8\" class=\"row_heading level0 row8\" >8</th>\n",
              "                        <td id=\"T_f6a2dccc_df97_11e9_b10b_0242ac1c0002row8_col0\" class=\"data row8 col0\" >Ribbon Ridge</td>\n",
              "                        <td id=\"T_f6a2dccc_df97_11e9_b10b_0242ac1c0002row8_col1\" class=\"data row8 col1\" >148</td>\n",
              "                        <td id=\"T_f6a2dccc_df97_11e9_b10b_0242ac1c0002row8_col2\" class=\"data row8 col2\" >2</td>\n",
              "                        <td id=\"T_f6a2dccc_df97_11e9_b10b_0242ac1c0002row8_col3\" class=\"data row8 col3\" >6</td>\n",
              "                        <td id=\"T_f6a2dccc_df97_11e9_b10b_0242ac1c0002row8_col4\" class=\"data row8 col4\" >3.91216</td>\n",
              "            </tr>\n",
              "            <tr>\n",
              "                        <th id=\"T_f6a2dccc_df97_11e9_b10b_0242ac1c0002level0_row9\" class=\"row_heading level0 row9\" >9</th>\n",
              "                        <td id=\"T_f6a2dccc_df97_11e9_b10b_0242ac1c0002row9_col0\" class=\"data row9 col0\" >Walla Walla Valley (OR)</td>\n",
              "                        <td id=\"T_f6a2dccc_df97_11e9_b10b_0242ac1c0002row9_col1\" class=\"data row9 col1\" >138</td>\n",
              "                        <td id=\"T_f6a2dccc_df97_11e9_b10b_0242ac1c0002row9_col2\" class=\"data row9 col2\" >2</td>\n",
              "                        <td id=\"T_f6a2dccc_df97_11e9_b10b_0242ac1c0002row9_col3\" class=\"data row9 col3\" >6</td>\n",
              "                        <td id=\"T_f6a2dccc_df97_11e9_b10b_0242ac1c0002row9_col4\" class=\"data row9 col4\" >3.9058</td>\n",
              "            </tr>\n",
              "            <tr>\n",
              "                        <th id=\"T_f6a2dccc_df97_11e9_b10b_0242ac1c0002level0_row10\" class=\"row_heading level0 row10\" >10</th>\n",
              "                        <td id=\"T_f6a2dccc_df97_11e9_b10b_0242ac1c0002row10_col0\" class=\"data row10 col0\" >Green Valley</td>\n",
              "                        <td id=\"T_f6a2dccc_df97_11e9_b10b_0242ac1c0002row10_col1\" class=\"data row10 col1\" >224</td>\n",
              "                        <td id=\"T_f6a2dccc_df97_11e9_b10b_0242ac1c0002row10_col2\" class=\"data row10 col2\" >1</td>\n",
              "                        <td id=\"T_f6a2dccc_df97_11e9_b10b_0242ac1c0002row10_col3\" class=\"data row10 col3\" >5</td>\n",
              "                        <td id=\"T_f6a2dccc_df97_11e9_b10b_0242ac1c0002row10_col4\" class=\"data row10 col4\" >3.88393</td>\n",
              "            </tr>\n",
              "            <tr>\n",
              "                        <th id=\"T_f6a2dccc_df97_11e9_b10b_0242ac1c0002level0_row11\" class=\"row_heading level0 row11\" >11</th>\n",
              "                        <td id=\"T_f6a2dccc_df97_11e9_b10b_0242ac1c0002row11_col0\" class=\"data row11 col0\" >Taurasi</td>\n",
              "                        <td id=\"T_f6a2dccc_df97_11e9_b10b_0242ac1c0002row11_col1\" class=\"data row11 col1\" >126</td>\n",
              "                        <td id=\"T_f6a2dccc_df97_11e9_b10b_0242ac1c0002row11_col2\" class=\"data row11 col2\" >2</td>\n",
              "                        <td id=\"T_f6a2dccc_df97_11e9_b10b_0242ac1c0002row11_col3\" class=\"data row11 col3\" >5</td>\n",
              "                        <td id=\"T_f6a2dccc_df97_11e9_b10b_0242ac1c0002row11_col4\" class=\"data row11 col4\" >3.86508</td>\n",
              "            </tr>\n",
              "            <tr>\n",
              "                        <th id=\"T_f6a2dccc_df97_11e9_b10b_0242ac1c0002level0_row12\" class=\"row_heading level0 row12\" >12</th>\n",
              "                        <td id=\"T_f6a2dccc_df97_11e9_b10b_0242ac1c0002row12_col0\" class=\"data row12 col0\" >Pessac-Léognan</td>\n",
              "                        <td id=\"T_f6a2dccc_df97_11e9_b10b_0242ac1c0002row12_col1\" class=\"data row12 col1\" >167</td>\n",
              "                        <td id=\"T_f6a2dccc_df97_11e9_b10b_0242ac1c0002row12_col2\" class=\"data row12 col2\" >2</td>\n",
              "                        <td id=\"T_f6a2dccc_df97_11e9_b10b_0242ac1c0002row12_col3\" class=\"data row12 col3\" >5</td>\n",
              "                        <td id=\"T_f6a2dccc_df97_11e9_b10b_0242ac1c0002row12_col4\" class=\"data row12 col4\" >3.85629</td>\n",
              "            </tr>\n",
              "            <tr>\n",
              "                        <th id=\"T_f6a2dccc_df97_11e9_b10b_0242ac1c0002level0_row13\" class=\"row_heading level0 row13\" >13</th>\n",
              "                        <td id=\"T_f6a2dccc_df97_11e9_b10b_0242ac1c0002row13_col0\" class=\"data row13 col0\" >Saint-Estèphe</td>\n",
              "                        <td id=\"T_f6a2dccc_df97_11e9_b10b_0242ac1c0002row13_col1\" class=\"data row13 col1\" >102</td>\n",
              "                        <td id=\"T_f6a2dccc_df97_11e9_b10b_0242ac1c0002row13_col2\" class=\"data row13 col2\" >2</td>\n",
              "                        <td id=\"T_f6a2dccc_df97_11e9_b10b_0242ac1c0002row13_col3\" class=\"data row13 col3\" >5</td>\n",
              "                        <td id=\"T_f6a2dccc_df97_11e9_b10b_0242ac1c0002row13_col4\" class=\"data row13 col4\" >3.85294</td>\n",
              "            </tr>\n",
              "            <tr>\n",
              "                        <th id=\"T_f6a2dccc_df97_11e9_b10b_0242ac1c0002level0_row14\" class=\"row_heading level0 row14\" >14</th>\n",
              "                        <td id=\"T_f6a2dccc_df97_11e9_b10b_0242ac1c0002row14_col0\" class=\"data row14 col0\" >Chassagne-Montrachet</td>\n",
              "                        <td id=\"T_f6a2dccc_df97_11e9_b10b_0242ac1c0002row14_col1\" class=\"data row14 col1\" >104</td>\n",
              "                        <td id=\"T_f6a2dccc_df97_11e9_b10b_0242ac1c0002row14_col2\" class=\"data row14 col2\" >2</td>\n",
              "                        <td id=\"T_f6a2dccc_df97_11e9_b10b_0242ac1c0002row14_col3\" class=\"data row14 col3\" >5</td>\n",
              "                        <td id=\"T_f6a2dccc_df97_11e9_b10b_0242ac1c0002row14_col4\" class=\"data row14 col4\" >3.84615</td>\n",
              "            </tr>\n",
              "            <tr>\n",
              "                        <th id=\"T_f6a2dccc_df97_11e9_b10b_0242ac1c0002level0_row15\" class=\"row_heading level0 row15\" >15</th>\n",
              "                        <td id=\"T_f6a2dccc_df97_11e9_b10b_0242ac1c0002row15_col0\" class=\"data row15 col0\" >Margaux</td>\n",
              "                        <td id=\"T_f6a2dccc_df97_11e9_b10b_0242ac1c0002row15_col1\" class=\"data row15 col1\" >108</td>\n",
              "                        <td id=\"T_f6a2dccc_df97_11e9_b10b_0242ac1c0002row15_col2\" class=\"data row15 col2\" >2</td>\n",
              "                        <td id=\"T_f6a2dccc_df97_11e9_b10b_0242ac1c0002row15_col3\" class=\"data row15 col3\" >5</td>\n",
              "                        <td id=\"T_f6a2dccc_df97_11e9_b10b_0242ac1c0002row15_col4\" class=\"data row15 col4\" >3.83333</td>\n",
              "            </tr>\n",
              "            <tr>\n",
              "                        <th id=\"T_f6a2dccc_df97_11e9_b10b_0242ac1c0002level0_row16\" class=\"row_heading level0 row16\" >16</th>\n",
              "                        <td id=\"T_f6a2dccc_df97_11e9_b10b_0242ac1c0002row16_col0\" class=\"data row16 col0\" >Sta. Rita Hills</td>\n",
              "                        <td id=\"T_f6a2dccc_df97_11e9_b10b_0242ac1c0002row16_col1\" class=\"data row16 col1\" >1112</td>\n",
              "                        <td id=\"T_f6a2dccc_df97_11e9_b10b_0242ac1c0002row16_col2\" class=\"data row16 col2\" >1</td>\n",
              "                        <td id=\"T_f6a2dccc_df97_11e9_b10b_0242ac1c0002row16_col3\" class=\"data row16 col3\" >5</td>\n",
              "                        <td id=\"T_f6a2dccc_df97_11e9_b10b_0242ac1c0002row16_col4\" class=\"data row16 col4\" >3.81745</td>\n",
              "            </tr>\n",
              "            <tr>\n",
              "                        <th id=\"T_f6a2dccc_df97_11e9_b10b_0242ac1c0002level0_row17\" class=\"row_heading level0 row17\" >17</th>\n",
              "                        <td id=\"T_f6a2dccc_df97_11e9_b10b_0242ac1c0002row17_col0\" class=\"data row17 col0\" >Oakville</td>\n",
              "                        <td id=\"T_f6a2dccc_df97_11e9_b10b_0242ac1c0002row17_col1\" class=\"data row17 col1\" >294</td>\n",
              "                        <td id=\"T_f6a2dccc_df97_11e9_b10b_0242ac1c0002row17_col2\" class=\"data row17 col2\" >1</td>\n",
              "                        <td id=\"T_f6a2dccc_df97_11e9_b10b_0242ac1c0002row17_col3\" class=\"data row17 col3\" >6</td>\n",
              "                        <td id=\"T_f6a2dccc_df97_11e9_b10b_0242ac1c0002row17_col4\" class=\"data row17 col4\" >3.79932</td>\n",
              "            </tr>\n",
              "            <tr>\n",
              "                        <th id=\"T_f6a2dccc_df97_11e9_b10b_0242ac1c0002level0_row18\" class=\"row_heading level0 row18\" >18</th>\n",
              "                        <td id=\"T_f6a2dccc_df97_11e9_b10b_0242ac1c0002row18_col0\" class=\"data row18 col0\" >Meursault</td>\n",
              "                        <td id=\"T_f6a2dccc_df97_11e9_b10b_0242ac1c0002row18_col1\" class=\"data row18 col1\" >128</td>\n",
              "                        <td id=\"T_f6a2dccc_df97_11e9_b10b_0242ac1c0002row18_col2\" class=\"data row18 col2\" >2</td>\n",
              "                        <td id=\"T_f6a2dccc_df97_11e9_b10b_0242ac1c0002row18_col3\" class=\"data row18 col3\" >5</td>\n",
              "                        <td id=\"T_f6a2dccc_df97_11e9_b10b_0242ac1c0002row18_col4\" class=\"data row18 col4\" >3.79688</td>\n",
              "            </tr>\n",
              "            <tr>\n",
              "                        <th id=\"T_f6a2dccc_df97_11e9_b10b_0242ac1c0002level0_row19\" class=\"row_heading level0 row19\" >19</th>\n",
              "                        <td id=\"T_f6a2dccc_df97_11e9_b10b_0242ac1c0002row19_col0\" class=\"data row19 col0\" >Châteauneuf-du-Pape</td>\n",
              "                        <td id=\"T_f6a2dccc_df97_11e9_b10b_0242ac1c0002row19_col1\" class=\"data row19 col1\" >240</td>\n",
              "                        <td id=\"T_f6a2dccc_df97_11e9_b10b_0242ac1c0002row19_col2\" class=\"data row19 col2\" >1</td>\n",
              "                        <td id=\"T_f6a2dccc_df97_11e9_b10b_0242ac1c0002row19_col3\" class=\"data row19 col3\" >5</td>\n",
              "                        <td id=\"T_f6a2dccc_df97_11e9_b10b_0242ac1c0002row19_col4\" class=\"data row19 col4\" >3.7875</td>\n",
              "            </tr>\n",
              "    </tbody></table>"
            ],
            "text/plain": [
              "<pandas.io.formats.style.Styler at 0x7fb9a8a6f2b0>"
            ]
          },
          "metadata": {
            "tags": []
          },
          "execution_count": 29
        }
      ]
    },
    {
      "cell_type": "code",
      "metadata": {
        "id": "OgeiZ0eQ_8Ec",
        "colab_type": "code",
        "colab": {
          "base_uri": "https://localhost:8080/",
          "height": 255
        },
        "outputId": "5c30c085-3033-443f-d522-125b8cd8993f"
      },
      "source": [
        "df.info()"
      ],
      "execution_count": 30,
      "outputs": [
        {
          "output_type": "stream",
          "text": [
            "<class 'pandas.core.frame.DataFrame'>\n",
            "Int64Index: 87806 entries, 2 to 141616\n",
            "Data columns (total 9 columns):\n",
            "country        87806 non-null object\n",
            "description    87806 non-null object\n",
            "points         87806 non-null int64\n",
            "price          87806 non-null float64\n",
            "province       87806 non-null object\n",
            "region_1       87806 non-null object\n",
            "variety        87806 non-null object\n",
            "winery         87806 non-null object\n",
            "rank           87806 non-null float64\n",
            "dtypes: float64(2), int64(1), object(6)\n",
            "memory usage: 9.2+ MB\n"
          ],
          "name": "stdout"
        }
      ]
    },
    {
      "cell_type": "markdown",
      "metadata": {
        "id": "_KJNSWpmAMGG",
        "colab_type": "text"
      },
      "source": [
        "**2.4.7 Variety & Rank**"
      ]
    },
    {
      "cell_type": "markdown",
      "metadata": {
        "id": "i4FrLDskBdJG",
        "colab_type": "text"
      },
      "source": [
        "I dropped the variety with less than 100 observations. There are 83684 rows left."
      ]
    },
    {
      "cell_type": "code",
      "metadata": {
        "id": "a-RFJuALAgUC",
        "colab_type": "code",
        "colab": {
          "base_uri": "https://localhost:8080/",
          "height": 374
        },
        "outputId": "66082f04-82bb-4ad5-93b1-2eb28732d6a8"
      },
      "source": [
        "df.variety.value_counts()[:20]"
      ],
      "execution_count": 31,
      "outputs": [
        {
          "output_type": "execute_result",
          "data": {
            "text/plain": [
              "Pinot Noir                  11297\n",
              "Chardonnay                   9028\n",
              "Cabernet Sauvignon           8001\n",
              "Red Blend                    6064\n",
              "Bordeaux-style Red Blend     4767\n",
              "Syrah                        3310\n",
              "Sauvignon Blanc              2997\n",
              "Zinfandel                    2613\n",
              "Merlot                       2464\n",
              "Nebbiolo                     2434\n",
              "Rosé                         2432\n",
              "Riesling                     2406\n",
              "Sangiovese                   2319\n",
              "Malbec                       2222\n",
              "Tempranillo                  1772\n",
              "Pinot Gris                   1308\n",
              "White Blend                  1229\n",
              "Rhône-style Red Blend        1195\n",
              "Cabernet Franc               1052\n",
              "Gewürztraminer                897\n",
              "Name: variety, dtype: int64"
            ]
          },
          "metadata": {
            "tags": []
          },
          "execution_count": 31
        }
      ]
    },
    {
      "cell_type": "code",
      "metadata": {
        "id": "iQcY0yUUATni",
        "colab_type": "code",
        "colab": {
          "base_uri": "https://localhost:8080/",
          "height": 460
        },
        "outputId": "9346e709-9052-4d77-d428-8e9801e65f75"
      },
      "source": [
        "df = df.groupby(\"variety\").filter(lambda x: len(x) >= 100)\n",
        "vr = df.groupby(['variety'])['rank'].agg(['count','min','max','mean']).sort_values(by='mean',ascending= False)[:20]\n",
        "vr.reset_index(inplace=True)\n",
        "vr.style.background_gradient(cmap='Greens',high=0.5)"
      ],
      "execution_count": 32,
      "outputs": [
        {
          "output_type": "execute_result",
          "data": {
            "text/html": [
              "<style  type=\"text/css\" >\n",
              "    #T_f6d51d36_df97_11e9_b10b_0242ac1c0002row0_col1 {\n",
              "            background-color:  #f5fbf2;\n",
              "            color:  #000000;\n",
              "        }    #T_f6d51d36_df97_11e9_b10b_0242ac1c0002row0_col2 {\n",
              "            background-color:  #f7fcf5;\n",
              "            color:  #000000;\n",
              "        }    #T_f6d51d36_df97_11e9_b10b_0242ac1c0002row0_col3 {\n",
              "            background-color:  #aedea7;\n",
              "            color:  #000000;\n",
              "        }    #T_f6d51d36_df97_11e9_b10b_0242ac1c0002row0_col4 {\n",
              "            background-color:  #37a055;\n",
              "            color:  #000000;\n",
              "        }    #T_f6d51d36_df97_11e9_b10b_0242ac1c0002row1_col1 {\n",
              "            background-color:  #f4fbf1;\n",
              "            color:  #000000;\n",
              "        }    #T_f6d51d36_df97_11e9_b10b_0242ac1c0002row1_col2 {\n",
              "            background-color:  #37a055;\n",
              "            color:  #000000;\n",
              "        }    #T_f6d51d36_df97_11e9_b10b_0242ac1c0002row1_col3 {\n",
              "            background-color:  #aedea7;\n",
              "            color:  #000000;\n",
              "        }    #T_f6d51d36_df97_11e9_b10b_0242ac1c0002row1_col4 {\n",
              "            background-color:  #7ac77b;\n",
              "            color:  #000000;\n",
              "        }    #T_f6d51d36_df97_11e9_b10b_0242ac1c0002row2_col1 {\n",
              "            background-color:  #f7fcf5;\n",
              "            color:  #000000;\n",
              "        }    #T_f6d51d36_df97_11e9_b10b_0242ac1c0002row2_col2 {\n",
              "            background-color:  #f7fcf5;\n",
              "            color:  #000000;\n",
              "        }    #T_f6d51d36_df97_11e9_b10b_0242ac1c0002row2_col3 {\n",
              "            background-color:  #aedea7;\n",
              "            color:  #000000;\n",
              "        }    #T_f6d51d36_df97_11e9_b10b_0242ac1c0002row2_col4 {\n",
              "            background-color:  #87cd86;\n",
              "            color:  #000000;\n",
              "        }    #T_f6d51d36_df97_11e9_b10b_0242ac1c0002row3_col1 {\n",
              "            background-color:  #e2f4dd;\n",
              "            color:  #000000;\n",
              "        }    #T_f6d51d36_df97_11e9_b10b_0242ac1c0002row3_col2 {\n",
              "            background-color:  #f7fcf5;\n",
              "            color:  #000000;\n",
              "        }    #T_f6d51d36_df97_11e9_b10b_0242ac1c0002row3_col3 {\n",
              "            background-color:  #37a055;\n",
              "            color:  #000000;\n",
              "        }    #T_f6d51d36_df97_11e9_b10b_0242ac1c0002row3_col4 {\n",
              "            background-color:  #a3da9d;\n",
              "            color:  #000000;\n",
              "        }    #T_f6d51d36_df97_11e9_b10b_0242ac1c0002row4_col1 {\n",
              "            background-color:  #f7fcf5;\n",
              "            color:  #000000;\n",
              "        }    #T_f6d51d36_df97_11e9_b10b_0242ac1c0002row4_col2 {\n",
              "            background-color:  #f7fcf5;\n",
              "            color:  #000000;\n",
              "        }    #T_f6d51d36_df97_11e9_b10b_0242ac1c0002row4_col3 {\n",
              "            background-color:  #aedea7;\n",
              "            color:  #000000;\n",
              "        }    #T_f6d51d36_df97_11e9_b10b_0242ac1c0002row4_col4 {\n",
              "            background-color:  #b5e1ae;\n",
              "            color:  #000000;\n",
              "        }    #T_f6d51d36_df97_11e9_b10b_0242ac1c0002row5_col1 {\n",
              "            background-color:  #f2faf0;\n",
              "            color:  #000000;\n",
              "        }    #T_f6d51d36_df97_11e9_b10b_0242ac1c0002row5_col2 {\n",
              "            background-color:  #f7fcf5;\n",
              "            color:  #000000;\n",
              "        }    #T_f6d51d36_df97_11e9_b10b_0242ac1c0002row5_col3 {\n",
              "            background-color:  #37a055;\n",
              "            color:  #000000;\n",
              "        }    #T_f6d51d36_df97_11e9_b10b_0242ac1c0002row5_col4 {\n",
              "            background-color:  #d1edcb;\n",
              "            color:  #000000;\n",
              "        }    #T_f6d51d36_df97_11e9_b10b_0242ac1c0002row6_col1 {\n",
              "            background-color:  #f6fcf4;\n",
              "            color:  #000000;\n",
              "        }    #T_f6d51d36_df97_11e9_b10b_0242ac1c0002row6_col2 {\n",
              "            background-color:  #37a055;\n",
              "            color:  #000000;\n",
              "        }    #T_f6d51d36_df97_11e9_b10b_0242ac1c0002row6_col3 {\n",
              "            background-color:  #aedea7;\n",
              "            color:  #000000;\n",
              "        }    #T_f6d51d36_df97_11e9_b10b_0242ac1c0002row6_col4 {\n",
              "            background-color:  #d7efd1;\n",
              "            color:  #000000;\n",
              "        }    #T_f6d51d36_df97_11e9_b10b_0242ac1c0002row7_col1 {\n",
              "            background-color:  #37a055;\n",
              "            color:  #000000;\n",
              "        }    #T_f6d51d36_df97_11e9_b10b_0242ac1c0002row7_col2 {\n",
              "            background-color:  #f7fcf5;\n",
              "            color:  #000000;\n",
              "        }    #T_f6d51d36_df97_11e9_b10b_0242ac1c0002row7_col3 {\n",
              "            background-color:  #37a055;\n",
              "            color:  #000000;\n",
              "        }    #T_f6d51d36_df97_11e9_b10b_0242ac1c0002row7_col4 {\n",
              "            background-color:  #d8f0d2;\n",
              "            color:  #000000;\n",
              "        }    #T_f6d51d36_df97_11e9_b10b_0242ac1c0002row8_col1 {\n",
              "            background-color:  #d6efd0;\n",
              "            color:  #000000;\n",
              "        }    #T_f6d51d36_df97_11e9_b10b_0242ac1c0002row8_col2 {\n",
              "            background-color:  #f7fcf5;\n",
              "            color:  #000000;\n",
              "        }    #T_f6d51d36_df97_11e9_b10b_0242ac1c0002row8_col3 {\n",
              "            background-color:  #37a055;\n",
              "            color:  #000000;\n",
              "        }    #T_f6d51d36_df97_11e9_b10b_0242ac1c0002row8_col4 {\n",
              "            background-color:  #e2f4dd;\n",
              "            color:  #000000;\n",
              "        }    #T_f6d51d36_df97_11e9_b10b_0242ac1c0002row9_col1 {\n",
              "            background-color:  #f7fcf5;\n",
              "            color:  #000000;\n",
              "        }    #T_f6d51d36_df97_11e9_b10b_0242ac1c0002row9_col2 {\n",
              "            background-color:  #f7fcf5;\n",
              "            color:  #000000;\n",
              "        }    #T_f6d51d36_df97_11e9_b10b_0242ac1c0002row9_col3 {\n",
              "            background-color:  #aedea7;\n",
              "            color:  #000000;\n",
              "        }    #T_f6d51d36_df97_11e9_b10b_0242ac1c0002row9_col4 {\n",
              "            background-color:  #e5f5e0;\n",
              "            color:  #000000;\n",
              "        }    #T_f6d51d36_df97_11e9_b10b_0242ac1c0002row10_col1 {\n",
              "            background-color:  #f6fcf4;\n",
              "            color:  #000000;\n",
              "        }    #T_f6d51d36_df97_11e9_b10b_0242ac1c0002row10_col2 {\n",
              "            background-color:  #f7fcf5;\n",
              "            color:  #000000;\n",
              "        }    #T_f6d51d36_df97_11e9_b10b_0242ac1c0002row10_col3 {\n",
              "            background-color:  #aedea7;\n",
              "            color:  #000000;\n",
              "        }    #T_f6d51d36_df97_11e9_b10b_0242ac1c0002row10_col4 {\n",
              "            background-color:  #e6f5e1;\n",
              "            color:  #000000;\n",
              "        }    #T_f6d51d36_df97_11e9_b10b_0242ac1c0002row11_col1 {\n",
              "            background-color:  #eef8ea;\n",
              "            color:  #000000;\n",
              "        }    #T_f6d51d36_df97_11e9_b10b_0242ac1c0002row11_col2 {\n",
              "            background-color:  #f7fcf5;\n",
              "            color:  #000000;\n",
              "        }    #T_f6d51d36_df97_11e9_b10b_0242ac1c0002row11_col3 {\n",
              "            background-color:  #aedea7;\n",
              "            color:  #000000;\n",
              "        }    #T_f6d51d36_df97_11e9_b10b_0242ac1c0002row11_col4 {\n",
              "            background-color:  #e9f7e5;\n",
              "            color:  #000000;\n",
              "        }    #T_f6d51d36_df97_11e9_b10b_0242ac1c0002row12_col1 {\n",
              "            background-color:  #f2faf0;\n",
              "            color:  #000000;\n",
              "        }    #T_f6d51d36_df97_11e9_b10b_0242ac1c0002row12_col2 {\n",
              "            background-color:  #f7fcf5;\n",
              "            color:  #000000;\n",
              "        }    #T_f6d51d36_df97_11e9_b10b_0242ac1c0002row12_col3 {\n",
              "            background-color:  #aedea7;\n",
              "            color:  #000000;\n",
              "        }    #T_f6d51d36_df97_11e9_b10b_0242ac1c0002row12_col4 {\n",
              "            background-color:  #edf8e9;\n",
              "            color:  #000000;\n",
              "        }    #T_f6d51d36_df97_11e9_b10b_0242ac1c0002row13_col1 {\n",
              "            background-color:  #f4fbf1;\n",
              "            color:  #000000;\n",
              "        }    #T_f6d51d36_df97_11e9_b10b_0242ac1c0002row13_col2 {\n",
              "            background-color:  #f7fcf5;\n",
              "            color:  #000000;\n",
              "        }    #T_f6d51d36_df97_11e9_b10b_0242ac1c0002row13_col3 {\n",
              "            background-color:  #37a055;\n",
              "            color:  #000000;\n",
              "        }    #T_f6d51d36_df97_11e9_b10b_0242ac1c0002row13_col4 {\n",
              "            background-color:  #edf8ea;\n",
              "            color:  #000000;\n",
              "        }    #T_f6d51d36_df97_11e9_b10b_0242ac1c0002row14_col1 {\n",
              "            background-color:  #f6fcf4;\n",
              "            color:  #000000;\n",
              "        }    #T_f6d51d36_df97_11e9_b10b_0242ac1c0002row14_col2 {\n",
              "            background-color:  #f7fcf5;\n",
              "            color:  #000000;\n",
              "        }    #T_f6d51d36_df97_11e9_b10b_0242ac1c0002row14_col3 {\n",
              "            background-color:  #aedea7;\n",
              "            color:  #000000;\n",
              "        }    #T_f6d51d36_df97_11e9_b10b_0242ac1c0002row14_col4 {\n",
              "            background-color:  #edf8ea;\n",
              "            color:  #000000;\n",
              "        }    #T_f6d51d36_df97_11e9_b10b_0242ac1c0002row15_col1 {\n",
              "            background-color:  #f6fcf4;\n",
              "            color:  #000000;\n",
              "        }    #T_f6d51d36_df97_11e9_b10b_0242ac1c0002row15_col2 {\n",
              "            background-color:  #f7fcf5;\n",
              "            color:  #000000;\n",
              "        }    #T_f6d51d36_df97_11e9_b10b_0242ac1c0002row15_col3 {\n",
              "            background-color:  #aedea7;\n",
              "            color:  #000000;\n",
              "        }    #T_f6d51d36_df97_11e9_b10b_0242ac1c0002row15_col4 {\n",
              "            background-color:  #f2faef;\n",
              "            color:  #000000;\n",
              "        }    #T_f6d51d36_df97_11e9_b10b_0242ac1c0002row16_col1 {\n",
              "            background-color:  #e2f4dd;\n",
              "            color:  #000000;\n",
              "        }    #T_f6d51d36_df97_11e9_b10b_0242ac1c0002row16_col2 {\n",
              "            background-color:  #f7fcf5;\n",
              "            color:  #000000;\n",
              "        }    #T_f6d51d36_df97_11e9_b10b_0242ac1c0002row16_col3 {\n",
              "            background-color:  #aedea7;\n",
              "            color:  #000000;\n",
              "        }    #T_f6d51d36_df97_11e9_b10b_0242ac1c0002row16_col4 {\n",
              "            background-color:  #f4fbf1;\n",
              "            color:  #000000;\n",
              "        }    #T_f6d51d36_df97_11e9_b10b_0242ac1c0002row17_col1 {\n",
              "            background-color:  #f7fcf5;\n",
              "            color:  #000000;\n",
              "        }    #T_f6d51d36_df97_11e9_b10b_0242ac1c0002row17_col2 {\n",
              "            background-color:  #f7fcf5;\n",
              "            color:  #000000;\n",
              "        }    #T_f6d51d36_df97_11e9_b10b_0242ac1c0002row17_col3 {\n",
              "            background-color:  #aedea7;\n",
              "            color:  #000000;\n",
              "        }    #T_f6d51d36_df97_11e9_b10b_0242ac1c0002row17_col4 {\n",
              "            background-color:  #f5fbf2;\n",
              "            color:  #000000;\n",
              "        }    #T_f6d51d36_df97_11e9_b10b_0242ac1c0002row18_col1 {\n",
              "            background-color:  #f7fcf5;\n",
              "            color:  #000000;\n",
              "        }    #T_f6d51d36_df97_11e9_b10b_0242ac1c0002row18_col2 {\n",
              "            background-color:  #f7fcf5;\n",
              "            color:  #000000;\n",
              "        }    #T_f6d51d36_df97_11e9_b10b_0242ac1c0002row18_col3 {\n",
              "            background-color:  #f7fcf5;\n",
              "            color:  #000000;\n",
              "        }    #T_f6d51d36_df97_11e9_b10b_0242ac1c0002row18_col4 {\n",
              "            background-color:  #f7fcf5;\n",
              "            color:  #000000;\n",
              "        }    #T_f6d51d36_df97_11e9_b10b_0242ac1c0002row19_col1 {\n",
              "            background-color:  #e4f5df;\n",
              "            color:  #000000;\n",
              "        }    #T_f6d51d36_df97_11e9_b10b_0242ac1c0002row19_col2 {\n",
              "            background-color:  #f7fcf5;\n",
              "            color:  #000000;\n",
              "        }    #T_f6d51d36_df97_11e9_b10b_0242ac1c0002row19_col3 {\n",
              "            background-color:  #37a055;\n",
              "            color:  #000000;\n",
              "        }    #T_f6d51d36_df97_11e9_b10b_0242ac1c0002row19_col4 {\n",
              "            background-color:  #f7fcf5;\n",
              "            color:  #000000;\n",
              "        }</style><table id=\"T_f6d51d36_df97_11e9_b10b_0242ac1c0002\" ><thead>    <tr>        <th class=\"blank level0\" ></th>        <th class=\"col_heading level0 col0\" >variety</th>        <th class=\"col_heading level0 col1\" >count</th>        <th class=\"col_heading level0 col2\" >min</th>        <th class=\"col_heading level0 col3\" >max</th>        <th class=\"col_heading level0 col4\" >mean</th>    </tr></thead><tbody>\n",
              "                <tr>\n",
              "                        <th id=\"T_f6d51d36_df97_11e9_b10b_0242ac1c0002level0_row0\" class=\"row_heading level0 row0\" >0</th>\n",
              "                        <td id=\"T_f6d51d36_df97_11e9_b10b_0242ac1c0002row0_col0\" class=\"data row0 col0\" >Champagne Blend</td>\n",
              "                        <td id=\"T_f6d51d36_df97_11e9_b10b_0242ac1c0002row0_col1\" class=\"data row0 col1\" >415</td>\n",
              "                        <td id=\"T_f6d51d36_df97_11e9_b10b_0242ac1c0002row0_col2\" class=\"data row0 col2\" >1</td>\n",
              "                        <td id=\"T_f6d51d36_df97_11e9_b10b_0242ac1c0002row0_col3\" class=\"data row0 col3\" >5</td>\n",
              "                        <td id=\"T_f6d51d36_df97_11e9_b10b_0242ac1c0002row0_col4\" class=\"data row0 col4\" >3.98554</td>\n",
              "            </tr>\n",
              "            <tr>\n",
              "                        <th id=\"T_f6d51d36_df97_11e9_b10b_0242ac1c0002level0_row1\" class=\"row_heading level0 row1\" >1</th>\n",
              "                        <td id=\"T_f6d51d36_df97_11e9_b10b_0242ac1c0002row1_col0\" class=\"data row1 col0\" >Sangiovese Grosso</td>\n",
              "                        <td id=\"T_f6d51d36_df97_11e9_b10b_0242ac1c0002row1_col1\" class=\"data row1 col1\" >541</td>\n",
              "                        <td id=\"T_f6d51d36_df97_11e9_b10b_0242ac1c0002row1_col2\" class=\"data row1 col2\" >2</td>\n",
              "                        <td id=\"T_f6d51d36_df97_11e9_b10b_0242ac1c0002row1_col3\" class=\"data row1 col3\" >5</td>\n",
              "                        <td id=\"T_f6d51d36_df97_11e9_b10b_0242ac1c0002row1_col4\" class=\"data row1 col4\" >3.79482</td>\n",
              "            </tr>\n",
              "            <tr>\n",
              "                        <th id=\"T_f6d51d36_df97_11e9_b10b_0242ac1c0002level0_row2\" class=\"row_heading level0 row2\" >2</th>\n",
              "                        <td id=\"T_f6d51d36_df97_11e9_b10b_0242ac1c0002row2_col0\" class=\"data row2 col0\" >Aglianico</td>\n",
              "                        <td id=\"T_f6d51d36_df97_11e9_b10b_0242ac1c0002row2_col1\" class=\"data row2 col1\" >145</td>\n",
              "                        <td id=\"T_f6d51d36_df97_11e9_b10b_0242ac1c0002row2_col2\" class=\"data row2 col2\" >1</td>\n",
              "                        <td id=\"T_f6d51d36_df97_11e9_b10b_0242ac1c0002row2_col3\" class=\"data row2 col3\" >5</td>\n",
              "                        <td id=\"T_f6d51d36_df97_11e9_b10b_0242ac1c0002row2_col4\" class=\"data row2 col4\" >3.75862</td>\n",
              "            </tr>\n",
              "            <tr>\n",
              "                        <th id=\"T_f6d51d36_df97_11e9_b10b_0242ac1c0002level0_row3\" class=\"row_heading level0 row3\" >3</th>\n",
              "                        <td id=\"T_f6d51d36_df97_11e9_b10b_0242ac1c0002row3_col0\" class=\"data row3 col0\" >Nebbiolo</td>\n",
              "                        <td id=\"T_f6d51d36_df97_11e9_b10b_0242ac1c0002row3_col1\" class=\"data row3 col1\" >2434</td>\n",
              "                        <td id=\"T_f6d51d36_df97_11e9_b10b_0242ac1c0002row3_col2\" class=\"data row3 col2\" >1</td>\n",
              "                        <td id=\"T_f6d51d36_df97_11e9_b10b_0242ac1c0002row3_col3\" class=\"data row3 col3\" >6</td>\n",
              "                        <td id=\"T_f6d51d36_df97_11e9_b10b_0242ac1c0002row3_col4\" class=\"data row3 col4\" >3.6779</td>\n",
              "            </tr>\n",
              "            <tr>\n",
              "                        <th id=\"T_f6d51d36_df97_11e9_b10b_0242ac1c0002level0_row4\" class=\"row_heading level0 row4\" >4</th>\n",
              "                        <td id=\"T_f6d51d36_df97_11e9_b10b_0242ac1c0002row4_col0\" class=\"data row4 col0\" >Nerello Mascalese</td>\n",
              "                        <td id=\"T_f6d51d36_df97_11e9_b10b_0242ac1c0002row4_col1\" class=\"data row4 col1\" >133</td>\n",
              "                        <td id=\"T_f6d51d36_df97_11e9_b10b_0242ac1c0002row4_col2\" class=\"data row4 col2\" >1</td>\n",
              "                        <td id=\"T_f6d51d36_df97_11e9_b10b_0242ac1c0002row4_col3\" class=\"data row4 col3\" >5</td>\n",
              "                        <td id=\"T_f6d51d36_df97_11e9_b10b_0242ac1c0002row4_col4\" class=\"data row4 col4\" >3.61654</td>\n",
              "            </tr>\n",
              "            <tr>\n",
              "                        <th id=\"T_f6d51d36_df97_11e9_b10b_0242ac1c0002level0_row5\" class=\"row_heading level0 row5\" >5</th>\n",
              "                        <td id=\"T_f6d51d36_df97_11e9_b10b_0242ac1c0002row5_col0\" class=\"data row5 col0\" >Sparkling Blend</td>\n",
              "                        <td id=\"T_f6d51d36_df97_11e9_b10b_0242ac1c0002row5_col1\" class=\"data row5 col1\" >692</td>\n",
              "                        <td id=\"T_f6d51d36_df97_11e9_b10b_0242ac1c0002row5_col2\" class=\"data row5 col2\" >1</td>\n",
              "                        <td id=\"T_f6d51d36_df97_11e9_b10b_0242ac1c0002row5_col3\" class=\"data row5 col3\" >6</td>\n",
              "                        <td id=\"T_f6d51d36_df97_11e9_b10b_0242ac1c0002row5_col4\" class=\"data row5 col4\" >3.51156</td>\n",
              "            </tr>\n",
              "            <tr>\n",
              "                        <th id=\"T_f6d51d36_df97_11e9_b10b_0242ac1c0002level0_row6\" class=\"row_heading level0 row6\" >6</th>\n",
              "                        <td id=\"T_f6d51d36_df97_11e9_b10b_0242ac1c0002row6_col0\" class=\"data row6 col0\" >Corvina, Rondinella, Molinara</td>\n",
              "                        <td id=\"T_f6d51d36_df97_11e9_b10b_0242ac1c0002row6_col1\" class=\"data row6 col1\" >287</td>\n",
              "                        <td id=\"T_f6d51d36_df97_11e9_b10b_0242ac1c0002row6_col2\" class=\"data row6 col2\" >2</td>\n",
              "                        <td id=\"T_f6d51d36_df97_11e9_b10b_0242ac1c0002row6_col3\" class=\"data row6 col3\" >5</td>\n",
              "                        <td id=\"T_f6d51d36_df97_11e9_b10b_0242ac1c0002row6_col4\" class=\"data row6 col4\" >3.4878</td>\n",
              "            </tr>\n",
              "            <tr>\n",
              "                        <th id=\"T_f6d51d36_df97_11e9_b10b_0242ac1c0002level0_row7\" class=\"row_heading level0 row7\" >7</th>\n",
              "                        <td id=\"T_f6d51d36_df97_11e9_b10b_0242ac1c0002row7_col0\" class=\"data row7 col0\" >Pinot Noir</td>\n",
              "                        <td id=\"T_f6d51d36_df97_11e9_b10b_0242ac1c0002row7_col1\" class=\"data row7 col1\" >11297</td>\n",
              "                        <td id=\"T_f6d51d36_df97_11e9_b10b_0242ac1c0002row7_col2\" class=\"data row7 col2\" >1</td>\n",
              "                        <td id=\"T_f6d51d36_df97_11e9_b10b_0242ac1c0002row7_col3\" class=\"data row7 col3\" >6</td>\n",
              "                        <td id=\"T_f6d51d36_df97_11e9_b10b_0242ac1c0002row7_col4\" class=\"data row7 col4\" >3.48331</td>\n",
              "            </tr>\n",
              "            <tr>\n",
              "                        <th id=\"T_f6d51d36_df97_11e9_b10b_0242ac1c0002level0_row8\" class=\"row_heading level0 row8\" >8</th>\n",
              "                        <td id=\"T_f6d51d36_df97_11e9_b10b_0242ac1c0002row8_col0\" class=\"data row8 col0\" >Syrah</td>\n",
              "                        <td id=\"T_f6d51d36_df97_11e9_b10b_0242ac1c0002row8_col1\" class=\"data row8 col1\" >3310</td>\n",
              "                        <td id=\"T_f6d51d36_df97_11e9_b10b_0242ac1c0002row8_col2\" class=\"data row8 col2\" >1</td>\n",
              "                        <td id=\"T_f6d51d36_df97_11e9_b10b_0242ac1c0002row8_col3\" class=\"data row8 col3\" >6</td>\n",
              "                        <td id=\"T_f6d51d36_df97_11e9_b10b_0242ac1c0002row8_col4\" class=\"data row8 col4\" >3.43958</td>\n",
              "            </tr>\n",
              "            <tr>\n",
              "                        <th id=\"T_f6d51d36_df97_11e9_b10b_0242ac1c0002level0_row9\" class=\"row_heading level0 row9\" >9</th>\n",
              "                        <td id=\"T_f6d51d36_df97_11e9_b10b_0242ac1c0002row9_col0\" class=\"data row9 col0\" >Tinto Fino</td>\n",
              "                        <td id=\"T_f6d51d36_df97_11e9_b10b_0242ac1c0002row9_col1\" class=\"data row9 col1\" >103</td>\n",
              "                        <td id=\"T_f6d51d36_df97_11e9_b10b_0242ac1c0002row9_col2\" class=\"data row9 col2\" >1</td>\n",
              "                        <td id=\"T_f6d51d36_df97_11e9_b10b_0242ac1c0002row9_col3\" class=\"data row9 col3\" >5</td>\n",
              "                        <td id=\"T_f6d51d36_df97_11e9_b10b_0242ac1c0002row9_col4\" class=\"data row9 col4\" >3.42718</td>\n",
              "            </tr>\n",
              "            <tr>\n",
              "                        <th id=\"T_f6d51d36_df97_11e9_b10b_0242ac1c0002level0_row10\" class=\"row_heading level0 row10\" >10</th>\n",
              "                        <td id=\"T_f6d51d36_df97_11e9_b10b_0242ac1c0002row10_col0\" class=\"data row10 col0\" >Tinta de Toro</td>\n",
              "                        <td id=\"T_f6d51d36_df97_11e9_b10b_0242ac1c0002row10_col1\" class=\"data row10 col1\" >169</td>\n",
              "                        <td id=\"T_f6d51d36_df97_11e9_b10b_0242ac1c0002row10_col2\" class=\"data row10 col2\" >1</td>\n",
              "                        <td id=\"T_f6d51d36_df97_11e9_b10b_0242ac1c0002row10_col3\" class=\"data row10 col3\" >5</td>\n",
              "                        <td id=\"T_f6d51d36_df97_11e9_b10b_0242ac1c0002row10_col4\" class=\"data row10 col4\" >3.42012</td>\n",
              "            </tr>\n",
              "            <tr>\n",
              "                        <th id=\"T_f6d51d36_df97_11e9_b10b_0242ac1c0002level0_row11\" class=\"row_heading level0 row11\" >11</th>\n",
              "                        <td id=\"T_f6d51d36_df97_11e9_b10b_0242ac1c0002row11_col0\" class=\"data row11 col0\" >Rhône-style Red Blend</td>\n",
              "                        <td id=\"T_f6d51d36_df97_11e9_b10b_0242ac1c0002row11_col1\" class=\"data row11 col1\" >1195</td>\n",
              "                        <td id=\"T_f6d51d36_df97_11e9_b10b_0242ac1c0002row11_col2\" class=\"data row11 col2\" >1</td>\n",
              "                        <td id=\"T_f6d51d36_df97_11e9_b10b_0242ac1c0002row11_col3\" class=\"data row11 col3\" >5</td>\n",
              "                        <td id=\"T_f6d51d36_df97_11e9_b10b_0242ac1c0002row11_col4\" class=\"data row11 col4\" >3.39749</td>\n",
              "            </tr>\n",
              "            <tr>\n",
              "                        <th id=\"T_f6d51d36_df97_11e9_b10b_0242ac1c0002level0_row12\" class=\"row_heading level0 row12\" >12</th>\n",
              "                        <td id=\"T_f6d51d36_df97_11e9_b10b_0242ac1c0002row12_col0\" class=\"data row12 col0\" >Grenache</td>\n",
              "                        <td id=\"T_f6d51d36_df97_11e9_b10b_0242ac1c0002row12_col1\" class=\"data row12 col1\" >643</td>\n",
              "                        <td id=\"T_f6d51d36_df97_11e9_b10b_0242ac1c0002row12_col2\" class=\"data row12 col2\" >1</td>\n",
              "                        <td id=\"T_f6d51d36_df97_11e9_b10b_0242ac1c0002row12_col3\" class=\"data row12 col3\" >5</td>\n",
              "                        <td id=\"T_f6d51d36_df97_11e9_b10b_0242ac1c0002row12_col4\" class=\"data row12 col4\" >3.37325</td>\n",
              "            </tr>\n",
              "            <tr>\n",
              "                        <th id=\"T_f6d51d36_df97_11e9_b10b_0242ac1c0002level0_row13\" class=\"row_heading level0 row13\" >13</th>\n",
              "                        <td id=\"T_f6d51d36_df97_11e9_b10b_0242ac1c0002row13_col0\" class=\"data row13 col0\" >Shiraz</td>\n",
              "                        <td id=\"T_f6d51d36_df97_11e9_b10b_0242ac1c0002row13_col1\" class=\"data row13 col1\" >551</td>\n",
              "                        <td id=\"T_f6d51d36_df97_11e9_b10b_0242ac1c0002row13_col2\" class=\"data row13 col2\" >1</td>\n",
              "                        <td id=\"T_f6d51d36_df97_11e9_b10b_0242ac1c0002row13_col3\" class=\"data row13 col3\" >6</td>\n",
              "                        <td id=\"T_f6d51d36_df97_11e9_b10b_0242ac1c0002row13_col4\" class=\"data row13 col4\" >3.36842</td>\n",
              "            </tr>\n",
              "            <tr>\n",
              "                        <th id=\"T_f6d51d36_df97_11e9_b10b_0242ac1c0002level0_row14\" class=\"row_heading level0 row14\" >14</th>\n",
              "                        <td id=\"T_f6d51d36_df97_11e9_b10b_0242ac1c0002row14_col0\" class=\"data row14 col0\" >Mourvèdre</td>\n",
              "                        <td id=\"T_f6d51d36_df97_11e9_b10b_0242ac1c0002row14_col1\" class=\"data row14 col1\" >212</td>\n",
              "                        <td id=\"T_f6d51d36_df97_11e9_b10b_0242ac1c0002row14_col2\" class=\"data row14 col2\" >1</td>\n",
              "                        <td id=\"T_f6d51d36_df97_11e9_b10b_0242ac1c0002row14_col3\" class=\"data row14 col3\" >5</td>\n",
              "                        <td id=\"T_f6d51d36_df97_11e9_b10b_0242ac1c0002row14_col4\" class=\"data row14 col4\" >3.36792</td>\n",
              "            </tr>\n",
              "            <tr>\n",
              "                        <th id=\"T_f6d51d36_df97_11e9_b10b_0242ac1c0002level0_row15\" class=\"row_heading level0 row15\" >15</th>\n",
              "                        <td id=\"T_f6d51d36_df97_11e9_b10b_0242ac1c0002row15_col0\" class=\"data row15 col0\" >G-S-M</td>\n",
              "                        <td id=\"T_f6d51d36_df97_11e9_b10b_0242ac1c0002row15_col1\" class=\"data row15 col1\" >184</td>\n",
              "                        <td id=\"T_f6d51d36_df97_11e9_b10b_0242ac1c0002row15_col2\" class=\"data row15 col2\" >1</td>\n",
              "                        <td id=\"T_f6d51d36_df97_11e9_b10b_0242ac1c0002row15_col3\" class=\"data row15 col3\" >5</td>\n",
              "                        <td id=\"T_f6d51d36_df97_11e9_b10b_0242ac1c0002row15_col4\" class=\"data row15 col4\" >3.33696</td>\n",
              "            </tr>\n",
              "            <tr>\n",
              "                        <th id=\"T_f6d51d36_df97_11e9_b10b_0242ac1c0002level0_row16\" class=\"row_heading level0 row16\" >16</th>\n",
              "                        <td id=\"T_f6d51d36_df97_11e9_b10b_0242ac1c0002row16_col0\" class=\"data row16 col0\" >Riesling</td>\n",
              "                        <td id=\"T_f6d51d36_df97_11e9_b10b_0242ac1c0002row16_col1\" class=\"data row16 col1\" >2406</td>\n",
              "                        <td id=\"T_f6d51d36_df97_11e9_b10b_0242ac1c0002row16_col2\" class=\"data row16 col2\" >1</td>\n",
              "                        <td id=\"T_f6d51d36_df97_11e9_b10b_0242ac1c0002row16_col3\" class=\"data row16 col3\" >5</td>\n",
              "                        <td id=\"T_f6d51d36_df97_11e9_b10b_0242ac1c0002row16_col4\" class=\"data row16 col4\" >3.32419</td>\n",
              "            </tr>\n",
              "            <tr>\n",
              "                        <th id=\"T_f6d51d36_df97_11e9_b10b_0242ac1c0002level0_row17\" class=\"row_heading level0 row17\" >17</th>\n",
              "                        <td id=\"T_f6d51d36_df97_11e9_b10b_0242ac1c0002row17_col0\" class=\"data row17 col0\" >Roussanne</td>\n",
              "                        <td id=\"T_f6d51d36_df97_11e9_b10b_0242ac1c0002row17_col1\" class=\"data row17 col1\" >153</td>\n",
              "                        <td id=\"T_f6d51d36_df97_11e9_b10b_0242ac1c0002row17_col2\" class=\"data row17 col2\" >1</td>\n",
              "                        <td id=\"T_f6d51d36_df97_11e9_b10b_0242ac1c0002row17_col3\" class=\"data row17 col3\" >5</td>\n",
              "                        <td id=\"T_f6d51d36_df97_11e9_b10b_0242ac1c0002row17_col4\" class=\"data row17 col4\" >3.31373</td>\n",
              "            </tr>\n",
              "            <tr>\n",
              "                        <th id=\"T_f6d51d36_df97_11e9_b10b_0242ac1c0002level0_row18\" class=\"row_heading level0 row18\" >18</th>\n",
              "                        <td id=\"T_f6d51d36_df97_11e9_b10b_0242ac1c0002row18_col0\" class=\"data row18 col0\" >Grenache Blanc</td>\n",
              "                        <td id=\"T_f6d51d36_df97_11e9_b10b_0242ac1c0002row18_col1\" class=\"data row18 col1\" >137</td>\n",
              "                        <td id=\"T_f6d51d36_df97_11e9_b10b_0242ac1c0002row18_col2\" class=\"data row18 col2\" >1</td>\n",
              "                        <td id=\"T_f6d51d36_df97_11e9_b10b_0242ac1c0002row18_col3\" class=\"data row18 col3\" >4</td>\n",
              "                        <td id=\"T_f6d51d36_df97_11e9_b10b_0242ac1c0002row18_col4\" class=\"data row18 col4\" >3.29927</td>\n",
              "            </tr>\n",
              "            <tr>\n",
              "                        <th id=\"T_f6d51d36_df97_11e9_b10b_0242ac1c0002level0_row19\" class=\"row_heading level0 row19\" >19</th>\n",
              "                        <td id=\"T_f6d51d36_df97_11e9_b10b_0242ac1c0002row19_col0\" class=\"data row19 col0\" >Sangiovese</td>\n",
              "                        <td id=\"T_f6d51d36_df97_11e9_b10b_0242ac1c0002row19_col1\" class=\"data row19 col1\" >2319</td>\n",
              "                        <td id=\"T_f6d51d36_df97_11e9_b10b_0242ac1c0002row19_col2\" class=\"data row19 col2\" >1</td>\n",
              "                        <td id=\"T_f6d51d36_df97_11e9_b10b_0242ac1c0002row19_col3\" class=\"data row19 col3\" >6</td>\n",
              "                        <td id=\"T_f6d51d36_df97_11e9_b10b_0242ac1c0002row19_col4\" class=\"data row19 col4\" >3.29668</td>\n",
              "            </tr>\n",
              "    </tbody></table>"
            ],
            "text/plain": [
              "<pandas.io.formats.style.Styler at 0x7fb9a94b1b38>"
            ]
          },
          "metadata": {
            "tags": []
          },
          "execution_count": 32
        }
      ]
    },
    {
      "cell_type": "code",
      "metadata": {
        "id": "QINzyo9uBX4x",
        "colab_type": "code",
        "colab": {
          "base_uri": "https://localhost:8080/",
          "height": 255
        },
        "outputId": "241317c7-3780-4095-9de2-024a04419cca"
      },
      "source": [
        "df.info()"
      ],
      "execution_count": 33,
      "outputs": [
        {
          "output_type": "stream",
          "text": [
            "<class 'pandas.core.frame.DataFrame'>\n",
            "Int64Index: 83684 entries, 2 to 141616\n",
            "Data columns (total 9 columns):\n",
            "country        83684 non-null object\n",
            "description    83684 non-null object\n",
            "points         83684 non-null int64\n",
            "price          83684 non-null float64\n",
            "province       83684 non-null object\n",
            "region_1       83684 non-null object\n",
            "variety        83684 non-null object\n",
            "winery         83684 non-null object\n",
            "rank           83684 non-null float64\n",
            "dtypes: float64(2), int64(1), object(6)\n",
            "memory usage: 8.9+ MB\n"
          ],
          "name": "stdout"
        }
      ]
    },
    {
      "cell_type": "markdown",
      "metadata": {
        "id": "dWjrpO7MCDlL",
        "colab_type": "text"
      },
      "source": [
        "**2.4.8 Winery & Rank**"
      ]
    },
    {
      "cell_type": "markdown",
      "metadata": {
        "id": "qd0qM2CBCHdz",
        "colab_type": "text"
      },
      "source": [
        "Since there are too many unique values in feature \"winery\" like \"designation\", which is not good for modelling. Thus, I will not select this feature for model training. "
      ]
    },
    {
      "cell_type": "code",
      "metadata": {
        "id": "B1_MqI3TCZzy",
        "colab_type": "code",
        "colab": {}
      },
      "source": [
        "df = df.drop(['winery'], axis = 1)"
      ],
      "execution_count": 0,
      "outputs": []
    },
    {
      "cell_type": "markdown",
      "metadata": {
        "id": "-_COouJcCpVy",
        "colab_type": "text"
      },
      "source": [
        "At the end, I selected feature \"price\", \"country\", \"province\", \"region_1\" and \"variety\" for input features. And \"rank\" will be my target feature. "
      ]
    },
    {
      "cell_type": "markdown",
      "metadata": {
        "id": "_2tTwVi-Ft6S",
        "colab_type": "text"
      },
      "source": [
        "### 2.5 Challenge\n",
        "\n",
        "There are two main challenges in this project so far. First, we can easily tell that the classification is apparently imbalanced. The class of 1, 5 and 6 (minority class) are with significantly lower ratio, around 8% intotal, compared to the other three classes (majority class). In this senario, the predictive model developed using traditional machine learning algorithms could be biased and inaccurate which is a big challenge in this project. This is clearly a problem because many machine learning algorithms are designed to maximize overall accuracy, but they do not take into account the class distribution or balance of classes. To solve this problem, I will apply different algorithms and try to use different metrics to evaluate them. \n",
        "\n",
        "Second, some of input features are objects rather than numbers, I will apply \"One Hot Encoding\" to convert these variables into an acceptable form for machine learning algorithms in prediction. Also, another challenge I faced is that the dimentions of these features are too many, over one thousand, which might cause extra burden for processing."
      ]
    },
    {
      "cell_type": "markdown",
      "metadata": {
        "id": "lqMwSOrAOBIK",
        "colab_type": "text"
      },
      "source": [
        "## 3. Methodology"
      ]
    },
    {
      "cell_type": "markdown",
      "metadata": {
        "id": "A9JI-7HEOUX0",
        "colab_type": "text"
      },
      "source": [
        "### 3.1 Algorithms Selection"
      ]
    },
    {
      "cell_type": "markdown",
      "metadata": {
        "id": "5sp1at35E2pH",
        "colab_type": "text"
      },
      "source": [
        "Considering our target label is imbalance. and decision trees frequently perform well on imbalanced data. Therefore, I decided to use decision tree to have a test. In additon, ensembled model like randonForest will be apllied. Random Forest is essentially a collection of Decision trees. The most significant difference between the two models is the way they utilise data. A decision tree is built on an entire dataset, using all variables of interest, while a Random forest randomly selects observations and variables to build multiple decision trees and then average the results. The advantage of a simple decision tree is the ease with interpreting the mode. Its accuracy keep improving with more splits but the data can easily be overfitted. For Random forest, the accuracy keep improving as the number of trees increases, but would eventually become constant at a certain point. The advantage is that it does not tend to create a highly biased model. Random forest will reduce variance part of error, thus on an unexpected validation data set, Random forest always wins in terms of accuracy.\n",
        "\n",
        "Also, LogisticRegression will be tested as well. Logistic regression is used when the dependent variable is a binary (dichotomous). It is used to explain the relationship between one dependent binary variable and one or more independent variables, which can be nominal, ordinal, interval or ratio. Logistic regression requires there should be no outliers in the data. The advantages of logistic regression is its efficiency, meaning it does not require too many computational resources. It is highly interpretable, easy to regularise and does not require any tuning. The disadvantage is that it cannot solve non-linear problems. It is also highly reliant on a proper presentation of data, which means it is not a useful tool unless all the important variables are identified. For logistic regression to work better, attributes that are unrelated to the output and that are very similar to each other should be removed. It can only be used to predict a categorical outcome since the outcome is discrete. \n"
      ]
    },
    {
      "cell_type": "markdown",
      "metadata": {
        "id": "WmnMLWnpOYGL",
        "colab_type": "text"
      },
      "source": [
        "### 3.2 Build and Train Data Models"
      ]
    },
    {
      "cell_type": "markdown",
      "metadata": {
        "id": "62VcqJ8bG_ur",
        "colab_type": "text"
      },
      "source": [
        "The size of train and test data will be 7 to 3. And I keep it all the same in three different algorithms. "
      ]
    },
    {
      "cell_type": "code",
      "metadata": {
        "id": "bLVxitr2hzgN",
        "colab_type": "code",
        "colab": {
          "base_uri": "https://localhost:8080/",
          "height": 34
        },
        "outputId": "1295e7f8-b684-4b08-f252-4c5c5fe808cb"
      },
      "source": [
        "from sklearn.model_selection import train_test_split\n",
        "\n",
        "x = df[['country', 'price', 'province', 'region_1', 'variety']]\n",
        "y = df['rank']\n",
        "x = pd.get_dummies(x, columns=['country', 'province', 'region_1', 'variety'])\n",
        "print(x.shape, y.shape)\n",
        "X_train, X_test, y_train, y_test = train_test_split(x, y, random_state=1, train_size=0.7)"
      ],
      "execution_count": 35,
      "outputs": [
        {
          "output_type": "stream",
          "text": [
            "(83684, 300) (83684,)\n"
          ],
          "name": "stdout"
        }
      ]
    },
    {
      "cell_type": "code",
      "metadata": {
        "id": "gHYPUxIFHY9R",
        "colab_type": "code",
        "colab": {
          "base_uri": "https://localhost:8080/",
          "height": 51
        },
        "outputId": "3fcc8614-29ac-43d3-8db8-b99bf4ce1c41"
      },
      "source": [
        "%%time\n",
        "from sklearn.tree import DecisionTreeClassifier\n",
        "clf = DecisionTreeClassifier()\n",
        "clf.fit(X_train, y_train)\n",
        "y_predictionofdt = clf.predict(X_train)"
      ],
      "execution_count": 36,
      "outputs": [
        {
          "output_type": "stream",
          "text": [
            "CPU times: user 1.72 s, sys: 53.1 ms, total: 1.77 s\n",
            "Wall time: 1.77 s\n"
          ],
          "name": "stdout"
        }
      ]
    },
    {
      "cell_type": "code",
      "metadata": {
        "id": "ELzWtJawIA9n",
        "colab_type": "code",
        "colab": {
          "base_uri": "https://localhost:8080/",
          "height": 85
        },
        "outputId": "ad2f2dfa-635c-48ab-8300-aab0fc6dc91d"
      },
      "source": [
        "%%time\n",
        "from sklearn.ensemble import RandomForestClassifier\n",
        "rfc_b = RandomForestClassifier(class_weight= None)\n",
        "rfc_b.fit(X_train,y_train)\n",
        "y_predictionofrfc = rfc_b.predict(X_train)\n"
      ],
      "execution_count": 37,
      "outputs": [
        {
          "output_type": "stream",
          "text": [
            "/usr/local/lib/python3.6/dist-packages/sklearn/ensemble/forest.py:245: FutureWarning: The default value of n_estimators will change from 10 in version 0.20 to 100 in 0.22.\n",
            "  \"10 in version 0.20 to 100 in 0.22.\", FutureWarning)\n"
          ],
          "name": "stderr"
        },
        {
          "output_type": "stream",
          "text": [
            "CPU times: user 3.08 s, sys: 5.58 ms, total: 3.09 s\n",
            "Wall time: 3.09 s\n"
          ],
          "name": "stdout"
        }
      ]
    },
    {
      "cell_type": "code",
      "metadata": {
        "id": "BpH4y6j8JDYc",
        "colab_type": "code",
        "colab": {
          "base_uri": "https://localhost:8080/",
          "height": 119
        },
        "outputId": "22c7dea0-df99-46c8-e539-b719a6abb8ab"
      },
      "source": [
        "%%time\n",
        "from sklearn.linear_model import LogisticRegression\n",
        "from sklearn.metrics import accuracy_score\n",
        "logreg = LogisticRegression()\n",
        "logreg.fit(X_train,y_train)\n",
        "y_predictionoflr = logreg.predict(X_train)\n"
      ],
      "execution_count": 38,
      "outputs": [
        {
          "output_type": "stream",
          "text": [
            "/usr/local/lib/python3.6/dist-packages/sklearn/linear_model/logistic.py:432: FutureWarning: Default solver will be changed to 'lbfgs' in 0.22. Specify a solver to silence this warning.\n",
            "  FutureWarning)\n",
            "/usr/local/lib/python3.6/dist-packages/sklearn/linear_model/logistic.py:469: FutureWarning: Default multi_class will be changed to 'auto' in 0.22. Specify the multi_class option to silence this warning.\n",
            "  \"this warning.\", FutureWarning)\n"
          ],
          "name": "stderr"
        },
        {
          "output_type": "stream",
          "text": [
            "CPU times: user 2 s, sys: 111 ms, total: 2.11 s\n",
            "Wall time: 1.95 s\n"
          ],
          "name": "stdout"
        }
      ]
    },
    {
      "cell_type": "markdown",
      "metadata": {
        "id": "4HHgWU9uO3eC",
        "colab_type": "text"
      },
      "source": [
        "## 4. Evaluation"
      ]
    },
    {
      "cell_type": "markdown",
      "metadata": {
        "id": "-qR1qRf0O8gH",
        "colab_type": "text"
      },
      "source": [
        "### 4.1 Metrics Selection for Evaluation"
      ]
    },
    {
      "cell_type": "markdown",
      "metadata": {
        "id": "QUsSY35qKhDK",
        "colab_type": "text"
      },
      "source": [
        "I selected a variety of different metrics for evaluation, such as accuracy_score, f1_score, confusion_matrix, recall_score, etc.\n",
        "\n",
        "When evaluating imbalanced dataset, accuracy score maybe is not the best metric. The other metrics mentioned below may provide better insight.\n",
        "\n",
        "A confusion matrix is a specific table layout that visualises the performance of an algorithm. It shows correct and incorrect predictions. Precision, also called Positive Predictive Value, is a measure of exactness. It is defined as the number of true positives divided by the number of total elements. A high number of false positives will result in a low precision. Recall, also known as Sensitivity,  is defined as the number of true positives divided by the number of all positives. It is a measure of the completeness of a classifier. Low recall usually indicates a relatively high number of false negatives. Last, the F1 score, is the weighted average of precision and recall."
      ]
    },
    {
      "cell_type": "code",
      "metadata": {
        "id": "bkD0C5bOKdBN",
        "colab_type": "code",
        "colab": {}
      },
      "source": [
        "from sklearn.metrics import accuracy_score, f1_score, confusion_matrix, recall_score, classification_report"
      ],
      "execution_count": 0,
      "outputs": []
    },
    {
      "cell_type": "markdown",
      "metadata": {
        "id": "eEknFyPIKwTM",
        "colab_type": "text"
      },
      "source": [
        "**4.1.1 Accuracy Score**"
      ]
    },
    {
      "cell_type": "markdown",
      "metadata": {
        "id": "HzrTCxxWN_TV",
        "colab_type": "text"
      },
      "source": [
        "***Accuracy Score of DecisionTree***"
      ]
    },
    {
      "cell_type": "code",
      "metadata": {
        "id": "LoNlT9SAiNH6",
        "colab_type": "code",
        "colab": {
          "base_uri": "https://localhost:8080/",
          "height": 51
        },
        "outputId": "121b8ea0-977d-48c0-b1f8-41ee850d9f68"
      },
      "source": [
        "print('DecisionTree train accuracy score:',accuracy_score(y_train,y_predictionofdt))\n",
        "print('DecisionTree test accuracy score:', accuracy_score(y_test,clf.predict(X_test)))"
      ],
      "execution_count": 40,
      "outputs": [
        {
          "output_type": "stream",
          "text": [
            "DecisionTree train accuracy score: 0.6917955546450886\n",
            "DecisionTree test accuracy score: 0.47367163227913645\n"
          ],
          "name": "stdout"
        }
      ]
    },
    {
      "cell_type": "markdown",
      "metadata": {
        "id": "agc84jzUN8ib",
        "colab_type": "text"
      },
      "source": [
        "***Accuracy Score of RandomForest***"
      ]
    },
    {
      "cell_type": "code",
      "metadata": {
        "id": "eGy4mYJDJWCg",
        "colab_type": "code",
        "colab": {
          "base_uri": "https://localhost:8080/",
          "height": 51
        },
        "outputId": "c2cea708-0aef-465a-e77e-018a6a1017b3"
      },
      "source": [
        "print('RandomForest train accuracy score:',accuracy_score(y_train,y_predictionofrfc))\n",
        "print('RandomForest test accuracy score:', accuracy_score(y_test,rfc_b.predict(X_test)))"
      ],
      "execution_count": 41,
      "outputs": [
        {
          "output_type": "stream",
          "text": [
            "RandomForest train accuracy score: 0.6833282119567073\n",
            "RandomForest test accuracy score: 0.4773759260734486\n"
          ],
          "name": "stdout"
        }
      ]
    },
    {
      "cell_type": "markdown",
      "metadata": {
        "id": "ncK4xz8CN3fv",
        "colab_type": "text"
      },
      "source": [
        "***Accuracy Score of LogisticRegression***"
      ]
    },
    {
      "cell_type": "code",
      "metadata": {
        "id": "QA1is7WiJkqc",
        "colab_type": "code",
        "colab": {
          "base_uri": "https://localhost:8080/",
          "height": 51
        },
        "outputId": "4f968c5d-1f46-4361-903b-37fc51cb53cf"
      },
      "source": [
        "print('LogisticRegression train accuracy score:',accuracy_score(y_train,y_predictionoflr))\n",
        "print('LogisticRegression test accuracy score:', accuracy_score(y_test,logreg.predict(X_test)))"
      ],
      "execution_count": 42,
      "outputs": [
        {
          "output_type": "stream",
          "text": [
            "LogisticRegression train accuracy score: 0.5132472942060159\n",
            "LogisticRegression test accuracy score: 0.5083645343742532\n"
          ],
          "name": "stdout"
        }
      ]
    },
    {
      "cell_type": "markdown",
      "metadata": {
        "id": "SYub9MpvLMN2",
        "colab_type": "text"
      },
      "source": [
        "**4.1.2 Confusion Matrix**"
      ]
    },
    {
      "cell_type": "markdown",
      "metadata": {
        "id": "MLSgpr_WNjlq",
        "colab_type": "text"
      },
      "source": [
        "***Confusion Matrix of DessionTree***"
      ]
    },
    {
      "cell_type": "code",
      "metadata": {
        "id": "6pNhXiEBMGO9",
        "colab_type": "code",
        "colab": {
          "base_uri": "https://localhost:8080/",
          "height": 414
        },
        "outputId": "44a6b0c1-eb2e-416f-df4b-2f78cd282706"
      },
      "source": [
        "cm1 = confusion_matrix(y_test,clf.predict(X_test))\n",
        "cm1 = cm1.astype('float') / cm1.sum(axis=1)[:, np.newaxis]\n",
        "plt.figure(figsize=(16,6))\n",
        "plt.imshow(cm1, interpolation='nearest', cmap=plt.cm.Reds)\n",
        "class_name = [\"Acceptable\", \"Good\", \"Very Good\", \"Excellent\", \"Superb\", \"Classic\"]\n",
        "plt.colorbar()\n",
        "tick_marks = np.arange(len(class_name))\n",
        "plt.xticks(tick_marks, class_name, rotation=45)\n",
        "plt.yticks(tick_marks, class_name)\n",
        "plt.show()"
      ],
      "execution_count": 43,
      "outputs": [
        {
          "output_type": "display_data",
          "data": {
            "image/png": "[encoded data removed]",
            "text/plain": [
              "<Figure size 1152x432 with 2 Axes>"
            ]
          },
          "metadata": {
            "tags": []
          }
        }
      ]
    },
    {
      "cell_type": "markdown",
      "metadata": {
        "id": "BB-rKSB9NqYB",
        "colab_type": "text"
      },
      "source": [
        "***Confusion Matrix of RandomForest***"
      ]
    },
    {
      "cell_type": "code",
      "metadata": {
        "id": "srPQwfyOM_sA",
        "colab_type": "code",
        "colab": {
          "base_uri": "https://localhost:8080/",
          "height": 414
        },
        "outputId": "9193ef06-9bf5-4e8a-f7c4-35ebb4bf969b"
      },
      "source": [
        "cm2 = confusion_matrix(y_test,rfc_b.predict(X_test))\n",
        "cm2 = cm2.astype('float') / cm2.sum(axis=1)[:, np.newaxis]\n",
        "plt.figure(figsize=(16,6))\n",
        "plt.imshow(cm2, interpolation='nearest', cmap=plt.cm.Blues)\n",
        "class_name = [\"Acceptable\", \"Good\", \"Very Good\", \"Excellent\", \"Superb\", \"Classic\"]\n",
        "plt.colorbar()\n",
        "tick_marks = np.arange(len(class_name))\n",
        "plt.xticks(tick_marks, class_name, rotation=45)\n",
        "plt.yticks(tick_marks, class_name)\n",
        "plt.show()"
      ],
      "execution_count": 44,
      "outputs": [
        {
          "output_type": "display_data",
          "data": {
            "image/png": "[encoded data removed]",
            "text/plain": [
              "<Figure size 1152x432 with 2 Axes>"
            ]
          },
          "metadata": {
            "tags": []
          }
        }
      ]
    },
    {
      "cell_type": "markdown",
      "metadata": {
        "id": "RMdURN1nNtbW",
        "colab_type": "text"
      },
      "source": [
        "***Confusion Matrix of LogisticRegression***"
      ]
    },
    {
      "cell_type": "code",
      "metadata": {
        "id": "hcqXJC7aNRo8",
        "colab_type": "code",
        "colab": {
          "base_uri": "https://localhost:8080/",
          "height": 414
        },
        "outputId": "a0b43cc7-21b5-440b-a2fa-2b147f452c46"
      },
      "source": [
        "cm3 = confusion_matrix(y_test,logreg.predict(X_test))\n",
        "cm3 = cm3.astype('float') / cm3.sum(axis=1)[:, np.newaxis]\n",
        "plt.figure(figsize=(16,6))\n",
        "plt.imshow(cm3, interpolation='nearest', cmap=plt.cm.Greens)\n",
        "class_name = [\"Acceptable\", \"Good\", \"Very Good\", \"Excellent\", \"Superb\", \"Classic\"]\n",
        "plt.colorbar()\n",
        "tick_marks = np.arange(len(class_name))\n",
        "plt.xticks(tick_marks, class_name, rotation=45)\n",
        "plt.yticks(tick_marks, class_name)\n",
        "plt.show()"
      ],
      "execution_count": 45,
      "outputs": [
        {
          "output_type": "display_data",
          "data": {
            "image/png": "[encoded data removed]",
            "text/plain": [
              "<Figure size 1152x432 with 2 Axes>"
            ]
          },
          "metadata": {
            "tags": []
          }
        }
      ]
    },
    {
      "cell_type": "markdown",
      "metadata": {
        "id": "sTvMcYi8K2aq",
        "colab_type": "text"
      },
      "source": [
        "**4.1.3 Classification Report (f1_score, recall_score)**"
      ]
    },
    {
      "cell_type": "markdown",
      "metadata": {
        "id": "jEFf59QsOIMX",
        "colab_type": "text"
      },
      "source": [
        "***Classification Report of DecisionTree***"
      ]
    },
    {
      "cell_type": "code",
      "metadata": {
        "id": "SBwXYQe_OVFc",
        "colab_type": "code",
        "colab": {
          "base_uri": "https://localhost:8080/",
          "height": 238
        },
        "outputId": "90565771-9f59-41b8-df62-19aaea88bb21"
      },
      "source": [
        "print(classification_report(y_test,clf.predict(X_test)))"
      ],
      "execution_count": 46,
      "outputs": [
        {
          "output_type": "stream",
          "text": [
            "              precision    recall  f1-score   support\n",
            "\n",
            "         1.0       0.09      0.06      0.07       570\n",
            "         2.0       0.43      0.46      0.45      5510\n",
            "         3.0       0.44      0.45      0.45      8621\n",
            "         4.0       0.55      0.58      0.56      9033\n",
            "         5.0       0.39      0.21      0.27      1353\n",
            "         6.0       0.10      0.05      0.07        19\n",
            "\n",
            "    accuracy                           0.47     25106\n",
            "   macro avg       0.33      0.30      0.31     25106\n",
            "weighted avg       0.47      0.47      0.47     25106\n",
            "\n"
          ],
          "name": "stdout"
        }
      ]
    },
    {
      "cell_type": "markdown",
      "metadata": {
        "id": "JUy0Tq9kOKvh",
        "colab_type": "text"
      },
      "source": [
        "***Classification Report of RandomForest***"
      ]
    },
    {
      "cell_type": "code",
      "metadata": {
        "id": "6Ki-8CklOjPm",
        "colab_type": "code",
        "colab": {
          "base_uri": "https://localhost:8080/",
          "height": 238
        },
        "outputId": "fcffa39d-691f-4d99-cd65-4df69514464e"
      },
      "source": [
        "print(classification_report(y_test,rfc_b.predict(X_test)))"
      ],
      "execution_count": 47,
      "outputs": [
        {
          "output_type": "stream",
          "text": [
            "              precision    recall  f1-score   support\n",
            "\n",
            "         1.0       0.13      0.06      0.08       570\n",
            "         2.0       0.45      0.41      0.43      5510\n",
            "         3.0       0.45      0.45      0.45      8621\n",
            "         4.0       0.54      0.61      0.57      9033\n",
            "         5.0       0.37      0.24      0.29      1353\n",
            "         6.0       0.25      0.21      0.23        19\n",
            "\n",
            "    accuracy                           0.48     25106\n",
            "   macro avg       0.36      0.33      0.34     25106\n",
            "weighted avg       0.47      0.48      0.47     25106\n",
            "\n"
          ],
          "name": "stdout"
        }
      ]
    },
    {
      "cell_type": "markdown",
      "metadata": {
        "id": "IQoWdLTWOEok",
        "colab_type": "text"
      },
      "source": [
        "***Classification Report of LogisticRegression***"
      ]
    },
    {
      "cell_type": "code",
      "metadata": {
        "id": "vlKi7y_7Or7Q",
        "colab_type": "code",
        "colab": {
          "base_uri": "https://localhost:8080/",
          "height": 272
        },
        "outputId": "3f6866a1-9438-47b2-d5d4-59a9e9513475"
      },
      "source": [
        "print(classification_report(y_test,logreg.predict(X_test)))"
      ],
      "execution_count": 48,
      "outputs": [
        {
          "output_type": "stream",
          "text": [
            "              precision    recall  f1-score   support\n",
            "\n",
            "         1.0       0.00      0.00      0.00       570\n",
            "         2.0       0.51      0.39      0.45      5510\n",
            "         3.0       0.47      0.50      0.48      8621\n",
            "         4.0       0.54      0.70      0.61      9033\n",
            "         5.0       0.61      0.02      0.04      1353\n",
            "         6.0       0.00      0.00      0.00        19\n",
            "\n",
            "    accuracy                           0.51     25106\n",
            "   macro avg       0.36      0.27      0.26     25106\n",
            "weighted avg       0.50      0.51      0.48     25106\n",
            "\n"
          ],
          "name": "stdout"
        },
        {
          "output_type": "stream",
          "text": [
            "/usr/local/lib/python3.6/dist-packages/sklearn/metrics/classification.py:1437: UndefinedMetricWarning: Precision and F-score are ill-defined and being set to 0.0 in labels with no predicted samples.\n",
            "  'precision', 'predicted', average, warn_for)\n"
          ],
          "name": "stderr"
        }
      ]
    },
    {
      "cell_type": "markdown",
      "metadata": {
        "id": "pxoHFguXP7Zu",
        "colab_type": "text"
      },
      "source": [
        "### 4.2 Performance Comparison "
      ]
    },
    {
      "cell_type": "markdown",
      "metadata": {
        "id": "6pa8zQ97PMRH",
        "colab_type": "text"
      },
      "source": [
        "\n",
        "Based on the results above, we can see there are slight difference between three different algorithms. However, the LogisticRegression performed better in all three different evaluation criteria. "
      ]
    },
    {
      "cell_type": "markdown",
      "metadata": {
        "id": "EeNUDPl_PcXo",
        "colab_type": "text"
      },
      "source": [
        "### **4.3 Efficiency Analysis**"
      ]
    },
    {
      "cell_type": "markdown",
      "metadata": {
        "id": "Cz1mXkLeUuDm",
        "colab_type": "text"
      },
      "source": [
        "As shown in modelling section, TecisionTree time cost is \"CPU times: user 1.65 s, sys: 1.45 ms, total: 1.65 s Wall time: 1.65 s\".\n",
        "\n",
        "RandomForest shows \"CPU times: user 3.08 s, sys: 1.53 ms, total: 3.08 s Wall time: 3.08 s\".\n",
        "\n",
        "LogisticRegression shows \"CPU times: user 2.07 s, sys: 55.1 ms, total: 2.13 s Wall time: 1.98 s\".\n",
        "\n",
        "Therefore, DecisionTree performed the highest efficiency. "
      ]
    },
    {
      "cell_type": "markdown",
      "metadata": {
        "id": "zmmpmEjlPxCw",
        "colab_type": "text"
      },
      "source": [
        "### 4.4 Comparative Study"
      ]
    },
    {
      "cell_type": "markdown",
      "metadata": {
        "id": "kxm3fn5GY_kI",
        "colab_type": "text"
      },
      "source": [
        "**Natural Language Processing (NLP)**"
      ]
    },
    {
      "cell_type": "markdown",
      "metadata": {
        "id": "zJnTYlHevgmX",
        "colab_type": "text"
      },
      "source": [
        "One reason that I chose this dataset is that it contains human reviews, which can be a practice of NLP. After guest lecture, I reviewed some papers about NLP. As I see, NLP is basically a text pre-processing and it converts text into vector format, which is easier for modelling. Normally, NLP includes couple steps, tokenization, stopwords, stemming and vectorization."
      ]
    },
    {
      "cell_type": "code",
      "metadata": {
        "id": "q3vqUAzNZDOQ",
        "colab_type": "code",
        "colab": {}
      },
      "source": [
        "from sklearn.feature_extraction import text\n",
        "from sklearn.feature_extraction.text import TfidfVectorizer\n",
        "from nltk.tokenize import RegexpTokenizer\n",
        "from nltk.stem.snowball import SnowballStemmer\n",
        "import nltk"
      ],
      "execution_count": 0,
      "outputs": []
    },
    {
      "cell_type": "markdown",
      "metadata": {
        "id": "uqvGrP6gnxfL",
        "colab_type": "text"
      },
      "source": [
        ""
      ]
    },
    {
      "cell_type": "markdown",
      "metadata": {
        "id": "46zAekngpJDc",
        "colab_type": "text"
      },
      "source": [
        "***Pre-process text***"
      ]
    },
    {
      "cell_type": "code",
      "metadata": {
        "id": "rLL08qg4ZTYW",
        "colab_type": "code",
        "colab": {}
      },
      "source": [
        "punc = ['.', ',', '\"', \"'\", '?', '!', ':', ';', '(', ')', '[', ']', '{', '}',\"%\"]\n",
        "stop_words = text.ENGLISH_STOP_WORDS.union(punc)\n",
        "description = df['description'].values\n",
        "vectorizer = TfidfVectorizer(stop_words = stop_words)\n",
        "X = vectorizer.fit_transform(description)\n",
        "y = df['rank']"
      ],
      "execution_count": 0,
      "outputs": []
    },
    {
      "cell_type": "markdown",
      "metadata": {
        "id": "TRUw736ensKl",
        "colab_type": "text"
      },
      "source": [
        "***Training model***"
      ]
    },
    {
      "cell_type": "code",
      "metadata": {
        "id": "6n3FojQ1l2Of",
        "colab_type": "code",
        "colab": {}
      },
      "source": [
        "# Training model\n",
        "X_train, X_test, y_train, y_test = train_test_split(X, y, random_state=1, train_size=0.7)\n",
        "rfc = RandomForestClassifier()\n",
        "rfc.fit(X_train, y_train)\n",
        "\n",
        "# Testing model\n",
        "predictions = rfc.predict(X_test)"
      ],
      "execution_count": 0,
      "outputs": []
    },
    {
      "cell_type": "code",
      "metadata": {
        "id": "eb1bOXKYnqVv",
        "colab_type": "code",
        "colab": {
          "base_uri": "https://localhost:8080/",
          "height": 34
        },
        "outputId": "8f642309-4c64-4526-f0b7-d4720c043783"
      },
      "source": [
        "print('NLP test accuracy score:', accuracy_score(y_test,predictions))"
      ],
      "execution_count": 58,
      "outputs": [
        {
          "output_type": "stream",
          "text": [
            "NLP test accuracy score: 0.5307894527204652\n"
          ],
          "name": "stdout"
        }
      ]
    },
    {
      "cell_type": "code",
      "metadata": {
        "id": "NOl-2evLm5yT",
        "colab_type": "code",
        "colab": {
          "base_uri": "https://localhost:8080/",
          "height": 272
        },
        "outputId": "3d09d4e3-d38e-46e0-d19d-7c8ac0dd673d"
      },
      "source": [
        "print(classification_report(y_test, predictions))"
      ],
      "execution_count": 59,
      "outputs": [
        {
          "output_type": "stream",
          "text": [
            "              precision    recall  f1-score   support\n",
            "\n",
            "         1.0       0.50      0.11      0.18       570\n",
            "         2.0       0.52      0.53      0.52      5510\n",
            "         3.0       0.48      0.50      0.49      8621\n",
            "         4.0       0.58      0.67      0.62      9033\n",
            "         5.0       0.43      0.02      0.04      1353\n",
            "         6.0       0.00      0.00      0.00        19\n",
            "\n",
            "    accuracy                           0.53     25106\n",
            "   macro avg       0.42      0.30      0.31     25106\n",
            "weighted avg       0.52      0.53      0.51     25106\n",
            "\n"
          ],
          "name": "stdout"
        },
        {
          "output_type": "stream",
          "text": [
            "/usr/local/lib/python3.6/dist-packages/sklearn/metrics/classification.py:1437: UndefinedMetricWarning: Precision and F-score are ill-defined and being set to 0.0 in labels with no predicted samples.\n",
            "  'precision', 'predicted', average, warn_for)\n"
          ],
          "name": "stderr"
        }
      ]
    },
    {
      "cell_type": "markdown",
      "metadata": {
        "id": "cEvMLAhCpN47",
        "colab_type": "text"
      },
      "source": [
        "With a simple pre-process and vectorization, text feature \"description\" performed a higher accuracy than three algorithms I tried previously. However, this \"baby version\" NLP is poorly desighed due to time limit."
      ]
    },
    {
      "cell_type": "markdown",
      "metadata": {
        "id": "cFiKN-CHQSWU",
        "colab_type": "text"
      },
      "source": [
        "## 5. Conclusion"
      ]
    },
    {
      "cell_type": "markdown",
      "metadata": {
        "id": "Ha8mter2QYiC",
        "colab_type": "text"
      },
      "source": [
        "### 5.1 Reflections"
      ]
    },
    {
      "cell_type": "markdown",
      "metadata": {
        "id": "T-bVjPLFV8Hc",
        "colab_type": "text"
      },
      "source": [
        "Based on previous work in this project, I found that the predictive model is actually work on this wine dataset. All of three algorithms applied in this model performed well and could give a relatively acceptable accuracy based on input columns. However, since I am still a beginner in machine learning world, there is a lot of improvement I could make to polish my predictive model. Last but not least, it is a pity that I did not spend more time on NLP for feature \"description\"."
      ]
    },
    {
      "cell_type": "markdown",
      "metadata": {
        "id": "DscmHWooQcRN",
        "colab_type": "text"
      },
      "source": [
        "### 5.2 Future Improvements"
      ]
    },
    {
      "cell_type": "markdown",
      "metadata": {
        "id": "UTfFUIh2GOVM",
        "colab_type": "text"
      },
      "source": [
        "A lot of improvement are needed for this project. I think of few points after I finished previous work, shown as below.\n",
        "\n",
        "1.\tNormalization of price \n",
        "\n",
        "Normalization of feature \"price\" can be tried next time, it might help to increase correlation with rank.\n",
        "\n",
        "2.\tImbalanced target output\n",
        "\n",
        "I mentioned this challenge when I set up the output feature \"rank\". However, I feel like more work should have been done to further solve this issue. For instance, over-sampling minority class might help with classification and prediction. \n",
        "\n",
        "3.\tOther algorithms \n",
        "\n",
        "Some other algorithms like K-Nearest Neighbors and XGBoost should have been applied to percome a comparative study. \n",
        "\n",
        "4.\tTune parameters \n",
        "\n",
        "I did not spend a lot of time on tuning parameters when applying algorithms. I will spend more time on this in future work to find the optimal parameters. \n",
        "\n",
        "5.\tNPL \n",
        "\n",
        "Like I mentioned above, I feel it is a shame that I could not show a more ideal NPL work in this project. However, it is a really good dataset for me to practice. \n"
      ]
    },
    {
      "cell_type": "markdown",
      "metadata": {
        "id": "N0fe6fUxQir-",
        "colab_type": "text"
      },
      "source": [
        "## 6. Ethical Discussion "
      ]
    },
    {
      "cell_type": "markdown",
      "metadata": {
        "id": "L8fUWbp9bhV-",
        "colab_type": "text"
      },
      "source": [
        "The successful adoption of the developed classification solutions requires certain ethical behaviours of participating wine producers. They are supposed to provide genuine and precise description of their products. Failure to do so may impair the accuracy of recommendations. \n",
        "\n",
        "One can easily think of possible scenarios where such technique is misused by participating stakeholders. A certain producer, for example, intentionally alters the description of their product so that it resembles the description of a high-quality wine of a different brand. The altered description is no longer a genuine nor precise, but merely a means of achieving a high rating by copying a high-quality wine. When analysed using a utilitarian approach, such behaviour will benefit the dishonest producer temporarily by attracting more consumers, at the cost of impairing the benefits of consumers and other producers. This behaviour is probably also detrimental for the culprit producer in the long term. The deceived consumers will eventually learn the real quality of the wine after they have tasted it.\n",
        "\n",
        "Winemakers can also take advantage of this technique by meeting only the few standards that would qualify them as good wine. For example, if wine produced at a certain region with a specific type of  grape is largely rated as high scores, winemakers may choose to base their factories in the same region with the same varietal of grapes. This way their products can be given a high score, regardless of their actual wine making techniques. Similarly, from a utilitarian perspective, such behaviours only benefit the cunning wine producer by giving them a ‘fake’ high score. The benefits of other producers and consumers will be compromised.\n"
      ]
    },
    {
      "cell_type": "markdown",
      "metadata": {
        "id": "soV04zn5gDyd",
        "colab_type": "text"
      },
      "source": [
        "## 7. Reference"
      ]
    },
    {
      "cell_type": "markdown",
      "metadata": {
        "id": "TKWcJecBgHlu",
        "colab_type": "text"
      },
      "source": [
        "[1] Research, Z.M. 2018, Global Wine Market Will Reach USD 423.59 Billion by 2023: Zion Market Research, globenewswire, 2019, <https://www.globenewswire.com/news-release/2018/04/09/1467083/0/en/Global-Wine-Market-Will-Reach-USD-423-59-Billion-by-2023-Zion-Market-Research.html>.\n",
        "\n",
        "[2] Statistics, A.B.o. 2019, 4307.0.55.001 - Apparent Consumption of Alcohol, Australia, 2017-18, Australian Bureau of Statistics, 2019, <https://www.abs.gov.au/ausstats/abs@.nsf/mf/4307.0.55.001>.\n",
        "\n",
        "[3] Alcoholism, N.I.o.A.A.a., Drinking Levels Defined, National Institute on Alcohol Abuse and Alcoholism, 2019, <https://www.niaaa.nih.gov/alcohol-health/overview-alcohol-consumption/moderate-binge-drinking>.\n",
        "\n",
        "[4] Er, Y. & Atasoy, A. 2016, 'The classification of white wine and red wine according to their physicochemical qualities', International Journal of Intelligent Systems and Applications in Engineering, pp. 23-6.\n",
        "\n",
        "[5] Chen, B., Rhodes, C., Crawford, A. & Hambuchen, L. 2014, 'Wineinformatics: applying data mining on wine sensory reviews processed by the computational wine wheel', 2014 IEEE International Conference on Data Mining Workshop, IEEE, pp. 142-9.\n",
        "\n",
        "\n",
        "\n",
        "\n",
        "\n",
        "\n",
        "\n"
      ]
    }
  ]
}